{
  "cells": [
    {
      "cell_type": "markdown",
      "id": "1a7ca0c1-2c66-45a5-b3db-b6432d6a720c",
      "metadata": {
        "id": "1a7ca0c1-2c66-45a5-b3db-b6432d6a720c"
      },
      "source": [
        "# Experiments for DeepEA\n",
        "\n",
        "This notebook runs both the vanilla EA and the deep EA for comparison of convergence.\n",
        "\n",
        "Please see the src folder for source code, there is also a poster under data."
      ]
    },
    {
      "cell_type": "code",
      "source": [
        "# only run this if on colab\n",
        "from google.colab import drive\n",
        "import sys\n",
        "drive.mount('/content/drive')\n",
        "sys.path.append('/content/drive/MyDrive/Current_Activities/DeepEA')  # change this to your directory containing src"
      ],
      "metadata": {
        "colab": {
          "base_uri": "https://localhost:8080/"
        },
        "id": "vThgmzJwY1c_",
        "outputId": "3ae67b5e-a364-4ca9-ef7a-344c745a2299"
      },
      "id": "vThgmzJwY1c_",
      "execution_count": null,
      "outputs": [
        {
          "output_type": "stream",
          "name": "stdout",
          "text": [
            "Mounted at /content/drive\n"
          ]
        }
      ]
    },
    {
      "cell_type": "code",
      "execution_count": null,
      "id": "d942dd85-eb05-4ab4-b224-ab4c8a6681be",
      "metadata": {
        "id": "d942dd85-eb05-4ab4-b224-ab4c8a6681be"
      },
      "outputs": [],
      "source": [
        "from src.problems.tsp import TSP\n",
        "from src.ea.optimizer import Optimizer, OptimizerMode\n",
        "import json\n",
        "\n",
        "DEVICE = 'cuda'\n",
        "DEPTH = 16"
      ]
    },
    {
      "cell_type": "code",
      "execution_count": null,
      "id": "0ba69b91-9308-499a-948b-23aaf855c380",
      "metadata": {
        "id": "0ba69b91-9308-499a-948b-23aaf855c380"
      },
      "outputs": [],
      "source": [
        "import matplotlib.pyplot as plt\n",
        "\n",
        "def plot_histories(h1, h2, save_name):\n",
        "    # data\n",
        "    x1 = h1['generation']\n",
        "    y1 = h1['loss']\n",
        "    x2 = h2['generation']\n",
        "    y2 = h2['loss']\n",
        "    \n",
        "    # Plotting the two lines with different colors\n",
        "    fig, ax = plt.subplots(figsize=(10, 6))\n",
        "    ax.plot(x1, y1, color='blue', label='VanillaEA')\n",
        "    ax.plot(x2, y2, color='green', label='DeepEA')\n",
        "\n",
        "    # Adding title and legend\n",
        "    ax.set_title('Convergence Processes of VanillaEA and DeepEA')\n",
        "    ax.legend()\n",
        "\n",
        "    # Displaying the plot\n",
        "    plt.show()\n",
        "    fig.savefig(save_name, dpi=300)\n",
        "    "
      ]
    },
    {
      "cell_type": "markdown",
      "id": "f7e14096-536b-41f9-af1f-087c67b08384",
      "metadata": {
        "id": "f7e14096-536b-41f9-af1f-087c67b08384"
      },
      "source": [
        "## Trial 1 : 16-Nodes TSP, 16 depth"
      ]
    },
    {
      "cell_type": "markdown",
      "id": "201f0fce-5601-487e-ae86-c63d03d61950",
      "metadata": {
        "id": "201f0fce-5601-487e-ae86-c63d03d61950"
      },
      "source": [
        "Setup: we are only only use verbose mode in trial 1 to better illustrate the optimization process."
      ]
    },
    {
      "cell_type": "code",
      "execution_count": null,
      "id": "0ce68639-4c7a-4a0b-aca4-a14f35e88819",
      "metadata": {
        "id": "0ce68639-4c7a-4a0b-aca4-a14f35e88819"
      },
      "outputs": [],
      "source": [
        "tsp_p = TSP(cities=16)  # TSP problem\n",
        "# optimizers\n",
        "vanilla_optimizer = Optimizer(tsp_p, mode=OptimizerMode.VANILLA, device=DEVICE, verbose=True)\n",
        "deep_optimizer = Optimizer(tsp_p, mode=OptimizerMode.MLP, depth=DEPTH, device=DEVICE, verbose=True)"
      ]
    },
    {
      "cell_type": "markdown",
      "id": "f5811beb-7cfe-46c6-97ab-044457b877ea",
      "metadata": {
        "id": "f5811beb-7cfe-46c6-97ab-044457b877ea"
      },
      "source": [
        "Vanilla Optimization"
      ]
    },
    {
      "cell_type": "code",
      "execution_count": null,
      "id": "87398798-153b-436d-9d9d-b66aadb28229",
      "metadata": {
        "colab": {
          "base_uri": "https://localhost:8080/",
          "height": 1000
        },
        "id": "87398798-153b-436d-9d9d-b66aadb28229",
        "outputId": "69e136b2-e17f-4631-84d4-d2a3268595e7"
      },
      "outputs": [
        {
          "output_type": "stream",
          "name": "stdout",
          "text": [
            "Initialized EA: 10000 population, 50 elites, VANILLA mode.\n",
            "Stopping Condition: loss delta less than 1e-06 for 20 generations.\n",
            "\n",
            "Problem Type: Travelling Salesman\n",
            "Parameters: 16 cities, NORMAL distribution\n",
            "\n",
            "Evolving\n",
            "Current Generation: 10\n",
            "\n",
            "Best Candidate:\n",
            "Sequence: [ 6  5 13 12  4  8  1  3  2 10  9 15 14 11  7  0]\n",
            "Fitness(Loss): -13.6080\n",
            "Crossover Probs: None\n",
            "Mutation Rate: None\n",
            "\n",
            "Loss: 13.608041996260548\n",
            "\n",
            "Current Generation: 20\n",
            "\n",
            "Best Candidate:\n",
            "Sequence: [ 0  6  5 13 12  4  8  1  3  2 10  9 15 14 11  7]\n",
            "Fitness(Loss): -13.6080\n",
            "Crossover Probs: None\n",
            "Mutation Rate: None\n",
            "\n",
            "Loss: 13.608041996260548\n",
            "\n",
            "\n",
            "Convergence reached:\n",
            "\n",
            "Results written to /content/[17-04-2023-15:09:14]-history.json.\n",
            "\n",
            "Current Generation: 27\n",
            "\n",
            "Best Candidate:\n",
            "Sequence: [ 6  5 13 12  4  8  1  3  2 10  9 15 14 11  7  0]\n",
            "Fitness(Loss): -13.6080\n",
            "Crossover Probs: None\n",
            "Mutation Rate: None\n",
            "\n",
            "Loss: 13.608041996260548\n",
            "\n"
          ]
        },
        {
          "output_type": "display_data",
          "data": {
            "text/plain": [
              "<Figure size 640x480 with 0 Axes>"
            ]
          },
          "metadata": {}
        }
      ],
      "source": [
        "vanilla_history = vanilla_optimizer.fit()"
      ]
    },
    {
      "cell_type": "markdown",
      "id": "eeb048ca-0f87-491a-b670-0a6dd3812bb5",
      "metadata": {
        "id": "eeb048ca-0f87-491a-b670-0a6dd3812bb5"
      },
      "source": [
        "Deep Optimization"
      ]
    },
    {
      "cell_type": "code",
      "execution_count": null,
      "id": "5869ae6b-f69d-48f1-8a8a-6c9c92e2b9d1",
      "metadata": {
        "colab": {
          "base_uri": "https://localhost:8080/",
          "height": 1000
        },
        "id": "5869ae6b-f69d-48f1-8a8a-6c9c92e2b9d1",
        "outputId": "763b7047-8f20-4ef4-b6a6-41fec2e05fc7"
      },
      "outputs": [
        {
          "output_type": "stream",
          "name": "stdout",
          "text": [
            "Initialized EA: 10000 population, 50 elites, MLP mode.\n",
            "Stopping Condition: loss delta less than 1e-06 for 20 generations.\n",
            "\n",
            "Problem Type: Travelling Salesman\n",
            "Parameters: 16 cities, NORMAL distribution\n",
            "\n",
            "Evolving\n",
            "\n",
            "Training MLP GAN, Generation 3:\n",
            "\n",
            "Epoch 2 loss: 0.20260924100875854\n",
            "Epoch 4 loss: 0.18395556509494781\n",
            "Epoch 6 loss: 0.13490448892116547\n",
            "Epoch 8 loss: 7.202972483355552e-05\n",
            "Epoch 10 loss: 7.347694190684706e-05\n",
            "Training Complete.\n",
            "\n",
            "\n",
            "Training MLP GAN, Generation 6:\n",
            "\n",
            "Epoch 2 loss: 6.934577686479315e-05\n",
            "Epoch 4 loss: 7.974206528160721e-05\n",
            "Epoch 6 loss: 7.299568824237213e-05\n",
            "Epoch 8 loss: 6.666880653938279e-05\n",
            "Training Complete.\n",
            "\n",
            "\n",
            "Training MLP GAN, Generation 9:\n",
            "\n",
            "Epoch 2 loss: 6.306430441327393e-05\n",
            "Epoch 4 loss: 7.652059139218181e-05\n",
            "Training Complete.\n",
            "\n",
            "Current Generation: 10\n",
            "\n",
            "Best Candidate:\n",
            "Sequence: [ 8 12 15 14 11  7  0  6  5 13  4  3  2 10  9  1]\n",
            "Fitness(Loss): -13.7360\n",
            "Crossover Probs: [0.0000000e+00 0.0000000e+00 0.0000000e+00 0.0000000e+00 0.0000000e+00\n",
            " 2.8801494e-04 1.7202794e-04 0.0000000e+00 1.9173560e-05 0.0000000e+00\n",
            " 1.8382474e-04 3.3695882e-04 0.0000000e+00 0.0000000e+00 0.0000000e+00\n",
            " 0.0000000e+00 0.0000000e+00 0.0000000e+00 7.6851684e-05 0.0000000e+00\n",
            " 0.0000000e+00 6.3751964e-04 1.3990362e-05 0.0000000e+00 0.0000000e+00\n",
            " 0.0000000e+00 2.3131911e-04 0.0000000e+00 0.0000000e+00 0.0000000e+00\n",
            " 0.0000000e+00 4.0319232e-05]\n",
            "Mutation Rate: 0.00046096619917079806\n",
            "\n",
            "Loss: 13.735994140398846\n",
            "\n",
            "\n",
            "Training MLP GAN, Generation 12:\n",
            "\n",
            "Epoch 2 loss: 8.66249538375996e-05\n",
            "Epoch 4 loss: 8.36175458971411e-05\n",
            "Training Complete.\n",
            "\n",
            "\n",
            "Training MLP GAN, Generation 15:\n",
            "\n",
            "Epoch 2 loss: 6.964858039282262e-05\n",
            "Epoch 4 loss: 7.463184010703117e-05\n",
            "Epoch 6 loss: 7.320691656786948e-05\n",
            "Training Complete.\n",
            "\n",
            "\n",
            "Training MLP GAN, Generation 18:\n",
            "\n",
            "Epoch 2 loss: 8.013298065634444e-05\n",
            "Epoch 4 loss: 6.69597793603316e-05\n",
            "Training Complete.\n",
            "\n",
            "Current Generation: 20\n",
            "\n",
            "Best Candidate:\n",
            "Sequence: [ 8 12 15 14 11  7  0  6  5 13  4  3  2 10  9  1]\n",
            "Fitness(Loss): -13.7360\n",
            "Crossover Probs: [0.0000000e+00 0.0000000e+00 1.3322568e-04 1.4169085e-05 0.0000000e+00\n",
            " 0.0000000e+00 1.4807310e-04 0.0000000e+00 0.0000000e+00 0.0000000e+00\n",
            " 0.0000000e+00 2.2893003e-04 2.8961504e-04 1.8598710e-04 0.0000000e+00\n",
            " 0.0000000e+00 8.7310902e-05 3.2206610e-04 0.0000000e+00 0.0000000e+00\n",
            " 0.0000000e+00 1.1391706e-04 0.0000000e+00 3.3259692e-04 1.3825326e-04\n",
            " 0.0000000e+00 0.0000000e+00 0.0000000e+00 5.8558144e-06 0.0000000e+00\n",
            " 0.0000000e+00 0.0000000e+00]\n",
            "Mutation Rate: 0.00043537732562981546\n",
            "\n",
            "Loss: 13.735994140398846\n",
            "\n",
            "\n",
            "Training MLP GAN, Generation 21:\n",
            "\n",
            "Epoch 2 loss: 7.578360964544117e-05\n",
            "Epoch 4 loss: 5.908542880206369e-05\n",
            "Epoch 6 loss: 6.563177157659084e-05\n",
            "Epoch 8 loss: 7.866122177802026e-05\n",
            "Epoch 10 loss: 7.523643580498174e-05\n",
            "Training Complete.\n",
            "\n",
            "\n",
            "Training MLP GAN, Generation 24:\n",
            "\n",
            "Epoch 2 loss: 6.753622437827289e-05\n",
            "Epoch 4 loss: 7.072386506479234e-05\n",
            "Epoch 6 loss: 7.293814269360155e-05\n",
            "Training Complete.\n",
            "\n",
            "\n",
            "Convergence reached:\n",
            "\n",
            "Results written to /content/[17-04-2023-15:10:09]-history.json.\n",
            "\n",
            "Current Generation: 26\n",
            "\n",
            "Best Candidate:\n",
            "Sequence: [ 8 12 15 14 11  7  0  6  5 13  4  3  2 10  9  1]\n",
            "Fitness(Loss): -13.7360\n",
            "Crossover Probs: [0.00000000e+00 0.00000000e+00 1.33225636e-04 1.41691235e-05\n",
            " 0.00000000e+00 0.00000000e+00 1.48072941e-04 0.00000000e+00\n",
            " 0.00000000e+00 0.00000000e+00 0.00000000e+00 2.28930177e-04\n",
            " 2.89615040e-04 1.85987097e-04 0.00000000e+00 0.00000000e+00\n",
            " 8.73107274e-05 3.22066160e-04 0.00000000e+00 0.00000000e+00\n",
            " 0.00000000e+00 1.13916911e-04 0.00000000e+00 3.32597061e-04\n",
            " 1.38253294e-04 0.00000000e+00 0.00000000e+00 0.00000000e+00\n",
            " 5.85589714e-06 0.00000000e+00 0.00000000e+00 0.00000000e+00]\n",
            "Mutation Rate: 0.00043537741294130683\n",
            "\n",
            "Loss: 13.735994140398846\n",
            "\n"
          ]
        },
        {
          "output_type": "display_data",
          "data": {
            "text/plain": [
              "<Figure size 640x480 with 0 Axes>"
            ]
          },
          "metadata": {}
        }
      ],
      "source": [
        "deep_history = deep_optimizer.fit()"
      ]
    },
    {
      "cell_type": "markdown",
      "id": "2aa7c62d-9ecc-4264-a684-d264fc778b14",
      "metadata": {
        "id": "2aa7c62d-9ecc-4264-a684-d264fc778b14"
      },
      "source": [
        "Plotting"
      ]
    },
    {
      "cell_type": "code",
      "execution_count": null,
      "id": "f8f41c52-2cdb-472a-9afc-c8892ca31e2e",
      "metadata": {
        "id": "f8f41c52-2cdb-472a-9afc-c8892ca31e2e"
      },
      "outputs": [],
      "source": [
        "with open(vanilla_history, 'r') as f:\n",
        "    vanilla_history = json.load(f)\n",
        "with open(deep_history, 'r') as f:\n",
        "    deep_history = json.load(f)"
      ]
    },
    {
      "cell_type": "code",
      "execution_count": null,
      "id": "084715a3-7af2-4ccb-874e-579131f48691",
      "metadata": {
        "colab": {
          "base_uri": "https://localhost:8080/",
          "height": 545
        },
        "id": "084715a3-7af2-4ccb-874e-579131f48691",
        "outputId": "63ca0b50-f488-4cbb-eef1-c448ea1ee539"
      },
      "outputs": [
        {
          "output_type": "display_data",
          "data": {
            "text/plain": [
              "<Figure size 1000x600 with 1 Axes>"
            ],
            "image/png": "[encoded data removed]"
          },
          "metadata": {}
        }
      ],
      "source": [
        "plot_histories(vanilla_history, deep_history, '16-cities.png')"
      ]
    },
    {
      "cell_type": "markdown",
      "metadata": {
        "id": "aBHQVPIOvdL0"
      },
      "source": [
        "## Trial 2 : 28-Nodes TSP, 16 depth"
      ],
      "id": "aBHQVPIOvdL0"
    },
    {
      "cell_type": "markdown",
      "metadata": {
        "id": "IlmOJO8IvdL0"
      },
      "source": [
        "Setup: we are only only use verbose mode in trial 1 to better illustrate the optimization process."
      ],
      "id": "IlmOJO8IvdL0"
    },
    {
      "cell_type": "code",
      "execution_count": null,
      "metadata": {
        "id": "x7-P7vGIvdL1"
      },
      "outputs": [],
      "source": [
        "tsp_p = TSP(cities=28)  # TSP problem\n",
        "# optimizers\n",
        "vanilla_optimizer = Optimizer(tsp_p, mode=OptimizerMode.VANILLA, device=DEVICE, verbose=False)\n",
        "deep_optimizer = Optimizer(tsp_p, mode=OptimizerMode.MLP, depth=DEPTH, device=DEVICE, verbose=False)"
      ],
      "id": "x7-P7vGIvdL1"
    },
    {
      "cell_type": "markdown",
      "metadata": {
        "id": "ZOprkfMdvdL1"
      },
      "source": [
        "Vanilla Optimization"
      ],
      "id": "ZOprkfMdvdL1"
    },
    {
      "cell_type": "code",
      "execution_count": null,
      "metadata": {
        "colab": {
          "base_uri": "https://localhost:8080/",
          "height": 571
        },
        "id": "wmbM3DfEvdL2",
        "outputId": "7f123de3-7a8f-4cb7-ac27-3e5fbec65b17"
      },
      "outputs": [
        {
          "output_type": "stream",
          "name": "stdout",
          "text": [
            "Initialized EA: 10000 population, 50 elites, VANILLA mode.\n",
            "Stopping Condition: loss delta less than 1e-06 for 20 generations.\n",
            "\n",
            "Problem Type: Travelling Salesman\n",
            "Parameters: 28 cities, NORMAL distribution\n",
            "\n",
            "Evolving\n",
            "...........................................................\n",
            "Convergence reached:\n",
            "\n",
            "Results written to /content/[17-04-2023-15:11:16]-history.json.\n",
            "\n",
            "Current Generation: 59\n",
            "\n",
            "Best Candidate:\n",
            "Sequence: [23  8  3 22 12  1 10 21 27 26 17  6 13 20 14 18  4  9 24 19  7  5 15 25\n",
            "  0  2 11 16]\n",
            "Fitness(Loss): -19.2120\n",
            "Crossover Probs: None\n",
            "Mutation Rate: None\n",
            "\n",
            "Loss: 19.211974659138598\n",
            "\n"
          ]
        },
        {
          "output_type": "display_data",
          "data": {
            "text/plain": [
              "<Figure size 640x480 with 0 Axes>"
            ]
          },
          "metadata": {}
        }
      ],
      "source": [
        "vanilla_history = vanilla_optimizer.fit()"
      ],
      "id": "wmbM3DfEvdL2"
    },
    {
      "cell_type": "markdown",
      "metadata": {
        "id": "HlCvO6e1vdL2"
      },
      "source": [
        "Deep Optimization"
      ],
      "id": "HlCvO6e1vdL2"
    },
    {
      "cell_type": "code",
      "execution_count": null,
      "metadata": {
        "colab": {
          "base_uri": "https://localhost:8080/",
          "height": 871
        },
        "id": "sQlp38HjvdL3",
        "outputId": "6bc32510-3e48-4c42-ecf0-57bb453860b3"
      },
      "outputs": [
        {
          "output_type": "stream",
          "name": "stdout",
          "text": [
            "Initialized EA: 10000 population, 50 elites, MLP mode.\n",
            "Stopping Condition: loss delta less than 1e-06 for 20 generations.\n",
            "\n",
            "Problem Type: Travelling Salesman\n",
            "Parameters: 28 cities, NORMAL distribution\n",
            "\n",
            "Evolving\n",
            "........................................\n",
            "Convergence reached:\n",
            "\n",
            "Results written to /content/[17-04-2023-15:12:58]-history.json.\n",
            "\n",
            "Current Generation: 39\n",
            "\n",
            "Best Candidate:\n",
            "Sequence: [23  8  3 22 12  1 10 21 27 26 17  6 13 20 14 18  4  9 24 19  7  5 15 25\n",
            "  0  2 11 16]\n",
            "Fitness(Loss): -19.2120\n",
            "Crossover Probs: [9.15307464e-06 2.17169054e-05 0.00000000e+00 0.00000000e+00\n",
            " 0.00000000e+00 2.10898161e-05 0.00000000e+00 1.20441955e-05\n",
            " 0.00000000e+00 0.00000000e+00 1.09689092e-04 8.63364257e-05\n",
            " 0.00000000e+00 0.00000000e+00 1.05546555e-04 0.00000000e+00\n",
            " 7.69285689e-05 0.00000000e+00 6.62474413e-05 1.86480656e-06\n",
            " 1.25274077e-04 1.26743776e-04 0.00000000e+00 1.11638103e-04\n",
            " 7.02223269e-06 0.00000000e+00 0.00000000e+00 1.18705022e-04\n",
            " 0.00000000e+00 0.00000000e+00 0.00000000e+00 0.00000000e+00\n",
            " 1.52640103e-04 0.00000000e+00 0.00000000e+00 0.00000000e+00\n",
            " 0.00000000e+00 1.23993363e-04 0.00000000e+00 1.59237985e-04\n",
            " 0.00000000e+00 0.00000000e+00 0.00000000e+00 1.82823336e-04\n",
            " 5.01180402e-05 0.00000000e+00 1.42791920e-04 0.00000000e+00\n",
            " 0.00000000e+00 1.59767835e-04 0.00000000e+00 0.00000000e+00\n",
            " 0.00000000e+00 2.86275335e-05 0.00000000e+00 0.00000000e+00]\n",
            "Mutation Rate: 0.0004870077536907047\n",
            "\n",
            "Loss: 19.211974659138598\n",
            "\n"
          ]
        },
        {
          "output_type": "display_data",
          "data": {
            "text/plain": [
              "<Figure size 640x480 with 0 Axes>"
            ]
          },
          "metadata": {}
        }
      ],
      "source": [
        "deep_history = deep_optimizer.fit()"
      ],
      "id": "sQlp38HjvdL3"
    },
    {
      "cell_type": "markdown",
      "metadata": {
        "id": "mCyo9p_3vdL3"
      },
      "source": [
        "Plotting"
      ],
      "id": "mCyo9p_3vdL3"
    },
    {
      "cell_type": "code",
      "execution_count": null,
      "metadata": {
        "id": "wAsUiNEYvdL3"
      },
      "outputs": [],
      "source": [
        "with open(vanilla_history, 'r') as f:\n",
        "    vanilla_history = json.load(f)\n",
        "with open(deep_history, 'r') as f:\n",
        "    deep_history = json.load(f)"
      ],
      "id": "wAsUiNEYvdL3"
    },
    {
      "cell_type": "code",
      "execution_count": null,
      "metadata": {
        "colab": {
          "base_uri": "https://localhost:8080/",
          "height": 545
        },
        "id": "SyEI2RzsvdL4",
        "outputId": "a69587c7-17a9-457d-99d1-e335bb73a17b"
      },
      "outputs": [
        {
          "output_type": "display_data",
          "data": {
            "text/plain": [
              "<Figure size 1000x600 with 1 Axes>"
            ],
            "image/png": "[encoded data removed]"
          },
          "metadata": {}
        }
      ],
      "source": [
        "plot_histories(vanilla_history, deep_history, '28-cities.png')"
      ],
      "id": "SyEI2RzsvdL4"
    },
    {
      "cell_type": "markdown",
      "metadata": {
        "id": "OkBB4a0Ovry3"
      },
      "source": [
        "## Trial 3 : 40-Nodes TSP, 16 depth"
      ],
      "id": "OkBB4a0Ovry3"
    },
    {
      "cell_type": "markdown",
      "metadata": {
        "id": "-FNWV2bpvry4"
      },
      "source": [
        "Setup: we are only only use verbose mode in trial 1 to better illustrate the optimization process."
      ],
      "id": "-FNWV2bpvry4"
    },
    {
      "cell_type": "code",
      "execution_count": null,
      "metadata": {
        "id": "zxI1nJy6vry5"
      },
      "outputs": [],
      "source": [
        "tsp_p = TSP(cities=40)  # TSP problem\n",
        "# optimizers\n",
        "vanilla_optimizer = Optimizer(tsp_p, mode=OptimizerMode.VANILLA, device=DEVICE, verbose=False)\n",
        "deep_optimizer = Optimizer(tsp_p, mode=OptimizerMode.MLP, depth=DEPTH, device=DEVICE, verbose=False)"
      ],
      "id": "zxI1nJy6vry5"
    },
    {
      "cell_type": "markdown",
      "metadata": {
        "id": "1BNPh6ogvry6"
      },
      "source": [
        "Vanilla Optimization"
      ],
      "id": "1BNPh6ogvry6"
    },
    {
      "cell_type": "code",
      "execution_count": null,
      "metadata": {
        "colab": {
          "base_uri": "https://localhost:8080/",
          "height": 571
        },
        "id": "ni1Q9rPHvry6",
        "outputId": "ba90a6f9-4e78-41d0-b929-b796d06c799e"
      },
      "outputs": [
        {
          "output_type": "stream",
          "name": "stdout",
          "text": [
            "Initialized EA: 10000 population, 50 elites, VANILLA mode.\n",
            "Stopping Condition: loss delta less than 1e-06 for 20 generations.\n",
            "\n",
            "Problem Type: Travelling Salesman\n",
            "Parameters: 40 cities, NORMAL distribution\n",
            "\n",
            "Evolving\n",
            "...................................................\n",
            "Convergence reached:\n",
            "\n",
            "Results written to /content/[17-04-2023-15:14:15]-history.json.\n",
            "\n",
            "Current Generation: 51\n",
            "\n",
            "Best Candidate:\n",
            "Sequence: [11 14  0 39  1 10 29  2 23 15  9 33 16 35 38 37  7  5 17 20 30 26 34 36\n",
            " 24 13 27 25  8 19 32  4 21 22  3 18 12 31 28  6]\n",
            "Fitness(Loss): -19.1494\n",
            "Crossover Probs: None\n",
            "Mutation Rate: None\n",
            "\n",
            "Loss: 19.149403868783846\n",
            "\n"
          ]
        },
        {
          "output_type": "display_data",
          "data": {
            "text/plain": [
              "<Figure size 640x480 with 0 Axes>"
            ]
          },
          "metadata": {}
        }
      ],
      "source": [
        "vanilla_history = vanilla_optimizer.fit()"
      ],
      "id": "ni1Q9rPHvry6"
    },
    {
      "cell_type": "markdown",
      "metadata": {
        "id": "e53qcC1nvry7"
      },
      "source": [
        "Deep Optimization"
      ],
      "id": "e53qcC1nvry7"
    },
    {
      "cell_type": "code",
      "execution_count": null,
      "metadata": {
        "colab": {
          "base_uri": "https://localhost:8080/",
          "height": 1000
        },
        "id": "hWBKcOQxvry7",
        "outputId": "91781a7e-8293-468b-e965-d90a55c0fbd9"
      },
      "outputs": [
        {
          "output_type": "stream",
          "name": "stdout",
          "text": [
            "Initialized EA: 10000 population, 50 elites, MLP mode.\n",
            "Stopping Condition: loss delta less than 1e-06 for 20 generations.\n",
            "\n",
            "Problem Type: Travelling Salesman\n",
            "Parameters: 40 cities, NORMAL distribution\n",
            "\n",
            "Evolving\n",
            "...............................................................................\n",
            "Convergence reached:\n",
            "\n",
            "Results written to /content/[17-04-2023-15:18:31]-history.json.\n",
            "\n",
            "Current Generation: 79\n",
            "\n",
            "Best Candidate:\n",
            "Sequence: [14  0 23 38 37  7  5 17 20 30 26 34  4 32 19  8 25 27 13 24 18 36 21 22\n",
            "  3 16 35 33 15  9  2 29 10  1 39 11  6 28 31 12]\n",
            "Fitness(Loss): -18.7113\n",
            "Crossover Probs: [0.00000000e+00 0.00000000e+00 0.00000000e+00 0.00000000e+00\n",
            " 2.32892016e-05 7.76728193e-05 8.90555093e-05 0.00000000e+00\n",
            " 1.12787362e-04 0.00000000e+00 8.62010565e-05 0.00000000e+00\n",
            " 9.43671548e-05 0.00000000e+00 4.42842684e-05 7.55686813e-07\n",
            " 4.58876229e-06 0.00000000e+00 1.68384122e-05 0.00000000e+00\n",
            " 0.00000000e+00 0.00000000e+00 0.00000000e+00 2.71552435e-05\n",
            " 1.00326515e-05 0.00000000e+00 7.74896616e-05 6.09872841e-05\n",
            " 5.61566412e-05 0.00000000e+00 9.56370204e-05 0.00000000e+00\n",
            " 1.22701269e-04 0.00000000e+00 0.00000000e+00 0.00000000e+00\n",
            " 0.00000000e+00 0.00000000e+00 0.00000000e+00 0.00000000e+00\n",
            " 8.91030504e-06 1.03247357e-05 0.00000000e+00 0.00000000e+00\n",
            " 1.44359845e-04 0.00000000e+00 0.00000000e+00 0.00000000e+00\n",
            " 0.00000000e+00 0.00000000e+00 0.00000000e+00 0.00000000e+00\n",
            " 6.23095693e-05 6.01498978e-05 1.16298897e-05 1.13304952e-04\n",
            " 0.00000000e+00 0.00000000e+00 0.00000000e+00 0.00000000e+00\n",
            " 6.74002004e-05 0.00000000e+00 1.03975028e-04 7.96831373e-05\n",
            " 0.00000000e+00 0.00000000e+00 9.87521998e-05 0.00000000e+00\n",
            " 0.00000000e+00 9.60725374e-05 0.00000000e+00 1.52975081e-05\n",
            " 0.00000000e+00 9.50663343e-06 0.00000000e+00 0.00000000e+00\n",
            " 9.32132309e-07 0.00000000e+00 1.17391486e-04 0.00000000e+00]\n",
            "Mutation Rate: 0.00048208446241915226\n",
            "\n",
            "Loss: 18.71128609759258\n",
            "\n"
          ]
        },
        {
          "output_type": "display_data",
          "data": {
            "text/plain": [
              "<Figure size 640x480 with 0 Axes>"
            ]
          },
          "metadata": {}
        }
      ],
      "source": [
        "deep_history = deep_optimizer.fit()"
      ],
      "id": "hWBKcOQxvry7"
    },
    {
      "cell_type": "markdown",
      "metadata": {
        "id": "yMnis-Jrvry7"
      },
      "source": [
        "Plotting"
      ],
      "id": "yMnis-Jrvry7"
    },
    {
      "cell_type": "code",
      "execution_count": null,
      "metadata": {
        "id": "qPpi0-kSvry8"
      },
      "outputs": [],
      "source": [
        "with open(vanilla_history, 'r') as f:\n",
        "    vanilla_history = json.load(f)\n",
        "with open(deep_history, 'r') as f:\n",
        "    deep_history = json.load(f)"
      ],
      "id": "qPpi0-kSvry8"
    },
    {
      "cell_type": "code",
      "execution_count": null,
      "metadata": {
        "colab": {
          "base_uri": "https://localhost:8080/",
          "height": 545
        },
        "id": "X2VXAPgVvry8",
        "outputId": "348f65ed-e0c8-42b5-e7c3-474b8ea7760e"
      },
      "outputs": [
        {
          "output_type": "display_data",
          "data": {
            "text/plain": [
              "<Figure size 1000x600 with 1 Axes>"
            ],
            "image/png": "[encoded data removed]"
          },
          "metadata": {}
        }
      ],
      "source": [
        "plot_histories(vanilla_history, deep_history, '40-cities.png')"
      ],
      "id": "X2VXAPgVvry8"
    },
    {
      "cell_type": "markdown",
      "metadata": {
        "id": "GqIGMScrv0xK"
      },
      "source": [
        "## Trial 4 : 52-Nodes TSP, 16 depth"
      ],
      "id": "GqIGMScrv0xK"
    },
    {
      "cell_type": "markdown",
      "metadata": {
        "id": "u6o1Ccp3v0xL"
      },
      "source": [
        "Setup: we are only only use verbose mode in trial 1 to better illustrate the optimization process."
      ],
      "id": "u6o1Ccp3v0xL"
    },
    {
      "cell_type": "code",
      "execution_count": null,
      "metadata": {
        "id": "vyakZJvfv0xL"
      },
      "outputs": [],
      "source": [
        "tsp_p = TSP(cities=52)  # TSP problem\n",
        "# optimizers\n",
        "vanilla_optimizer = Optimizer(tsp_p, mode=OptimizerMode.VANILLA, device=DEVICE, verbose=False)\n",
        "deep_optimizer = Optimizer(tsp_p, mode=OptimizerMode.MLP, depth=DEPTH, device=DEVICE, verbose=False)"
      ],
      "id": "vyakZJvfv0xL"
    },
    {
      "cell_type": "markdown",
      "metadata": {
        "id": "ptnc8phav0xM"
      },
      "source": [
        "Vanilla Optimization"
      ],
      "id": "ptnc8phav0xM"
    },
    {
      "cell_type": "code",
      "execution_count": null,
      "metadata": {
        "colab": {
          "base_uri": "https://localhost:8080/",
          "height": 730
        },
        "id": "rnRhCAwGv0xM",
        "outputId": "aa671c25-291e-40a0-a67f-0cf42c5c1ad5"
      },
      "outputs": [
        {
          "output_type": "stream",
          "name": "stdout",
          "text": [
            "Initialized EA: 10000 population, 50 elites, VANILLA mode.\n",
            "Stopping Condition: loss delta less than 1e-06 for 20 generations.\n",
            "\n",
            "Problem Type: Travelling Salesman\n",
            "Parameters: 52 cities, NORMAL distribution\n",
            "\n",
            "Evolving\n",
            "...............................................................\n",
            "Convergence reached:\n",
            "\n",
            "Results written to /content/[17-04-2023-15:20:32]-history.json.\n",
            "\n",
            "Current Generation: 63\n",
            "\n",
            "Best Candidate:\n",
            "Sequence: [45  0 13  4 42 40 11 39 29 44  1 32 24  9 27 14 46 20 17 22 19 18 37 26\n",
            " 43 41 34  6 36 10 50 16 25 23 28 31  3 33 49  8  2 12  5 21 38 47 30 48\n",
            " 15  7 51 35]\n",
            "Fitness(Loss): -27.9891\n",
            "Crossover Probs: None\n",
            "Mutation Rate: None\n",
            "\n",
            "Loss: 27.989093055376713\n",
            "\n"
          ]
        },
        {
          "output_type": "display_data",
          "data": {
            "text/plain": [
              "<Figure size 640x480 with 0 Axes>"
            ]
          },
          "metadata": {}
        }
      ],
      "source": [
        "vanilla_history = vanilla_optimizer.fit()"
      ],
      "id": "rnRhCAwGv0xM"
    },
    {
      "cell_type": "markdown",
      "metadata": {
        "id": "ld2ejebYv0xN"
      },
      "source": [
        "Deep Optimization"
      ],
      "id": "ld2ejebYv0xN"
    },
    {
      "cell_type": "code",
      "execution_count": null,
      "metadata": {
        "colab": {
          "base_uri": "https://localhost:8080/",
          "height": 1000
        },
        "id": "3x3GitwZv0xO",
        "outputId": "4faa806b-c56d-4f03-f292-8a0ac485292e"
      },
      "outputs": [
        {
          "output_type": "stream",
          "name": "stdout",
          "text": [
            "Initialized EA: 10000 population, 50 elites, MLP mode.\n",
            "Stopping Condition: loss delta less than 1e-06 for 20 generations.\n",
            "\n",
            "Problem Type: Travelling Salesman\n",
            "Parameters: 52 cities, NORMAL distribution\n",
            "\n",
            "Evolving\n",
            "..................................................\n",
            "Convergence reached:\n",
            "\n",
            "Results written to /content/[17-04-2023-15:23:40]-history.json.\n",
            "\n",
            "Current Generation: 49\n",
            "\n",
            "Best Candidate:\n",
            "Sequence: [ 4 42 40 11 39  9 17 26 43 46 20 14 27 24 22 37 19 18 30 47 50 10 36  6\n",
            " 41 34  5 12 21 38  2  8 49 33  3 31 28 25 23 16 48 15  7 13 51 35 45  0\n",
            " 44  1 32 29]\n",
            "Fitness(Loss): -28.0692\n",
            "Crossover Probs: [0.0000000e+00 1.1864949e-05 7.2539391e-05 1.3942343e-04 0.0000000e+00\n",
            " 0.0000000e+00 0.0000000e+00 1.0689026e-04 0.0000000e+00 0.0000000e+00\n",
            " 6.1113151e-06 0.0000000e+00 0.0000000e+00 0.0000000e+00 0.0000000e+00\n",
            " 0.0000000e+00 0.0000000e+00 7.3837116e-05 0.0000000e+00 3.5568821e-05\n",
            " 0.0000000e+00 9.7724651e-06 0.0000000e+00 1.7731378e-05 2.2610642e-05\n",
            " 1.7811333e-05 0.0000000e+00 7.7999975e-05 8.9515168e-05 0.0000000e+00\n",
            " 0.0000000e+00 8.9405812e-06 0.0000000e+00 3.2839334e-06 2.4958549e-06\n",
            " 4.6723104e-05 8.1130682e-05 0.0000000e+00 4.4598561e-05 0.0000000e+00\n",
            " 0.0000000e+00 0.0000000e+00 0.0000000e+00 0.0000000e+00 0.0000000e+00\n",
            " 0.0000000e+00 0.0000000e+00 0.0000000e+00 0.0000000e+00 1.7364344e-05\n",
            " 0.0000000e+00 1.1378674e-04 4.9759266e-05 2.4535454e-06 0.0000000e+00\n",
            " 0.0000000e+00 0.0000000e+00 0.0000000e+00 4.4724089e-05 3.8335656e-07\n",
            " 0.0000000e+00 6.5206870e-05 3.2803226e-05 0.0000000e+00 1.4011611e-05\n",
            " 7.0099770e-05 0.0000000e+00 0.0000000e+00 0.0000000e+00 4.3160784e-05\n",
            " 0.0000000e+00 0.0000000e+00 4.2782594e-05 0.0000000e+00 0.0000000e+00\n",
            " 1.6121296e-05 0.0000000e+00 5.4816999e-05 0.0000000e+00 0.0000000e+00\n",
            " 4.3590870e-05 4.6306495e-06 2.5857875e-05 2.1383399e-05 5.0767598e-05\n",
            " 0.0000000e+00 3.7638274e-05 0.0000000e+00 0.0000000e+00 7.4577649e-05\n",
            " 0.0000000e+00 0.0000000e+00 0.0000000e+00 4.7732206e-05 1.0734450e-05\n",
            " 5.2493833e-05 2.2896635e-05 2.1604110e-05 4.5771736e-05 6.3062245e-05\n",
            " 4.0935025e-05 0.0000000e+00 0.0000000e+00 0.0000000e+00]\n",
            "Mutation Rate: 0.0004804192576557398\n",
            "\n",
            "Loss: 28.06918136340798\n",
            "\n"
          ]
        },
        {
          "output_type": "display_data",
          "data": {
            "text/plain": [
              "<Figure size 640x480 with 0 Axes>"
            ]
          },
          "metadata": {}
        }
      ],
      "source": [
        "deep_history = deep_optimizer.fit()"
      ],
      "id": "3x3GitwZv0xO"
    },
    {
      "cell_type": "markdown",
      "metadata": {
        "id": "6T2FE0l8v0xO"
      },
      "source": [
        "Plotting"
      ],
      "id": "6T2FE0l8v0xO"
    },
    {
      "cell_type": "code",
      "execution_count": null,
      "metadata": {
        "id": "3UwIrgYcv0xP"
      },
      "outputs": [],
      "source": [
        "with open(vanilla_history, 'r') as f:\n",
        "    vanilla_history = json.load(f)\n",
        "with open(deep_history, 'r') as f:\n",
        "    deep_history = json.load(f)"
      ],
      "id": "3UwIrgYcv0xP"
    },
    {
      "cell_type": "code",
      "execution_count": null,
      "metadata": {
        "colab": {
          "base_uri": "https://localhost:8080/",
          "height": 60
        },
        "id": "QMlxptNMv0xP",
        "outputId": "1350ece0-aecd-4b44-d2dd-872b8d7bd872"
      },
      "outputs": [
        {
          "output_type": "display_data",
          "data": {
            "text/plain": [
              "<Figure size 1000x600 with 1 Axes>"
            ],
            "image/png": "[encoded data removed]"
          },
          "metadata": {}
        }
      ],
      "source": [
        "plot_histories(vanilla_history, deep_history, '52-cities.png')"
      ],
      "id": "QMlxptNMv0xP"
    },
    {
      "cell_type": "markdown",
      "metadata": {
        "id": "fonFG7Z_v526"
      },
      "source": [
        "## Trial 5 : 64-Nodes TSP, 16 depth"
      ],
      "id": "fonFG7Z_v526"
    },
    {
      "cell_type": "markdown",
      "metadata": {
        "id": "DER7UJmuv527"
      },
      "source": [
        "Setup: we are only only use verbose mode in trial 1 to better illustrate the optimization process."
      ],
      "id": "DER7UJmuv527"
    },
    {
      "cell_type": "code",
      "execution_count": null,
      "metadata": {
        "id": "WrzUhrK2v527"
      },
      "outputs": [],
      "source": [
        "tsp_p = TSP(cities=64)  # TSP problem\n",
        "# optimizers\n",
        "vanilla_optimizer = Optimizer(tsp_p, mode=OptimizerMode.VANILLA, device=DEVICE, verbose=False)\n",
        "deep_optimizer = Optimizer(tsp_p, mode=OptimizerMode.MLP, depth=DEPTH, device=DEVICE, verbose=False)"
      ],
      "id": "WrzUhrK2v527"
    },
    {
      "cell_type": "markdown",
      "metadata": {
        "id": "dxX3eZjLv527"
      },
      "source": [
        "Vanilla Optimization"
      ],
      "id": "dxX3eZjLv527"
    },
    {
      "cell_type": "code",
      "execution_count": null,
      "metadata": {
        "colab": {
          "base_uri": "https://localhost:8080/",
          "height": 594
        },
        "id": "NxiY1lItv527",
        "outputId": "58e030f2-95ab-4384-b6f4-4024747be055"
      },
      "outputs": [
        {
          "output_type": "stream",
          "name": "stdout",
          "text": [
            "Initialized EA: 10000 population, 50 elites, VANILLA mode.\n",
            "Stopping Condition: loss delta less than 1e-06 for 20 generations.\n",
            "\n",
            "Problem Type: Travelling Salesman\n",
            "Parameters: 64 cities, NORMAL distribution\n",
            "\n",
            "Evolving\n",
            "......................................................................................................................\n",
            "Convergence reached:\n",
            "\n",
            "Results written to /content/[17-04-2023-15:28:15]-history.json.\n",
            "\n",
            "Current Generation: 118\n",
            "\n",
            "Best Candidate:\n",
            "Sequence: [14 20 19 46 38 61  2 12 28 56 30 43  5 47 15  9 36 11 51 37 40 49 21 45\n",
            " 53 18 55  4 41  0 44 50 29 42 48 23 34  8 32 13 63  6 31 27 59 26 39 17\n",
            "  3 54 62  1  7 25 10 35 60 57 24 58 16 22 52 33]\n",
            "Fitness(Loss): -28.1768\n",
            "Crossover Probs: None\n",
            "Mutation Rate: None\n",
            "\n",
            "Loss: 28.176842659818103\n",
            "\n"
          ]
        },
        {
          "output_type": "display_data",
          "data": {
            "text/plain": [
              "<Figure size 640x480 with 0 Axes>"
            ]
          },
          "metadata": {}
        }
      ],
      "source": [
        "vanilla_history = vanilla_optimizer.fit()"
      ],
      "id": "NxiY1lItv527"
    },
    {
      "cell_type": "markdown",
      "metadata": {
        "id": "V-QH0Z_Cv527"
      },
      "source": [
        "Deep Optimization"
      ],
      "id": "V-QH0Z_Cv527"
    },
    {
      "cell_type": "code",
      "execution_count": null,
      "metadata": {
        "colab": {
          "base_uri": "https://localhost:8080/",
          "height": 1000
        },
        "id": "S-ClXEN4v528",
        "outputId": "69963619-7431-4998-8cb3-2b06f44ec31a"
      },
      "outputs": [
        {
          "output_type": "stream",
          "name": "stdout",
          "text": [
            "Initialized EA: 10000 population, 50 elites, MLP mode.\n",
            "Stopping Condition: loss delta less than 1e-06 for 20 generations.\n",
            "\n",
            "Problem Type: Travelling Salesman\n",
            "Parameters: 64 cities, NORMAL distribution\n",
            "\n",
            "Evolving\n",
            ".....................................................\n",
            "Convergence reached:\n",
            "\n",
            "Results written to /content/[17-04-2023-15:32:14]-history.json.\n",
            "\n",
            "Current Generation: 53\n",
            "\n",
            "Best Candidate:\n",
            "Sequence: [58 19 46 38 61 28 20  2 12 56 14 33 30 43  5 47 44 15 51  9 36 11  0 50\n",
            " 29 34 23 48 42  8 27 31  6 13 63 32 59 26  4 39 55 18 17  3 22 54 35 49\n",
            " 40 60 37 25  7 45 10 21 41 53 62  1 57 52 24 16]\n",
            "Fitness(Loss): -30.1435\n",
            "Crossover Probs: [0.0000000e+00 0.0000000e+00 0.0000000e+00 0.0000000e+00 0.0000000e+00\n",
            " 0.0000000e+00 0.0000000e+00 0.0000000e+00 0.0000000e+00 0.0000000e+00\n",
            " 0.0000000e+00 2.2324994e-06 0.0000000e+00 2.8722926e-07 0.0000000e+00\n",
            " 4.9942566e-05 4.2774977e-06 0.0000000e+00 1.8298595e-05 0.0000000e+00\n",
            " 2.1442340e-05 4.2750820e-05 3.4221532e-05 3.5704405e-05 0.0000000e+00\n",
            " 2.5180066e-06 0.0000000e+00 0.0000000e+00 6.3820793e-05 3.6596586e-05\n",
            " 3.1968670e-05 4.3117972e-05 0.0000000e+00 2.0393889e-05 0.0000000e+00\n",
            " 0.0000000e+00 2.8290064e-05 5.2764186e-05 5.9791208e-05 0.0000000e+00\n",
            " 3.0193340e-05 6.4476291e-05 0.0000000e+00 0.0000000e+00 0.0000000e+00\n",
            " 0.0000000e+00 6.1181847e-05 0.0000000e+00 0.0000000e+00 0.0000000e+00\n",
            " 0.0000000e+00 0.0000000e+00 0.0000000e+00 4.6889916e-05 0.0000000e+00\n",
            " 0.0000000e+00 6.2364816e-05 0.0000000e+00 4.9102819e-05 0.0000000e+00\n",
            " 8.8016015e-05 4.9356095e-05 0.0000000e+00 0.0000000e+00 0.0000000e+00\n",
            " 0.0000000e+00 0.0000000e+00 0.0000000e+00 0.0000000e+00 3.5016317e-05\n",
            " 4.5463035e-05 0.0000000e+00 1.4117558e-05 3.9923885e-05 3.2492575e-05\n",
            " 4.9709033e-05 6.6000481e-05 0.0000000e+00 0.0000000e+00 0.0000000e+00\n",
            " 0.0000000e+00 3.9013881e-05 0.0000000e+00 6.2749705e-06 6.4290281e-05\n",
            " 0.0000000e+00 0.0000000e+00 0.0000000e+00 0.0000000e+00 2.9650055e-05\n",
            " 8.1767248e-05 0.0000000e+00 0.0000000e+00 0.0000000e+00 3.9277293e-05\n",
            " 0.0000000e+00 0.0000000e+00 0.0000000e+00 2.9337791e-05 0.0000000e+00\n",
            " 0.0000000e+00 3.4720004e-05 0.0000000e+00 0.0000000e+00 0.0000000e+00\n",
            " 0.0000000e+00 0.0000000e+00 0.0000000e+00 6.1480168e-05 0.0000000e+00\n",
            " 0.0000000e+00 0.0000000e+00 7.2031689e-05 0.0000000e+00 4.3439372e-06\n",
            " 0.0000000e+00 0.0000000e+00 0.0000000e+00 3.9201474e-05 5.6768909e-05\n",
            " 0.0000000e+00 0.0000000e+00 3.5147455e-05 4.5626573e-05 0.0000000e+00\n",
            " 7.8345438e-05 0.0000000e+00 0.0000000e+00]\n",
            "Mutation Rate: 0.0005023009143769741\n",
            "\n",
            "Loss: 30.143471617724305\n",
            "\n"
          ]
        },
        {
          "output_type": "display_data",
          "data": {
            "text/plain": [
              "<Figure size 640x480 with 0 Axes>"
            ]
          },
          "metadata": {}
        }
      ],
      "source": [
        "deep_history = deep_optimizer.fit()"
      ],
      "id": "S-ClXEN4v528"
    },
    {
      "cell_type": "markdown",
      "metadata": {
        "id": "KzsnCQBBv528"
      },
      "source": [
        "Plotting"
      ],
      "id": "KzsnCQBBv528"
    },
    {
      "cell_type": "code",
      "execution_count": null,
      "metadata": {
        "id": "iV91jpqbv528"
      },
      "outputs": [],
      "source": [
        "with open(vanilla_history, 'r') as f:\n",
        "    vanilla_history = json.load(f)\n",
        "with open(deep_history, 'r') as f:\n",
        "    deep_history = json.load(f)"
      ],
      "id": "iV91jpqbv528"
    },
    {
      "cell_type": "code",
      "execution_count": null,
      "metadata": {
        "colab": {
          "base_uri": "https://localhost:8080/",
          "height": 60
        },
        "id": "yx87oDrDv528",
        "outputId": "e3413f72-0bf2-41d3-eb16-1b175640ebf5"
      },
      "outputs": [
        {
          "output_type": "display_data",
          "data": {
            "text/plain": [
              "<Figure size 1000x600 with 1 Axes>"
            ],
            "image/png": "[encoded data removed]"
          },
          "metadata": {}
        }
      ],
      "source": [
        "plot_histories(vanilla_history, deep_history, '64-cities.png')"
      ],
      "id": "yx87oDrDv528"
    },
    {
      "cell_type": "markdown",
      "metadata": {
        "id": "wPU65sCEv_N5"
      },
      "source": [
        "## Trial 6 : 76-Nodes TSP, 16 depth"
      ],
      "id": "wPU65sCEv_N5"
    },
    {
      "cell_type": "markdown",
      "metadata": {
        "id": "WbliLmbJv_N5"
      },
      "source": [
        "Setup: we are only only use verbose mode in trial 1 to better illustrate the optimization process."
      ],
      "id": "WbliLmbJv_N5"
    },
    {
      "cell_type": "code",
      "execution_count": null,
      "metadata": {
        "id": "87jF4smEv_N6"
      },
      "outputs": [],
      "source": [
        "tsp_p = TSP(cities=76)  # TSP problem\n",
        "# optimizers\n",
        "vanilla_optimizer = Optimizer(tsp_p, mode=OptimizerMode.VANILLA, device=DEVICE, verbose=False)\n",
        "deep_optimizer = Optimizer(tsp_p, mode=OptimizerMode.MLP, depth=DEPTH, device=DEVICE, verbose=False)"
      ],
      "id": "87jF4smEv_N6"
    },
    {
      "cell_type": "markdown",
      "metadata": {
        "id": "ue_MOwFLv_N7"
      },
      "source": [
        "Vanilla Optimization"
      ],
      "id": "ue_MOwFLv_N7"
    },
    {
      "cell_type": "code",
      "execution_count": null,
      "metadata": {
        "colab": {
          "base_uri": "https://localhost:8080/",
          "height": 753
        },
        "id": "B8Ksq6VSv_N7",
        "outputId": "b95b9232-1898-4736-dee2-4375a469c1ed"
      },
      "outputs": [
        {
          "output_type": "stream",
          "name": "stdout",
          "text": [
            "Initialized EA: 10000 population, 50 elites, VANILLA mode.\n",
            "Stopping Condition: loss delta less than 1e-06 for 20 generations.\n",
            "\n",
            "Problem Type: Travelling Salesman\n",
            "Parameters: 76 cities, NORMAL distribution\n",
            "\n",
            "Evolving\n",
            "...........................................................................................................................\n",
            "Convergence reached:\n",
            "\n",
            "Results written to /content/[17-04-2023-15:37:52]-history.json.\n",
            "\n",
            "Current Generation: 123\n",
            "\n",
            "Best Candidate:\n",
            "Sequence: [61 65  1 70 41 46  9 52 10 23  0 73 67 27 48 18 64 25 24 74 11 56 71 17\n",
            " 30 33 19 26 38 29 66 59 14 60 47  2 43 72  4 35 62 44 75 21 51 40 15 34\n",
            " 42 13 57 49 69 50  7 22 63 36 54  5  3 20 45  6  8 39 58 68 32 28 37 16\n",
            " 31 12 55 53]\n",
            "Fitness(Loss): -37.4242\n",
            "Crossover Probs: None\n",
            "Mutation Rate: None\n",
            "\n",
            "Loss: 37.42420803344286\n",
            "\n"
          ]
        },
        {
          "output_type": "display_data",
          "data": {
            "text/plain": [
              "<Figure size 640x480 with 0 Axes>"
            ]
          },
          "metadata": {}
        }
      ],
      "source": [
        "vanilla_history = vanilla_optimizer.fit()"
      ],
      "id": "B8Ksq6VSv_N7"
    },
    {
      "cell_type": "markdown",
      "metadata": {
        "id": "UukBWFmFv_N7"
      },
      "source": [
        "Deep Optimization"
      ],
      "id": "UukBWFmFv_N7"
    },
    {
      "cell_type": "code",
      "execution_count": null,
      "metadata": {
        "colab": {
          "base_uri": "https://localhost:8080/",
          "height": 1000
        },
        "id": "-gV6iDfuv_N7",
        "outputId": "989b3be0-2956-4216-b8ba-a42380875c51"
      },
      "outputs": [
        {
          "output_type": "stream",
          "name": "stdout",
          "text": [
            "Initialized EA: 10000 population, 50 elites, MLP mode.\n",
            "Stopping Condition: loss delta less than 1e-06 for 20 generations.\n",
            "\n",
            "Problem Type: Travelling Salesman\n",
            "Parameters: 76 cities, NORMAL distribution\n",
            "\n",
            "Evolving\n",
            "..............................................................................\n",
            "Convergence reached:\n",
            "\n",
            "Results written to /content/[17-04-2023-15:44:38]-history.json.\n",
            "\n",
            "Current Generation: 78\n",
            "\n",
            "Best Candidate:\n",
            "Sequence: [59 14 60 39 29 38 26 19 33 30 17 71 56 75 44 11 21 62 74 18 69 27 67 73\n",
            " 41 70 10  9 46 52 23 57  0 65 48 50 16 31 37 28 72 49  4 43 15 35 25 24\n",
            " 40 34 13 42 51 64 68 32  2 58 47 12 22 53 55 61  7  1 63 36 54  5 20  3\n",
            " 45  6  8 66]\n",
            "Fitness(Loss): -39.6076\n",
            "Crossover Probs: [0.0000000e+00 5.4035077e-05 0.0000000e+00 4.5143242e-05 0.0000000e+00\n",
            " 0.0000000e+00 0.0000000e+00 0.0000000e+00 9.8064027e-07 1.5232999e-05\n",
            " 0.0000000e+00 0.0000000e+00 0.0000000e+00 0.0000000e+00 0.0000000e+00\n",
            " 0.0000000e+00 5.2963882e-05 4.1852250e-05 1.1335098e-05 1.2100106e-05\n",
            " 1.1798440e-05 4.5102665e-06 0.0000000e+00 5.0742750e-05 0.0000000e+00\n",
            " 0.0000000e+00 0.0000000e+00 8.5314468e-06 4.1102180e-06 9.8218217e-05\n",
            " 8.6940745e-06 1.6169179e-05 3.8046350e-05 0.0000000e+00 2.8314231e-05\n",
            " 1.6704194e-05 0.0000000e+00 4.3360025e-05 0.0000000e+00 0.0000000e+00\n",
            " 0.0000000e+00 4.4899931e-05 0.0000000e+00 2.7986131e-05 0.0000000e+00\n",
            " 4.2135975e-06 0.0000000e+00 4.7724479e-05 4.7188292e-05 0.0000000e+00\n",
            " 0.0000000e+00 0.0000000e+00 7.9919946e-06 0.0000000e+00 0.0000000e+00\n",
            " 5.8026573e-05 2.1595952e-05 0.0000000e+00 0.0000000e+00 3.4902928e-06\n",
            " 3.9587838e-05 1.7999433e-05 0.0000000e+00 4.3913883e-06 0.0000000e+00\n",
            " 0.0000000e+00 3.2519096e-05 0.0000000e+00 0.0000000e+00 0.0000000e+00\n",
            " 0.0000000e+00 0.0000000e+00 0.0000000e+00 3.2025935e-05 0.0000000e+00\n",
            " 4.7516489e-05 0.0000000e+00 0.0000000e+00 0.0000000e+00 2.2446036e-05\n",
            " 7.8187921e-05 0.0000000e+00 2.7843278e-06 0.0000000e+00 2.7987950e-05\n",
            " 0.0000000e+00 0.0000000e+00 0.0000000e+00 0.0000000e+00 0.0000000e+00\n",
            " 0.0000000e+00 1.0768994e-05 0.0000000e+00 0.0000000e+00 0.0000000e+00\n",
            " 0.0000000e+00 1.4617758e-06 1.6594518e-05 0.0000000e+00 1.3706919e-05\n",
            " 0.0000000e+00 2.9347593e-05 4.4570741e-05 2.9963712e-05 3.2289921e-05\n",
            " 5.4969147e-05 3.2418076e-05 0.0000000e+00 8.8451365e-05 0.0000000e+00\n",
            " 0.0000000e+00 5.2984975e-05 0.0000000e+00 0.0000000e+00 0.0000000e+00\n",
            " 5.9234113e-05 0.0000000e+00 0.0000000e+00 4.9334038e-05 0.0000000e+00\n",
            " 3.9008039e-05 5.4690008e-05 6.9140755e-05 7.2069219e-05 0.0000000e+00\n",
            " 0.0000000e+00 0.0000000e+00 4.6459018e-06 0.0000000e+00 0.0000000e+00\n",
            " 0.0000000e+00 0.0000000e+00 0.0000000e+00 0.0000000e+00 0.0000000e+00\n",
            " 0.0000000e+00 0.0000000e+00 0.0000000e+00 0.0000000e+00 0.0000000e+00\n",
            " 2.7431099e-05 0.0000000e+00 2.7240329e-05 2.8678049e-05 0.0000000e+00\n",
            " 0.0000000e+00 0.0000000e+00 0.0000000e+00 1.2113053e-06 9.1900129e-06\n",
            " 1.9193218e-05 0.0000000e+00]\n",
            "Mutation Rate: 0.000500405440106988\n",
            "\n",
            "Loss: 39.60761683448943\n",
            "\n"
          ]
        },
        {
          "output_type": "display_data",
          "data": {
            "text/plain": [
              "<Figure size 640x480 with 0 Axes>"
            ]
          },
          "metadata": {}
        }
      ],
      "source": [
        "deep_history = deep_optimizer.fit()"
      ],
      "id": "-gV6iDfuv_N7"
    },
    {
      "cell_type": "markdown",
      "metadata": {
        "id": "4Ut0kqZAv_N8"
      },
      "source": [
        "Plotting"
      ],
      "id": "4Ut0kqZAv_N8"
    },
    {
      "cell_type": "code",
      "execution_count": null,
      "metadata": {
        "id": "eIxfyb7gv_N8"
      },
      "outputs": [],
      "source": [
        "with open(vanilla_history, 'r') as f:\n",
        "    vanilla_history = json.load(f)\n",
        "with open(deep_history, 'r') as f:\n",
        "    deep_history = json.load(f)"
      ],
      "id": "eIxfyb7gv_N8"
    },
    {
      "cell_type": "code",
      "execution_count": null,
      "metadata": {
        "colab": {
          "base_uri": "https://localhost:8080/",
          "height": 60
        },
        "id": "tDCNHcRHv_N8",
        "outputId": "fe7f9f37-68a3-4a4d-ed43-81261ff14457"
      },
      "outputs": [
        {
          "output_type": "display_data",
          "data": {
            "text/plain": [
              "<Figure size 1000x600 with 1 Axes>"
            ],
            "image/png": "[encoded data removed]"
          },
          "metadata": {}
        }
      ],
      "source": [
        "plot_histories(vanilla_history, deep_history, '76-cities.png')"
      ],
      "id": "tDCNHcRHv_N8"
    },
    {
      "cell_type": "markdown",
      "metadata": {
        "id": "33ocIN4swG_y"
      },
      "source": [
        "## Trial 7 : 88-Nodes TSP, 16 depth"
      ],
      "id": "33ocIN4swG_y"
    },
    {
      "cell_type": "markdown",
      "metadata": {
        "id": "gihvBT8swG_z"
      },
      "source": [
        "Setup: we are only only use verbose mode in trial 1 to better illustrate the optimization process."
      ],
      "id": "gihvBT8swG_z"
    },
    {
      "cell_type": "code",
      "execution_count": null,
      "metadata": {
        "id": "wdFTJqbWwG_z"
      },
      "outputs": [],
      "source": [
        "tsp_p = TSP(cities=88)  # TSP problem\n",
        "# optimizers\n",
        "vanilla_optimizer = Optimizer(tsp_p, mode=OptimizerMode.VANILLA, device=DEVICE, verbose=False)\n",
        "deep_optimizer = Optimizer(tsp_p, mode=OptimizerMode.MLP, depth=DEPTH, device=DEVICE, verbose=False)"
      ],
      "id": "wdFTJqbWwG_z"
    },
    {
      "cell_type": "markdown",
      "metadata": {
        "id": "grUkyC9dwG_z"
      },
      "source": [
        "Vanilla Optimization"
      ],
      "id": "grUkyC9dwG_z"
    },
    {
      "cell_type": "code",
      "execution_count": null,
      "metadata": {
        "colab": {
          "base_uri": "https://localhost:8080/",
          "height": 753
        },
        "id": "jH-Ut1lawG_z",
        "outputId": "f9c3e437-3bbb-403c-bff4-76d93489931a"
      },
      "outputs": [
        {
          "output_type": "stream",
          "name": "stdout",
          "text": [
            "Initialized EA: 10000 population, 50 elites, VANILLA mode.\n",
            "Stopping Condition: loss delta less than 1e-06 for 20 generations.\n",
            "\n",
            "Problem Type: Travelling Salesman\n",
            "Parameters: 88 cities, NORMAL distribution\n",
            "\n",
            "Evolving\n",
            "........................................................................................................................................................................\n",
            "Convergence reached:\n",
            "\n",
            "Results written to /content/[17-04-2023-15:53:39]-history.json.\n",
            "\n",
            "Current Generation: 168\n",
            "\n",
            "Best Candidate:\n",
            "Sequence: [17 10  4 13 29 73 20 85 23 80 69 84  9 18 40 30 82 38 52 39 28 76 70 21\n",
            " 61 15 67 46 11 55 60 54 24 44 36 14 22 31 79 75 26 25 62 49 78 71 59 58\n",
            " 83 64 66  1 34  8 42 63  5 12 74 48 51 16 41 35 47  6 86 72 50 77  0 53\n",
            " 56  3 65  7 68 19 45 87 43 57 81 27 37 32 33  2]\n",
            "Fitness(Loss): -43.9828\n",
            "Crossover Probs: None\n",
            "Mutation Rate: None\n",
            "\n",
            "Loss: 43.982767178626126\n",
            "\n"
          ]
        },
        {
          "output_type": "display_data",
          "data": {
            "text/plain": [
              "<Figure size 640x480 with 0 Axes>"
            ]
          },
          "metadata": {}
        }
      ],
      "source": [
        "vanilla_history = vanilla_optimizer.fit()"
      ],
      "id": "jH-Ut1lawG_z"
    },
    {
      "cell_type": "markdown",
      "metadata": {
        "id": "WHOW2AoJwG_z"
      },
      "source": [
        "Deep Optimization"
      ],
      "id": "WHOW2AoJwG_z"
    },
    {
      "cell_type": "code",
      "execution_count": null,
      "metadata": {
        "colab": {
          "base_uri": "https://localhost:8080/",
          "height": 1000
        },
        "id": "3okdRhdQwG_1",
        "outputId": "4f1596a0-c524-4a8e-ae5f-a48afc42af74"
      },
      "outputs": [
        {
          "output_type": "stream",
          "name": "stdout",
          "text": [
            "Initialized EA: 10000 population, 50 elites, MLP mode.\n",
            "Stopping Condition: loss delta less than 1e-06 for 20 generations.\n",
            "\n",
            "Problem Type: Travelling Salesman\n",
            "Parameters: 88 cities, NORMAL distribution\n",
            "\n",
            "Evolving\n",
            "............................................................................................................................\n",
            "Convergence reached:\n",
            "\n",
            "Results written to /content/[17-04-2023-16:05:32]-history.json.\n",
            "\n",
            "Current Generation: 120\n",
            "\n",
            "Best Candidate:\n",
            "Sequence: [ 8 42 86 72 50 74 48 51 16 41 10 17 76 70 37 21 23 67 20 73 13  4 29  2\n",
            " 33 32 85 46 11  9 84 55 15 57 61 81 27 28 39 52 87 43 40 18 54 60 80 69\n",
            " 30 82 24 44 36 78 49 71 68 59 19 31 79 22 14 26 75 25 62 65  7 58 38 83\n",
            " 45  5 12 63 64  3 66  1 47 35  0 53 77 56  6 34]\n",
            "Fitness(Loss): -38.4734\n",
            "Crossover Probs: [0.0000000e+00 4.3031616e-07 0.0000000e+00 0.0000000e+00 0.0000000e+00\n",
            " 0.0000000e+00 4.1850020e-05 1.3025534e-05 0.0000000e+00 0.0000000e+00\n",
            " 2.0723293e-05 3.9532912e-05 0.0000000e+00 0.0000000e+00 0.0000000e+00\n",
            " 7.1866822e-07 0.0000000e+00 0.0000000e+00 0.0000000e+00 6.0484195e-05\n",
            " 0.0000000e+00 2.8364826e-05 0.0000000e+00 0.0000000e+00 2.0200954e-05\n",
            " 6.3468055e-05 5.9660761e-05 0.0000000e+00 6.3224899e-05 1.4735468e-05\n",
            " 7.1068513e-05 0.0000000e+00 0.0000000e+00 1.4050457e-05 0.0000000e+00\n",
            " 0.0000000e+00 6.1258679e-06 0.0000000e+00 0.0000000e+00 0.0000000e+00\n",
            " 2.1404339e-06 0.0000000e+00 0.0000000e+00 1.9199454e-06 0.0000000e+00\n",
            " 3.4829500e-05 1.8827284e-05 0.0000000e+00 0.0000000e+00 3.5186495e-05\n",
            " 0.0000000e+00 8.4693875e-06 0.0000000e+00 0.0000000e+00 0.0000000e+00\n",
            " 0.0000000e+00 1.2840134e-06 2.5866371e-05 1.9564153e-05 0.0000000e+00\n",
            " 2.9742638e-05 3.6205656e-05 0.0000000e+00 0.0000000e+00 4.1292995e-05\n",
            " 0.0000000e+00 2.2458742e-06 2.4797435e-05 4.6877434e-05 0.0000000e+00\n",
            " 2.4831532e-05 4.0357470e-05 0.0000000e+00 9.3299777e-06 0.0000000e+00\n",
            " 7.8245621e-06 0.0000000e+00 0.0000000e+00 2.9533265e-05 2.8019071e-05\n",
            " 0.0000000e+00 1.4759145e-06 5.5507116e-06 6.1631140e-06 0.0000000e+00\n",
            " 0.0000000e+00 0.0000000e+00 0.0000000e+00 2.8094315e-05 0.0000000e+00\n",
            " 2.1006061e-05 4.8552742e-05 8.4334188e-06 0.0000000e+00 0.0000000e+00\n",
            " 5.2497660e-05 3.3441931e-05 0.0000000e+00 2.1903283e-05 0.0000000e+00\n",
            " 4.7540220e-06 0.0000000e+00 0.0000000e+00 0.0000000e+00 1.7301831e-05\n",
            " 0.0000000e+00 0.0000000e+00 0.0000000e+00 1.7383132e-05 8.3085899e-07\n",
            " 2.6630911e-05 4.9657581e-05 0.0000000e+00 0.0000000e+00 0.0000000e+00\n",
            " 0.0000000e+00 1.9885778e-05 5.3537482e-05 0.0000000e+00 7.2054700e-06\n",
            " 0.0000000e+00 2.4061528e-06 8.0367852e-07 0.0000000e+00 1.7705866e-05\n",
            " 0.0000000e+00 0.0000000e+00 0.0000000e+00 0.0000000e+00 0.0000000e+00\n",
            " 0.0000000e+00 0.0000000e+00 0.0000000e+00 0.0000000e+00 2.9231593e-05\n",
            " 3.5259207e-05 0.0000000e+00 1.7288959e-05 3.9489964e-06 2.5022538e-05\n",
            " 3.5012621e-05 1.7664537e-05 5.1262727e-05 0.0000000e+00 4.5787670e-05\n",
            " 4.6662979e-05 0.0000000e+00 0.0000000e+00 2.3174644e-05 0.0000000e+00\n",
            " 4.3736927e-05 5.1020043e-06 0.0000000e+00 0.0000000e+00 0.0000000e+00\n",
            " 0.0000000e+00 0.0000000e+00 0.0000000e+00 0.0000000e+00 4.7780166e-05\n",
            " 0.0000000e+00 0.0000000e+00 2.4743555e-05 0.0000000e+00 5.6537785e-05\n",
            " 0.0000000e+00 0.0000000e+00 0.0000000e+00 2.7675301e-06 0.0000000e+00\n",
            " 0.0000000e+00 0.0000000e+00 9.1245911e-06 3.5586352e-05 4.2500183e-06\n",
            " 8.0224972e-06]\n",
            "Mutation Rate: 0.00047192457714118063\n",
            "\n",
            "Loss: 38.473404029436786\n",
            "\n"
          ]
        },
        {
          "output_type": "display_data",
          "data": {
            "text/plain": [
              "<Figure size 640x480 with 0 Axes>"
            ]
          },
          "metadata": {}
        }
      ],
      "source": [
        "deep_history = deep_optimizer.fit()"
      ],
      "id": "3okdRhdQwG_1"
    },
    {
      "cell_type": "markdown",
      "metadata": {
        "id": "4FcTvlM2wG_1"
      },
      "source": [
        "Plotting"
      ],
      "id": "4FcTvlM2wG_1"
    },
    {
      "cell_type": "code",
      "execution_count": null,
      "metadata": {
        "id": "aUUGFDwXwG_1"
      },
      "outputs": [],
      "source": [
        "with open(vanilla_history, 'r') as f:\n",
        "    vanilla_history = json.load(f)\n",
        "with open(deep_history, 'r') as f:\n",
        "    deep_history = json.load(f)"
      ],
      "id": "aUUGFDwXwG_1"
    },
    {
      "cell_type": "code",
      "execution_count": null,
      "metadata": {
        "colab": {
          "base_uri": "https://localhost:8080/",
          "height": 60
        },
        "id": "X81OBHqCwG_1",
        "outputId": "f3e9b4ca-b64c-4229-a97e-c72b16df41bd"
      },
      "outputs": [
        {
          "output_type": "display_data",
          "data": {
            "text/plain": [
              "<Figure size 1000x600 with 1 Axes>"
            ],
            "image/png": "[encoded data removed]"
          },
          "metadata": {}
        }
      ],
      "source": [
        "plot_histories(vanilla_history, deep_history, '88-cities.png')"
      ],
      "id": "X81OBHqCwG_1"
    },
    {
      "cell_type": "markdown",
      "metadata": {
        "id": "F8DfsX1hwODw"
      },
      "source": [
        "## Trial 8 : 100-Nodes TSP, 16 depth"
      ],
      "id": "F8DfsX1hwODw"
    },
    {
      "cell_type": "markdown",
      "metadata": {
        "id": "dJgRS31AwODx"
      },
      "source": [
        "Setup: we are only only use verbose mode in trial 1 to better illustrate the optimization process."
      ],
      "id": "dJgRS31AwODx"
    },
    {
      "cell_type": "code",
      "execution_count": null,
      "metadata": {
        "id": "znlZIOIvwODy"
      },
      "outputs": [],
      "source": [
        "tsp_p = TSP(cities=100)  # TSP problem\n",
        "# optimizers\n",
        "vanilla_optimizer = Optimizer(tsp_p, mode=OptimizerMode.VANILLA, device=DEVICE, verbose=False)\n",
        "deep_optimizer = Optimizer(tsp_p, mode=OptimizerMode.MLP, depth=DEPTH, device=DEVICE, verbose=False)"
      ],
      "id": "znlZIOIvwODy"
    },
    {
      "cell_type": "markdown",
      "metadata": {
        "id": "g8jCGbjfwODy"
      },
      "source": [
        "Vanilla Optimization"
      ],
      "id": "g8jCGbjfwODy"
    },
    {
      "cell_type": "code",
      "execution_count": null,
      "metadata": {
        "colab": {
          "base_uri": "https://localhost:8080/",
          "height": 660
        },
        "id": "jKbb6rjqwODz",
        "outputId": "598f8aed-2f25-45d9-af98-18abc51f856c"
      },
      "outputs": [
        {
          "output_type": "stream",
          "name": "stdout",
          "text": [
            "Initialized EA: 10000 population, 50 elites, VANILLA mode.\n",
            "Stopping Condition: loss delta less than 1e-06 for 20 generations.\n",
            "\n",
            "Problem Type: Travelling Salesman\n",
            "Parameters: 100 cities, NORMAL distribution\n",
            "\n",
            "Evolving\n",
            ".............................................................................................................................................................................................................................\n",
            "Convergence reached:\n",
            "\n",
            "Results written to /content/[17-04-2023-16:18:56]-history.json.\n",
            "\n",
            "Current Generation: 221\n",
            "\n",
            "Best Candidate:\n",
            "Sequence: [50  9 28 44 83 20 93 81 27 63 78 10 43 66 79 69 73 62 64 15 67 18  4 71\n",
            " 46 84 34 21 56 24 92 68 97 61 23 96 58 39 51 30 85 95 32 36  2 77 31 60\n",
            " 26 94 29  7 45 72 13 80 48 11 59 75 37  1  0 57 55 40 87 91 33 99 35 16\n",
            " 82  8 12 54 65 38 49 74  6 52 22 19 53 89 25 47 70  5 76 17 42 90 41 88\n",
            " 98 14 86  3]\n",
            "Fitness(Loss): -40.3670\n",
            "Crossover Probs: None\n",
            "Mutation Rate: None\n",
            "\n",
            "Loss: 40.36698299683059\n",
            "\n"
          ]
        },
        {
          "output_type": "display_data",
          "data": {
            "text/plain": [
              "<Figure size 640x480 with 0 Axes>"
            ]
          },
          "metadata": {}
        }
      ],
      "source": [
        "vanilla_history = vanilla_optimizer.fit()"
      ],
      "id": "jKbb6rjqwODz"
    },
    {
      "cell_type": "markdown",
      "metadata": {
        "id": "Le2N4CNowODz"
      },
      "source": [
        "Deep Optimization"
      ],
      "id": "Le2N4CNowODz"
    },
    {
      "cell_type": "code",
      "execution_count": null,
      "metadata": {
        "colab": {
          "base_uri": "https://localhost:8080/",
          "height": 1000
        },
        "id": "0UoJpZviwOD0",
        "outputId": "d78586c6-3c8d-48d8-eabe-406bf8e32bde"
      },
      "outputs": [
        {
          "output_type": "stream",
          "name": "stdout",
          "text": [
            "Initialized EA: 10000 population, 50 elites, MLP mode.\n",
            "Stopping Condition: loss delta less than 1e-06 for 20 generations.\n",
            "\n",
            "Problem Type: Travelling Salesman\n",
            "Parameters: 100 cities, NORMAL distribution\n",
            "\n",
            "Evolving\n",
            ".................................................................................................................\n",
            "Convergence reached:\n",
            "\n",
            "Results written to /content/[17-04-2023-16:31:34]-history.json.\n",
            "\n",
            "Current Generation: 113\n",
            "\n",
            "Best Candidate:\n",
            "Sequence: [ 7 29 45  1 72 37 75 13 41 88 80 59 48 11  9 50 20 47 70 38 52 22 49 74\n",
            " 44 83  3 28 93 81 27 63 43 78  6 10 65 19 89 95 85  4 39 71 30 51 25 91\n",
            " 42 76  5 86 14 17 98 35 90 33 99 16 87 53 23 18 15 67 68 24 34 21 31 60\n",
            " 77 46 84 36 57 55 40 32 58 96 82 54  8 12 97 61 66 69 79 73 62 64 92 56\n",
            " 26 94  2  0]\n",
            "Fitness(Loss): -41.3283\n",
            "Crossover Probs: [9.5495470e-06 0.0000000e+00 3.3317021e-05 3.5934663e-05 0.0000000e+00\n",
            " 0.0000000e+00 3.4301273e-05 3.0508412e-05 2.7104637e-05 3.0182640e-05\n",
            " 1.4272716e-06 1.7187818e-05 0.0000000e+00 0.0000000e+00 0.0000000e+00\n",
            " 0.0000000e+00 0.0000000e+00 0.0000000e+00 2.8353968e-05 5.2154672e-05\n",
            " 0.0000000e+00 9.2962337e-06 0.0000000e+00 0.0000000e+00 0.0000000e+00\n",
            " 2.1566417e-05 0.0000000e+00 3.7879225e-05 0.0000000e+00 0.0000000e+00\n",
            " 0.0000000e+00 0.0000000e+00 2.7175387e-05 2.5756151e-05 0.0000000e+00\n",
            " 0.0000000e+00 2.1496102e-05 0.0000000e+00 3.4221746e-05 0.0000000e+00\n",
            " 0.0000000e+00 0.0000000e+00 4.6593823e-06 0.0000000e+00 0.0000000e+00\n",
            " 0.0000000e+00 2.9000135e-05 0.0000000e+00 4.6805893e-05 3.2379745e-07\n",
            " 0.0000000e+00 0.0000000e+00 1.1712004e-06 3.0530664e-05 6.1724546e-05\n",
            " 1.1334255e-05 1.9014808e-05 0.0000000e+00 4.0173712e-05 6.7014039e-06\n",
            " 4.3016815e-05 0.0000000e+00 2.8618779e-05 0.0000000e+00 0.0000000e+00\n",
            " 0.0000000e+00 0.0000000e+00 0.0000000e+00 0.0000000e+00 0.0000000e+00\n",
            " 3.2589611e-05 3.0353480e-05 1.8349925e-05 0.0000000e+00 0.0000000e+00\n",
            " 2.3042926e-06 2.9046299e-05 0.0000000e+00 0.0000000e+00 1.4577418e-05\n",
            " 0.0000000e+00 0.0000000e+00 1.2583685e-05 0.0000000e+00 0.0000000e+00\n",
            " 0.0000000e+00 0.0000000e+00 2.9369239e-06 2.1909713e-05 0.0000000e+00\n",
            " 5.2001578e-06 0.0000000e+00 1.8745986e-05 0.0000000e+00 6.9367971e-08\n",
            " 0.0000000e+00 0.0000000e+00 0.0000000e+00 1.0844621e-05 0.0000000e+00\n",
            " 8.4225267e-06 0.0000000e+00 0.0000000e+00 1.2247790e-06 4.6894361e-06\n",
            " 2.3249742e-05 4.0613932e-06 0.0000000e+00 0.0000000e+00 1.8750170e-05\n",
            " 2.0390604e-05 0.0000000e+00 0.0000000e+00 4.5082183e-05 1.3083712e-05\n",
            " 3.3673470e-05 1.4724481e-05 2.2475577e-05 4.3841606e-05 0.0000000e+00\n",
            " 0.0000000e+00 0.0000000e+00 0.0000000e+00 2.6707621e-05 0.0000000e+00\n",
            " 5.3349510e-07 5.2076081e-07 0.0000000e+00 0.0000000e+00 1.1790494e-05\n",
            " 0.0000000e+00 0.0000000e+00 0.0000000e+00 4.3915570e-05 2.8441917e-05\n",
            " 0.0000000e+00 0.0000000e+00 0.0000000e+00 0.0000000e+00 6.4487285e-06\n",
            " 1.6685903e-05 1.4932010e-05 0.0000000e+00 0.0000000e+00 0.0000000e+00\n",
            " 7.6778808e-05 1.2938553e-07 0.0000000e+00 5.4090262e-05 0.0000000e+00\n",
            " 0.0000000e+00 0.0000000e+00 0.0000000e+00 2.7596483e-05 0.0000000e+00\n",
            " 0.0000000e+00 0.0000000e+00 5.2761006e-06 0.0000000e+00 2.3801989e-05\n",
            " 6.0514918e-05 0.0000000e+00 0.0000000e+00 4.9373932e-05 5.2510139e-05\n",
            " 0.0000000e+00 0.0000000e+00 0.0000000e+00 0.0000000e+00 0.0000000e+00\n",
            " 0.0000000e+00 2.3759339e-06 3.1603879e-05 0.0000000e+00 5.6807562e-06\n",
            " 0.0000000e+00 2.6065575e-06 0.0000000e+00 0.0000000e+00 3.9167124e-05\n",
            " 0.0000000e+00 0.0000000e+00 0.0000000e+00 0.0000000e+00 0.0000000e+00\n",
            " 0.0000000e+00 0.0000000e+00 0.0000000e+00 0.0000000e+00 1.8415885e-05\n",
            " 0.0000000e+00 0.0000000e+00 0.0000000e+00 5.6847980e-06 0.0000000e+00\n",
            " 4.2762680e-05 5.7047688e-05 0.0000000e+00 0.0000000e+00 4.0936542e-05]\n",
            "Mutation Rate: 0.000491505372337997\n",
            "\n",
            "Loss: 41.32833613879505\n",
            "\n"
          ]
        },
        {
          "output_type": "display_data",
          "data": {
            "text/plain": [
              "<Figure size 640x480 with 0 Axes>"
            ]
          },
          "metadata": {}
        }
      ],
      "source": [
        "deep_history = deep_optimizer.fit()"
      ],
      "id": "0UoJpZviwOD0"
    },
    {
      "cell_type": "markdown",
      "metadata": {
        "id": "Vb8zn6TowOD0"
      },
      "source": [
        "Plotting"
      ],
      "id": "Vb8zn6TowOD0"
    },
    {
      "cell_type": "code",
      "execution_count": null,
      "metadata": {
        "id": "tw72ebpywOD0"
      },
      "outputs": [],
      "source": [
        "with open(vanilla_history, 'r') as f:\n",
        "    vanilla_history = json.load(f)\n",
        "with open(deep_history, 'r') as f:\n",
        "    deep_history = json.load(f)"
      ],
      "id": "tw72ebpywOD0"
    },
    {
      "cell_type": "code",
      "execution_count": null,
      "metadata": {
        "colab": {
          "base_uri": "https://localhost:8080/",
          "height": 545
        },
        "id": "TfG8pdcbwOD1",
        "outputId": "e47d0837-6fe7-4c9c-e2cc-6af20d8c5c59"
      },
      "outputs": [
        {
          "output_type": "display_data",
          "data": {
            "text/plain": [
              "<Figure size 1000x600 with 1 Axes>"
            ],
            "image/png": "[encoded data removed]"
          },
          "metadata": {}
        }
      ],
      "source": [
        "plot_histories(vanilla_history, deep_history, '100-cities.png')"
      ],
      "id": "TfG8pdcbwOD1"
    },
    {
      "cell_type": "markdown",
      "metadata": {
        "id": "LeF4TJvLwTIe"
      },
      "source": [
        "## Trial 9 : 112-Nodes TSP, 16 depth"
      ],
      "id": "LeF4TJvLwTIe"
    },
    {
      "cell_type": "markdown",
      "metadata": {
        "id": "IgkZgJ9VwTIf"
      },
      "source": [
        "Setup: we are only only use verbose mode in trial 1 to better illustrate the optimization process."
      ],
      "id": "IgkZgJ9VwTIf"
    },
    {
      "cell_type": "code",
      "execution_count": null,
      "metadata": {
        "id": "mLjs6gDRwTIf"
      },
      "outputs": [],
      "source": [
        "tsp_p = TSP(cities=112)  # TSP problem\n",
        "# optimizers\n",
        "vanilla_optimizer = Optimizer(tsp_p, mode=OptimizerMode.VANILLA, device=DEVICE, verbose=False)\n",
        "deep_optimizer = Optimizer(tsp_p, mode=OptimizerMode.MLP, depth=DEPTH, device=DEVICE, verbose=False)"
      ],
      "id": "mLjs6gDRwTIf"
    },
    {
      "cell_type": "markdown",
      "metadata": {
        "id": "YsPL28ENwTIg"
      },
      "source": [
        "Vanilla Optimization"
      ],
      "id": "YsPL28ENwTIg"
    },
    {
      "cell_type": "code",
      "execution_count": null,
      "metadata": {
        "colab": {
          "base_uri": "https://localhost:8080/",
          "height": 822
        },
        "id": "SWFbmhFjwTIg",
        "outputId": "b61f30b0-9aa1-497d-f6df-e592cf4e70c2"
      },
      "outputs": [
        {
          "output_type": "stream",
          "name": "stdout",
          "text": [
            "Initialized EA: 10000 population, 50 elites, VANILLA mode.\n",
            "Stopping Condition: loss delta less than 1e-06 for 20 generations.\n",
            "\n",
            "Problem Type: Travelling Salesman\n",
            "Parameters: 112 cities, NORMAL distribution\n",
            "\n",
            "Evolving\n",
            "........................................................................................................................................................................................................................................................\n",
            "Convergence reached:\n",
            "\n",
            "Results written to /content/[17-04-2023-16:48:29]-history.json.\n",
            "\n",
            "Current Generation: 248\n",
            "\n",
            "Best Candidate:\n",
            "Sequence: [ 40 107  60  37  90  28  73  74   5  31   7   6 110  88  58  54  97  59\n",
            "  66  92  71 108  38 102  67  53  93  45  13  63  55  56  79  23  43  75\n",
            "  72  57  19  32  44  52  99  51  61  33 103  42  47  21   9  14  82  94\n",
            " 101  81  22  86  17   3  26  96  78  76  25  69  27  24  34  83  95 100\n",
            "  91  16  50 105  20  70  35  46  62   8  30  15  87  10   0   1  80  39\n",
            "  84  49  65 111  48 109  85  12  11  36  77  41 106 104  64  98   4  68\n",
            "  29  18   2  89]\n",
            "Fitness(Loss): -40.6418\n",
            "Crossover Probs: None\n",
            "Mutation Rate: None\n",
            "\n",
            "Loss: 40.64180653632043\n",
            "\n"
          ]
        },
        {
          "output_type": "display_data",
          "data": {
            "text/plain": [
              "<Figure size 640x480 with 0 Axes>"
            ]
          },
          "metadata": {}
        }
      ],
      "source": [
        "vanilla_history = vanilla_optimizer.fit()"
      ],
      "id": "SWFbmhFjwTIg"
    },
    {
      "cell_type": "markdown",
      "metadata": {
        "id": "pHz_TITrwTIg"
      },
      "source": [
        "Deep Optimization"
      ],
      "id": "pHz_TITrwTIg"
    },
    {
      "cell_type": "code",
      "execution_count": null,
      "metadata": {
        "colab": {
          "base_uri": "https://localhost:8080/",
          "height": 1000
        },
        "id": "8AZP_HIuwTIg",
        "outputId": "e24b07a0-ef35-4283-b5cb-8eab39de73d0"
      },
      "outputs": [
        {
          "output_type": "stream",
          "name": "stdout",
          "text": [
            "Initialized EA: 10000 population, 50 elites, MLP mode.\n",
            "Stopping Condition: loss delta less than 1e-06 for 20 generations.\n",
            "\n",
            "Problem Type: Travelling Salesman\n",
            "Parameters: 112 cities, NORMAL distribution\n",
            "\n",
            "Evolving\n",
            "............................................................................................................................................................\n",
            "Convergence reached:\n",
            "\n",
            "Results written to /content/[17-04-2023-17:07:51]-history.json.\n",
            "\n",
            "Current Generation: 156\n",
            "\n",
            "Best Candidate:\n",
            "Sequence: [105  62  46  87  10   0  49  84  39  34  80   1  95  83 100  16  91  65\n",
            " 111  48 109  11  12 107  85  73  28   5  74   6  88  37  31   7 110  90\n",
            "  60  36  77  40  18   2  89  98  29   4  22  82  93  47  63  55  56  61\n",
            "  51  25  33  78  94   9  45  13  67  14  81   3  26  44  52  50  57  72\n",
            "  19  32  41  64 104 106  17  68  86 101  58  54  59  97  66  92 108  71\n",
            "  38  53 102  21  96  99  76  75 103  42  79  23  43  69  27  24   8  30\n",
            "  15  70  35  20]\n",
            "Fitness(Loss): -49.4583\n",
            "Crossover Probs: [2.3086070e-05 1.2269988e-05 0.0000000e+00 1.1187520e-05 3.1468906e-05\n",
            " 4.8686866e-06 0.0000000e+00 0.0000000e+00 8.5320744e-06 2.0166430e-05\n",
            " 1.5136975e-05 0.0000000e+00 0.0000000e+00 8.2370734e-06 4.2025918e-06\n",
            " 9.1150887e-06 0.0000000e+00 0.0000000e+00 1.6826027e-05 0.0000000e+00\n",
            " 7.7954674e-06 1.9064830e-05 0.0000000e+00 2.4957853e-05 2.2164033e-05\n",
            " 2.2319030e-06 1.9565871e-06 0.0000000e+00 3.0894909e-05 0.0000000e+00\n",
            " 3.1603704e-05 3.4183031e-05 1.6789769e-05 2.8390370e-05 4.5857851e-06\n",
            " 2.6446618e-05 0.0000000e+00 0.0000000e+00 0.0000000e+00 0.0000000e+00\n",
            " 1.4075368e-05 2.3626919e-05 0.0000000e+00 0.0000000e+00 0.0000000e+00\n",
            " 0.0000000e+00 9.3225945e-06 3.4241271e-05 0.0000000e+00 1.8928049e-05\n",
            " 0.0000000e+00 7.1888353e-06 0.0000000e+00 1.5857822e-05 1.1981838e-05\n",
            " 0.0000000e+00 1.5709347e-05 0.0000000e+00 0.0000000e+00 0.0000000e+00\n",
            " 0.0000000e+00 3.2262349e-05 1.3665254e-05 0.0000000e+00 0.0000000e+00\n",
            " 3.9354054e-05 0.0000000e+00 1.7046843e-05 2.8743199e-05 1.5294092e-05\n",
            " 0.0000000e+00 0.0000000e+00 1.1901968e-06 1.6107299e-06 1.1937897e-05\n",
            " 3.1751235e-05 0.0000000e+00 2.6626263e-05 0.0000000e+00 5.4743100e-06\n",
            " 2.7189262e-05 0.0000000e+00 9.2295604e-06 2.4274505e-05 0.0000000e+00\n",
            " 0.0000000e+00 3.2901714e-06 0.0000000e+00 0.0000000e+00 0.0000000e+00\n",
            " 2.2962190e-07 0.0000000e+00 9.5779583e-08 8.3373225e-06 5.2516089e-06\n",
            " 0.0000000e+00 1.8393248e-05 0.0000000e+00 0.0000000e+00 0.0000000e+00\n",
            " 1.3813429e-06 1.9772544e-06 1.2620663e-05 0.0000000e+00 2.1148662e-05\n",
            " 1.6175714e-05 3.8951217e-05 0.0000000e+00 0.0000000e+00 0.0000000e+00\n",
            " 0.0000000e+00 1.9403329e-05 0.0000000e+00 0.0000000e+00 0.0000000e+00\n",
            " 3.4585981e-05 2.9091954e-05 0.0000000e+00 1.3237565e-05 6.6601419e-06\n",
            " 3.2974694e-05 0.0000000e+00 4.1653839e-06 1.8970481e-05 2.2736096e-05\n",
            " 0.0000000e+00 0.0000000e+00 1.2301514e-05 0.0000000e+00 0.0000000e+00\n",
            " 0.0000000e+00 0.0000000e+00 1.9851885e-07 0.0000000e+00 4.1591970e-06\n",
            " 4.3049063e-06 0.0000000e+00 0.0000000e+00 0.0000000e+00 0.0000000e+00\n",
            " 2.9078898e-05 2.4620290e-06 2.8517567e-05 0.0000000e+00 1.3908078e-05\n",
            " 0.0000000e+00 0.0000000e+00 3.6034966e-05 0.0000000e+00 3.7494170e-05\n",
            " 2.7766342e-05 0.0000000e+00 2.3261875e-06 1.7941571e-05 8.6304544e-06\n",
            " 5.4187935e-06 0.0000000e+00 2.6358162e-05 0.0000000e+00 0.0000000e+00\n",
            " 4.7925336e-05 0.0000000e+00 0.0000000e+00 0.0000000e+00 3.1614870e-06\n",
            " 0.0000000e+00 0.0000000e+00 1.0500448e-05 0.0000000e+00 0.0000000e+00\n",
            " 9.8679893e-06 3.1439296e-05 0.0000000e+00 2.9726738e-05 0.0000000e+00\n",
            " 2.4907011e-05 0.0000000e+00 0.0000000e+00 1.8458758e-06 0.0000000e+00\n",
            " 0.0000000e+00 0.0000000e+00 3.0341127e-05 0.0000000e+00 2.5459578e-05\n",
            " 1.9484498e-05 8.3398054e-06 5.3600303e-05 2.6059599e-06 0.0000000e+00\n",
            " 0.0000000e+00 3.3198292e-05 0.0000000e+00 5.0339245e-06 0.0000000e+00\n",
            " 0.0000000e+00 1.7020320e-05 0.0000000e+00 0.0000000e+00 0.0000000e+00\n",
            " 3.2046232e-06 2.0847179e-05 0.0000000e+00 0.0000000e+00 1.4277570e-05\n",
            " 0.0000000e+00 2.7291595e-05 1.7477028e-05 1.3763827e-05 0.0000000e+00\n",
            " 0.0000000e+00 8.2812767e-06 0.0000000e+00 1.5460118e-05 0.0000000e+00\n",
            " 0.0000000e+00 0.0000000e+00 2.0586480e-05 1.4584873e-05 3.3706267e-06\n",
            " 0.0000000e+00 6.4399242e-06 1.6511758e-05 4.4121574e-05]\n",
            "Mutation Rate: 0.000500138383358717\n",
            "\n",
            "Loss: 49.45832058662304\n",
            "\n"
          ]
        },
        {
          "output_type": "display_data",
          "data": {
            "text/plain": [
              "<Figure size 640x480 with 0 Axes>"
            ]
          },
          "metadata": {}
        }
      ],
      "source": [
        "deep_history = deep_optimizer.fit()"
      ],
      "id": "8AZP_HIuwTIg"
    },
    {
      "cell_type": "markdown",
      "metadata": {
        "id": "zpMfGLYqwTIg"
      },
      "source": [
        "Plotting"
      ],
      "id": "zpMfGLYqwTIg"
    },
    {
      "cell_type": "code",
      "execution_count": null,
      "metadata": {
        "id": "4lGTtXpSwTIh"
      },
      "outputs": [],
      "source": [
        "with open(vanilla_history, 'r') as f:\n",
        "    vanilla_history = json.load(f)\n",
        "with open(deep_history, 'r') as f:\n",
        "    deep_history = json.load(f)"
      ],
      "id": "4lGTtXpSwTIh"
    },
    {
      "cell_type": "code",
      "execution_count": null,
      "metadata": {
        "colab": {
          "base_uri": "https://localhost:8080/",
          "height": 60
        },
        "id": "BVSy7RAGwTIh",
        "outputId": "51b74549-e04a-4a29-8b70-40356b657a1b"
      },
      "outputs": [
        {
          "output_type": "display_data",
          "data": {
            "text/plain": [
              "<Figure size 1000x600 with 1 Axes>"
            ],
            "image/png": "[encoded data removed]"
          },
          "metadata": {}
        }
      ],
      "source": [
        "plot_histories(vanilla_history, deep_history, '112-cities.png')"
      ],
      "id": "BVSy7RAGwTIh"
    },
    {
      "cell_type": "markdown",
      "metadata": {
        "id": "v6yialRWwa0R"
      },
      "source": [
        "## Trial 10 : 124-Nodes TSP, 16 depth"
      ],
      "id": "v6yialRWwa0R"
    },
    {
      "cell_type": "markdown",
      "metadata": {
        "id": "Mmoc-kI7wa0S"
      },
      "source": [
        "Setup: we are only only use verbose mode in trial 1 to better illustrate the optimization process."
      ],
      "id": "Mmoc-kI7wa0S"
    },
    {
      "cell_type": "code",
      "execution_count": null,
      "metadata": {
        "id": "K_1-bCvOwa0T"
      },
      "outputs": [],
      "source": [
        "tsp_p = TSP(cities=124)  # TSP problem\n",
        "# optimizers\n",
        "vanilla_optimizer = Optimizer(tsp_p, mode=OptimizerMode.VANILLA, device=DEVICE, verbose=False)\n",
        "deep_optimizer = Optimizer(tsp_p, mode=OptimizerMode.MLP, depth=DEPTH, device=DEVICE, verbose=False)"
      ],
      "id": "K_1-bCvOwa0T"
    },
    {
      "cell_type": "markdown",
      "metadata": {
        "id": "1lmfTiatwa0T"
      },
      "source": [
        "Vanilla Optimization"
      ],
      "id": "1lmfTiatwa0T"
    },
    {
      "cell_type": "code",
      "execution_count": null,
      "metadata": {
        "colab": {
          "base_uri": "https://localhost:8080/",
          "height": 706
        },
        "id": "_xjlUnHswa0T",
        "outputId": "3be8488d-210c-49bc-fa03-9a0860e14378"
      },
      "outputs": [
        {
          "output_type": "stream",
          "name": "stdout",
          "text": [
            "Initialized EA: 10000 population, 50 elites, VANILLA mode.\n",
            "Stopping Condition: loss delta less than 1e-06 for 20 generations.\n",
            "\n",
            "Problem Type: Travelling Salesman\n",
            "Parameters: 124 cities, NORMAL distribution\n",
            "\n",
            "Evolving\n",
            "..............................................................................................................................................................................................................................................................\n",
            "Convergence reached:\n",
            "\n",
            "Results written to /content/[17-04-2023-17:27:13]-history.json.\n",
            "\n",
            "Current Generation: 254\n",
            "\n",
            "Best Candidate:\n",
            "Sequence: [ 10  71  41 100 113  40  82 114  76  62 122  33  42  83 117  18  11 106\n",
            " 121  87  89  28   6  16  77  73  58   1  94  24  74  55  27  26 118 115\n",
            "  59  15  85  99  32 111  66  36  47  60 103  17  68  67 112   2  46  96\n",
            " 102  79  45  22  49   0  61 104  78  23  91  43  63 107   9  30  34 116\n",
            "  14 109  29  12  64  31  52  98  86   4   7  21 119  48  93  90  50  38\n",
            "  53  54  20  19  13  39 105  95  35   8  97  57 123  65  56  84  51 101\n",
            " 120   5  44  25  72  81 108   3  80  88  75  37  92 110  70  69]\n",
            "Fitness(Loss): -50.5388\n",
            "Crossover Probs: None\n",
            "Mutation Rate: None\n",
            "\n",
            "Loss: 50.53876583223593\n",
            "\n"
          ]
        },
        {
          "output_type": "display_data",
          "data": {
            "text/plain": [
              "<Figure size 640x480 with 0 Axes>"
            ]
          },
          "metadata": {}
        }
      ],
      "source": [
        "vanilla_history = vanilla_optimizer.fit()"
      ],
      "id": "_xjlUnHswa0T"
    },
    {
      "cell_type": "markdown",
      "metadata": {
        "id": "t7YuOBAwwa0U"
      },
      "source": [
        "Deep Optimization"
      ],
      "id": "t7YuOBAwwa0U"
    },
    {
      "cell_type": "code",
      "execution_count": null,
      "metadata": {
        "colab": {
          "base_uri": "https://localhost:8080/",
          "height": 1000
        },
        "id": "svDqJpovwa0U",
        "outputId": "2be4f14e-1ce4-4381-fa70-f0f4756fc541"
      },
      "outputs": [
        {
          "output_type": "stream",
          "name": "stdout",
          "text": [
            "Initialized EA: 10000 population, 50 elites, MLP mode.\n",
            "Stopping Condition: loss delta less than 1e-06 for 20 generations.\n",
            "\n",
            "Problem Type: Travelling Salesman\n",
            "Parameters: 124 cities, NORMAL distribution\n",
            "\n",
            "Evolving\n",
            "............................................................................................\n",
            "Convergence reached:\n",
            "\n",
            "Results written to /content/[17-04-2023-17:39:47]-history.json.\n",
            "\n",
            "Current Generation: 91\n",
            "\n",
            "Best Candidate:\n",
            "Sequence: [ 47  98  86   4   7 119  21  24 115  55  54 118  74  26  27  33  42 106\n",
            "  11  18 107 122  36  20  48  93  68 112  67  90  17 103  60  52  38  31\n",
            "  64  76 114  82 100 113  45 104   0  37 102  96  71  41  10   2  46  50\n",
            "  40  29  12  39 105  35   8  63  95  97  91  14   3   5  44  34 116   9\n",
            "  30  87  99  59  94  15  85   1  25   6 109  43  57 123  23  78  75  56\n",
            " 108  51  84 120  65  88  22  49  61  79  70 110  69  92 101  80  81  77\n",
            "  28  72  16  73  13 117  83  66  32 111  89  58 121  19  62  53]\n",
            "Fitness(Loss): -61.2159\n",
            "Crossover Probs: [1.8692379e-05 0.0000000e+00 0.0000000e+00 0.0000000e+00 0.0000000e+00\n",
            " 0.0000000e+00 1.6391312e-05 0.0000000e+00 0.0000000e+00 0.0000000e+00\n",
            " 0.0000000e+00 0.0000000e+00 0.0000000e+00 0.0000000e+00 1.2424678e-05\n",
            " 2.3351020e-05 0.0000000e+00 0.0000000e+00 0.0000000e+00 0.0000000e+00\n",
            " 3.3094377e-05 0.0000000e+00 0.0000000e+00 1.7467404e-05 2.4625395e-05\n",
            " 1.1193164e-06 0.0000000e+00 0.0000000e+00 0.0000000e+00 0.0000000e+00\n",
            " 0.0000000e+00 0.0000000e+00 1.1346550e-05 0.0000000e+00 2.4651941e-05\n",
            " 0.0000000e+00 2.6443145e-06 3.2602161e-06 0.0000000e+00 0.0000000e+00\n",
            " 0.0000000e+00 0.0000000e+00 0.0000000e+00 0.0000000e+00 2.3765098e-05\n",
            " 0.0000000e+00 0.0000000e+00 0.0000000e+00 0.0000000e+00 4.3869782e-06\n",
            " 0.0000000e+00 3.0828469e-05 1.1481898e-05 0.0000000e+00 0.0000000e+00\n",
            " 0.0000000e+00 8.9360668e-07 0.0000000e+00 0.0000000e+00 0.0000000e+00\n",
            " 0.0000000e+00 0.0000000e+00 1.7230010e-05 9.9211275e-07 2.8610531e-05\n",
            " 4.2201726e-05 0.0000000e+00 0.0000000e+00 0.0000000e+00 1.0803990e-05\n",
            " 5.8601243e-05 4.8759692e-05 4.0632985e-05 0.0000000e+00 0.0000000e+00\n",
            " 0.0000000e+00 0.0000000e+00 0.0000000e+00 3.2687705e-05 3.6971362e-06\n",
            " 0.0000000e+00 0.0000000e+00 0.0000000e+00 0.0000000e+00 7.5372996e-06\n",
            " 6.1273148e-08 9.0510148e-06 0.0000000e+00 0.0000000e+00 0.0000000e+00\n",
            " 0.0000000e+00 0.0000000e+00 1.7100108e-05 2.2506520e-05 2.2445900e-05\n",
            " 2.4411458e-05 2.2031893e-06 9.1689453e-06 0.0000000e+00 7.0955284e-06\n",
            " 0.0000000e+00 0.0000000e+00 2.4616351e-05 7.2988632e-06 0.0000000e+00\n",
            " 0.0000000e+00 3.9381641e-05 0.0000000e+00 0.0000000e+00 2.8169574e-05\n",
            " 0.0000000e+00 0.0000000e+00 0.0000000e+00 1.2702324e-05 7.1610972e-05\n",
            " 2.8828774e-05 0.0000000e+00 4.0340918e-05 0.0000000e+00 0.0000000e+00\n",
            " 4.0320610e-05 0.0000000e+00 0.0000000e+00 4.0506744e-05 0.0000000e+00\n",
            " 1.6290242e-05 2.2748611e-05 2.0569763e-05 1.3177754e-05 0.0000000e+00\n",
            " 0.0000000e+00 4.5695382e-05 0.0000000e+00 2.5245967e-05 0.0000000e+00\n",
            " 0.0000000e+00 0.0000000e+00 0.0000000e+00 7.9663175e-07 2.3276205e-05\n",
            " 2.3022638e-05 0.0000000e+00 0.0000000e+00 4.3053287e-06 2.1839811e-05\n",
            " 0.0000000e+00 4.9634368e-06 2.7739818e-05 8.0179194e-07 0.0000000e+00\n",
            " 0.0000000e+00 0.0000000e+00 2.7164237e-05 6.7932401e-06 0.0000000e+00\n",
            " 0.0000000e+00 0.0000000e+00 5.6816598e-06 0.0000000e+00 1.6164409e-05\n",
            " 0.0000000e+00 0.0000000e+00 1.8625849e-05 1.6963812e-05 3.6225370e-06\n",
            " 9.6290050e-06 3.8380649e-06 1.1062030e-05 0.0000000e+00 0.0000000e+00\n",
            " 1.1904439e-05 0.0000000e+00 0.0000000e+00 0.0000000e+00 0.0000000e+00\n",
            " 1.9413190e-05 0.0000000e+00 1.2383530e-06 0.0000000e+00 0.0000000e+00\n",
            " 0.0000000e+00 1.5513035e-05 0.0000000e+00 3.1154639e-05 1.1587942e-05\n",
            " 0.0000000e+00 1.5776019e-05 9.1234515e-06 5.9750400e-06 0.0000000e+00\n",
            " 0.0000000e+00 0.0000000e+00 0.0000000e+00 0.0000000e+00 0.0000000e+00\n",
            " 8.1712788e-06 1.6901329e-06 0.0000000e+00 0.0000000e+00 2.5231708e-05\n",
            " 0.0000000e+00 0.0000000e+00 2.9321080e-05 1.0529783e-06 0.0000000e+00\n",
            " 2.9756226e-05 1.4370471e-05 1.7713823e-05 0.0000000e+00 2.4025603e-05\n",
            " 2.3825418e-05 2.6897284e-05 0.0000000e+00 1.2835126e-05 1.3950009e-05\n",
            " 1.6293799e-05 0.0000000e+00 0.0000000e+00 0.0000000e+00 0.0000000e+00\n",
            " 1.6390948e-05 2.1484288e-05 0.0000000e+00 7.3815800e-06 1.4459180e-05\n",
            " 0.0000000e+00 2.2542938e-05 9.7972388e-06 2.0770147e-05 1.3134589e-05\n",
            " 2.3227905e-05 1.5995256e-05 0.0000000e+00 0.0000000e+00 1.7095173e-05\n",
            " 0.0000000e+00 0.0000000e+00 2.7410342e-05 0.0000000e+00 1.9076428e-05\n",
            " 1.3817877e-05 0.0000000e+00 0.0000000e+00 1.0961644e-05 6.0094408e-06\n",
            " 0.0000000e+00 3.6058432e-06 0.0000000e+00]\n",
            "Mutation Rate: 0.0005010243039578199\n",
            "\n",
            "Loss: 61.21586431507818\n",
            "\n"
          ]
        },
        {
          "output_type": "display_data",
          "data": {
            "text/plain": [
              "<Figure size 640x480 with 0 Axes>"
            ]
          },
          "metadata": {}
        }
      ],
      "source": [
        "deep_history = deep_optimizer.fit()"
      ],
      "id": "svDqJpovwa0U"
    },
    {
      "cell_type": "markdown",
      "metadata": {
        "id": "jXeMAVoXwa0U"
      },
      "source": [
        "Plotting"
      ],
      "id": "jXeMAVoXwa0U"
    },
    {
      "cell_type": "code",
      "execution_count": null,
      "metadata": {
        "id": "_9R5g95owa0V"
      },
      "outputs": [],
      "source": [
        "with open(vanilla_history, 'r') as f:\n",
        "    vanilla_history = json.load(f)\n",
        "with open(deep_history, 'r') as f:\n",
        "    deep_history = json.load(f)"
      ],
      "id": "_9R5g95owa0V"
    },
    {
      "cell_type": "code",
      "execution_count": null,
      "metadata": {
        "colab": {
          "base_uri": "https://localhost:8080/",
          "height": 545
        },
        "id": "xfbes-tQwa0V",
        "outputId": "82548fa0-006a-41a6-ceec-4623bbdc9233"
      },
      "outputs": [
        {
          "output_type": "display_data",
          "data": {
            "text/plain": [
              "<Figure size 1000x600 with 1 Axes>"
            ],
            "image/png": "[encoded data removed]"
          },
          "metadata": {}
        }
      ],
      "source": [
        "plot_histories(vanilla_history, deep_history, '124-cities.png')"
      ],
      "id": "xfbes-tQwa0V"
    }
  ],
  "metadata": {
    "kernelspec": {
      "display_name": "Python 3 (ipykernel)",
      "language": "python",
      "name": "python3"
    },
    "language_info": {
      "codemirror_mode": {
        "name": "ipython",
        "version": 3
      },
      "file_extension": ".py",
      "mimetype": "text/x-python",
      "name": "python",
      "nbconvert_exporter": "python",
      "pygments_lexer": "ipython3",
      "version": "3.8.2"
    },
    "colab": {
      "provenance": [],
      "collapsed_sections": [
        "f7e14096-536b-41f9-af1f-087c67b08384",
        "aBHQVPIOvdL0",
        "OkBB4a0Ovry3",
        "GqIGMScrv0xK",
        "fonFG7Z_v526",
        "wPU65sCEv_N5",
        "33ocIN4swG_y",
        "LeF4TJvLwTIe"
      ]
    },
    "accelerator": "GPU",
    "gpuClass": "standard"
  },
  "nbformat": 4,
  "nbformat_minor": 5
}
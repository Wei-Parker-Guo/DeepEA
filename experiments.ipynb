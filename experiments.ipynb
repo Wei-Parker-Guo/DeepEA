{
  "cells": [
    {
      "cell_type": "markdown",
      "id": "1a7ca0c1-2c66-45a5-b3db-b6432d6a720c",
      "metadata": {
        "id": "1a7ca0c1-2c66-45a5-b3db-b6432d6a720c"
      },
      "source": [
        "# Experiments for DeepEA\n",
        "\n",
        "This notebook runs both the vanilla EA and the deep EA for comparison of convergence.\n",
        "\n",
        "Please see the src folder for source code, there is also a poster under data."
      ]
    },
    {
      "cell_type": "code",
      "source": [
        "# only run this if on colab\n",
        "from google.colab import drive\n",
        "import sys\n",
        "drive.mount('/content/drive')\n",
        "sys.path.append('/content/drive/MyDrive/Current_Activities/DeepEA')  # change this to your directory containing src"
      ],
      "metadata": {
        "colab": {
          "base_uri": "https://localhost:8080/"
        },
        "id": "vThgmzJwY1c_",
        "outputId": "eb4e9ae9-f6c6-447e-ce22-635af6c9d1b0"
      },
      "id": "vThgmzJwY1c_",
      "execution_count": 1,
      "outputs": [
        {
          "output_type": "stream",
          "name": "stdout",
          "text": [
            "Drive already mounted at /content/drive; to attempt to forcibly remount, call drive.mount(\"/content/drive\", force_remount=True).\n"
          ]
        }
      ]
    },
    {
      "cell_type": "code",
      "execution_count": 2,
      "id": "d942dd85-eb05-4ab4-b224-ab4c8a6681be",
      "metadata": {
        "id": "d942dd85-eb05-4ab4-b224-ab4c8a6681be"
      },
      "outputs": [],
      "source": [
        "from src.problems.tsp import TSP\n",
        "from src.ea.optimizer import Optimizer, OptimizerMode\n",
        "import json\n",
        "\n",
        "DEVICE = 'cuda'\n",
        "DEPTH = 10"
      ]
    },
    {
      "cell_type": "code",
      "execution_count": 3,
      "id": "0ba69b91-9308-499a-948b-23aaf855c380",
      "metadata": {
        "id": "0ba69b91-9308-499a-948b-23aaf855c380"
      },
      "outputs": [],
      "source": [
        "import matplotlib.pyplot as plt\n",
        "\n",
        "def plot_histories(h1, h2, save_name):\n",
        "    # data\n",
        "    x1 = h1['generation']\n",
        "    y1 = h1['loss']\n",
        "    x2 = h2['generation']\n",
        "    y2 = h2['loss']\n",
        "    \n",
        "    # Plotting the two lines with different colors\n",
        "    fig, ax = plt.subplots(figsize=(10, 6))\n",
        "    ax.plot(x1, y1, color='blue', label='VanillaEA')\n",
        "    ax.plot(x2, y2, color='green', label='DeepEA')\n",
        "\n",
        "    # Adding title and legend\n",
        "    ax.set_title('Convergence Processes of VanillaEA and DeepEA')\n",
        "    ax.legend()\n",
        "\n",
        "    # Displaying the plot\n",
        "    plt.show()\n",
        "    fig.savefig(save_name, dpi=300)\n",
        "    "
      ]
    },
    {
      "cell_type": "markdown",
      "id": "f7e14096-536b-41f9-af1f-087c67b08384",
      "metadata": {
        "id": "f7e14096-536b-41f9-af1f-087c67b08384"
      },
      "source": [
        "## Trial 1 : 30-Nodes TSP, 10 depth"
      ]
    },
    {
      "cell_type": "markdown",
      "id": "201f0fce-5601-487e-ae86-c63d03d61950",
      "metadata": {
        "id": "201f0fce-5601-487e-ae86-c63d03d61950"
      },
      "source": [
        "Setup: we are only only use verbose mode in trial 1 to better illustrate the optimization process."
      ]
    },
    {
      "cell_type": "code",
      "execution_count": 4,
      "id": "0ce68639-4c7a-4a0b-aca4-a14f35e88819",
      "metadata": {
        "id": "0ce68639-4c7a-4a0b-aca4-a14f35e88819"
      },
      "outputs": [],
      "source": [
        "tsp_p = TSP(cities=30)  # TSP problem\n",
        "# optimizers\n",
        "vanilla_optimizer = Optimizer(tsp_p, mode=OptimizerMode.VANILLA, device=DEVICE, verbose=True)\n",
        "deep_optimizer = Optimizer(tsp_p, mode=OptimizerMode.MLP, depth=DEPTH, device=DEVICE, verbose=True)"
      ]
    },
    {
      "cell_type": "markdown",
      "id": "f5811beb-7cfe-46c6-97ab-044457b877ea",
      "metadata": {
        "id": "f5811beb-7cfe-46c6-97ab-044457b877ea"
      },
      "source": [
        "Vanilla Optimization"
      ]
    },
    {
      "cell_type": "code",
      "execution_count": 5,
      "id": "87398798-153b-436d-9d9d-b66aadb28229",
      "metadata": {
        "colab": {
          "base_uri": "https://localhost:8080/"
        },
        "id": "87398798-153b-436d-9d9d-b66aadb28229",
        "outputId": "6285b954-c61a-4d74-d8f6-01198a44ee61"
      },
      "outputs": [
        {
          "output_type": "stream",
          "name": "stdout",
          "text": [
            "Initialized EA: 10000 population, 50 elites, VANILLA mode.\n",
            "Stopping Condition: loss delta less than 1e-06 for 20 generations.\n",
            "\n",
            "Problem Type: Travelling Salesman\n",
            "Parameters: 30 cities, NORMAL distribution\n",
            "\n",
            "Evolving\n",
            "Current Generation: 10\n",
            "\n",
            "Best Candidate:\n",
            "Sequence: [ 1 24  8  0 27 26 12  9 23  4  3 21 20 13  6 11 25 18 17 16  2  5 10 28\n",
            "  7 22 29 15 19 14]\n",
            "Fitness(Loss): -23.5787\n",
            "Crossover Probs: None\n",
            "Mutation Rate: None\n",
            "\n",
            "Loss: 23.578707339765096\n",
            "\n",
            "Current Generation: 20\n",
            "\n",
            "Best Candidate:\n",
            "Sequence: [29 19 15 14  1 24  8  0 27 26 12  9 23  3  4 21 13 20  6 11 25 18 17 16\n",
            "  2  5 10 28  7 22]\n",
            "Fitness(Loss): -22.8846\n",
            "Crossover Probs: None\n",
            "Mutation Rate: None\n",
            "\n",
            "Loss: 22.88464776193854\n",
            "\n",
            "Current Generation: 30\n",
            "\n",
            "Best Candidate:\n",
            "Sequence: [29 19 15 14  1 24  8  0 27 26 12  9 23  3  4 21 13 20  6 11 25 18 17 16\n",
            "  2  5 10 28  7 22]\n",
            "Fitness(Loss): -22.8846\n",
            "Crossover Probs: None\n",
            "Mutation Rate: None\n",
            "\n",
            "Loss: 22.88464776193854\n",
            "\n",
            "\n",
            "Convergence reached:\n",
            "\n",
            "Results written to /content/[13-04-2023-07:42:01]-history.json.\n",
            "\n",
            "Current Generation: 35\n",
            "\n",
            "Best Candidate:\n",
            "Sequence: [29 19 15 14  1 24  8  0 27 26 12  9 23  3  4 21 13 20  6 11 25 18 17 16\n",
            "  2  5 10 28  7 22]\n",
            "Fitness(Loss): -22.8846\n",
            "Crossover Probs: None\n",
            "Mutation Rate: None\n",
            "\n",
            "Loss: 22.88464776193854\n",
            "\n"
          ]
        }
      ],
      "source": [
        "vanilla_history = vanilla_optimizer.fit()"
      ]
    },
    {
      "cell_type": "markdown",
      "id": "eeb048ca-0f87-491a-b670-0a6dd3812bb5",
      "metadata": {
        "id": "eeb048ca-0f87-491a-b670-0a6dd3812bb5"
      },
      "source": [
        "Deep Optimization"
      ]
    },
    {
      "cell_type": "code",
      "execution_count": 6,
      "id": "5869ae6b-f69d-48f1-8a8a-6c9c92e2b9d1",
      "metadata": {
        "colab": {
          "base_uri": "https://localhost:8080/"
        },
        "id": "5869ae6b-f69d-48f1-8a8a-6c9c92e2b9d1",
        "outputId": "e61913d3-3c6c-4257-cf91-1dff8787c1e3"
      },
      "outputs": [
        {
          "output_type": "stream",
          "name": "stdout",
          "text": [
            "Initialized EA: 10000 population, 50 elites, MLP mode.\n",
            "Stopping Condition: loss delta less than 1e-06 for 20 generations.\n",
            "\n",
            "Problem Type: Travelling Salesman\n",
            "Parameters: 30 cities, NORMAL distribution\n",
            "\n",
            "Evolving\n",
            "\n",
            "Training MLP GAN, Generation 3:\n",
            "\n",
            "Epoch 2 loss: 0.19573673605918884\n",
            "Epoch 4 loss: 7.197897502919659e-05\n",
            "Epoch 6 loss: 7.239777187351137e-05\n",
            "Training Complete.\n",
            "\n",
            "\n",
            "Training MLP GAN, Generation 6:\n",
            "\n",
            "Epoch 2 loss: 6.526720244437456e-05\n",
            "Epoch 4 loss: 6.573555583599955e-05\n",
            "Training Complete.\n",
            "\n",
            "\n",
            "Training MLP GAN, Generation 9:\n",
            "\n",
            "Epoch 2 loss: 7.539922080468386e-05\n",
            "Epoch 4 loss: 7.18785886419937e-05\n",
            "Training Complete.\n",
            "\n",
            "Current Generation: 10\n",
            "\n",
            "Best Candidate:\n",
            "Sequence: [ 9 23 13 20  6 11 25 21 18  5 10 28 22 29 15 19 14  7  1 24  2 16 17  3\n",
            "  4  8  0 27 26 12]\n",
            "Fitness(Loss): -23.8956\n",
            "Crossover Probs: [0.00000000e+00 0.00000000e+00 0.00000000e+00 0.00000000e+00\n",
            " 0.00000000e+00 0.00000000e+00 0.00000000e+00 0.00000000e+00\n",
            " 0.00000000e+00 0.00000000e+00 0.00000000e+00 2.56644358e-04\n",
            " 0.00000000e+00 0.00000000e+00 1.18924836e-04 0.00000000e+00\n",
            " 0.00000000e+00 0.00000000e+00 3.80010315e-05 2.44206196e-04\n",
            " 0.00000000e+00 2.79209894e-06 3.11345881e-04 0.00000000e+00\n",
            " 2.80856420e-05 0.00000000e+00 0.00000000e+00 0.00000000e+00\n",
            " 0.00000000e+00 0.00000000e+00 0.00000000e+00 0.00000000e+00\n",
            " 1.57516479e-04 7.49162864e-05 0.00000000e+00 7.72143248e-05\n",
            " 1.07780346e-04 1.26383893e-04 0.00000000e+00 0.00000000e+00\n",
            " 0.00000000e+00 0.00000000e+00 0.00000000e+00 0.00000000e+00\n",
            " 1.65085992e-04 0.00000000e+00 5.17702574e-05 0.00000000e+00\n",
            " 1.22058518e-04 0.00000000e+00 0.00000000e+00 0.00000000e+00\n",
            " 0.00000000e+00 0.00000000e+00 0.00000000e+00 0.00000000e+00\n",
            " 1.44926344e-05 1.02781349e-04 0.00000000e+00 0.00000000e+00]\n",
            "Mutation Rate: 0.0004866884264629334\n",
            "\n",
            "Loss: 23.89556965050104\n",
            "\n",
            "\n",
            "Training MLP GAN, Generation 12:\n",
            "\n",
            "Epoch 2 loss: 7.543310493929312e-05\n",
            "Epoch 4 loss: 7.085316610755399e-05\n",
            "Training Complete.\n",
            "\n",
            "\n",
            "Training MLP GAN, Generation 15:\n",
            "\n",
            "Epoch 2 loss: 7.508701673941687e-05\n",
            "Epoch 4 loss: 6.25240063527599e-05\n",
            "Epoch 6 loss: 6.162025965750217e-05\n",
            "Epoch 8 loss: 8.369819261133671e-05\n",
            "Epoch 10 loss: 6.306987052084878e-05\n",
            "Epoch 12 loss: 7.707828626735136e-05\n",
            "Epoch 14 loss: 7.395420834654942e-05\n",
            "Training Complete.\n",
            "\n",
            "\n",
            "Training MLP GAN, Generation 18:\n",
            "\n",
            "Epoch 2 loss: 7.059070048853755e-05\n",
            "Epoch 4 loss: 7.116104825399816e-05\n",
            "Training Complete.\n",
            "\n",
            "Current Generation: 20\n",
            "\n",
            "Best Candidate:\n",
            "Sequence: [23 12  9 13 20  6 11 21 25 17 18  5 10 28  7 22 29 15 19 14  1 24  2 16\n",
            "  8  0 27 26  4  3]\n",
            "Fitness(Loss): -22.3447\n",
            "Crossover Probs: [1.2665296e-05 0.0000000e+00 3.6203630e-05 0.0000000e+00 0.0000000e+00\n",
            " 0.0000000e+00 0.0000000e+00 3.2305680e-04 0.0000000e+00 0.0000000e+00\n",
            " 2.8262523e-04 0.0000000e+00 0.0000000e+00 1.7182416e-05 2.1633690e-05\n",
            " 0.0000000e+00 0.0000000e+00 0.0000000e+00 0.0000000e+00 0.0000000e+00\n",
            " 0.0000000e+00 0.0000000e+00 1.6110596e-04 0.0000000e+00 0.0000000e+00\n",
            " 0.0000000e+00 0.0000000e+00 1.1470141e-04 3.0825617e-05 0.0000000e+00\n",
            " 0.0000000e+00 1.8886758e-04 7.4203621e-05 0.0000000e+00 0.0000000e+00\n",
            " 0.0000000e+00 0.0000000e+00 0.0000000e+00 0.0000000e+00 0.0000000e+00\n",
            " 6.4904540e-05 1.0763146e-04 0.0000000e+00 0.0000000e+00 0.0000000e+00\n",
            " 1.8880842e-04 1.1767255e-04 0.0000000e+00 0.0000000e+00 0.0000000e+00\n",
            " 0.0000000e+00 2.4705537e-04 0.0000000e+00 0.0000000e+00 0.0000000e+00\n",
            " 0.0000000e+00 0.0000000e+00 0.0000000e+00 1.0856591e-05 0.0000000e+00]\n",
            "Mutation Rate: 0.0004554384795483202\n",
            "\n",
            "Loss: 22.344685414107175\n",
            "\n",
            "\n",
            "Training MLP GAN, Generation 21:\n",
            "\n",
            "Epoch 2 loss: 7.160216046031564e-05\n",
            "Epoch 4 loss: 7.342432218138129e-05\n",
            "Training Complete.\n",
            "\n",
            "\n",
            "Training MLP GAN, Generation 24:\n",
            "\n",
            "Epoch 2 loss: 6.388362089637667e-05\n",
            "Epoch 4 loss: 7.171021570684388e-05\n",
            "Training Complete.\n",
            "\n",
            "\n",
            "Training MLP GAN, Generation 27:\n",
            "\n",
            "Epoch 2 loss: 6.899566506035626e-05\n",
            "Epoch 4 loss: 6.995179137447849e-05\n",
            "Training Complete.\n",
            "\n",
            "Current Generation: 30\n",
            "\n",
            "Best Candidate:\n",
            "Sequence: [19 15 14  1 24  2 16  8  0 27 26  4  3 23 12  9 13 20  6 11 21 25 17 18\n",
            "  5 10 28  7 22 29]\n",
            "Fitness(Loss): -22.3274\n",
            "Crossover Probs: [1.3931995e-04 0.0000000e+00 0.0000000e+00 0.0000000e+00 0.0000000e+00\n",
            " 1.7047410e-06 5.0713543e-06 0.0000000e+00 1.9325317e-04 1.4644682e-04\n",
            " 4.0536328e-05 0.0000000e+00 0.0000000e+00 1.6035468e-05 2.4200692e-05\n",
            " 0.0000000e+00 0.0000000e+00 8.6572596e-05 0.0000000e+00 0.0000000e+00\n",
            " 0.0000000e+00 2.7248141e-05 0.0000000e+00 0.0000000e+00 1.9670390e-04\n",
            " 9.9621022e-05 2.3285824e-05 0.0000000e+00 0.0000000e+00 0.0000000e+00\n",
            " 1.5793426e-04 0.0000000e+00 0.0000000e+00 0.0000000e+00 0.0000000e+00\n",
            " 0.0000000e+00 0.0000000e+00 2.8513634e-05 2.2422986e-05 0.0000000e+00\n",
            " 1.4870944e-04 0.0000000e+00 0.0000000e+00 0.0000000e+00 0.0000000e+00\n",
            " 0.0000000e+00 0.0000000e+00 1.6848674e-07 4.1379058e-06 0.0000000e+00\n",
            " 2.0174161e-04 2.4421082e-04 0.0000000e+00 8.8559109e-06 0.0000000e+00\n",
            " 1.8330502e-04 0.0000000e+00 0.0000000e+00 0.0000000e+00 0.0000000e+00]\n",
            "Mutation Rate: 0.0004736142582260072\n",
            "\n",
            "Loss: 22.32737053905408\n",
            "\n",
            "\n",
            "Training MLP GAN, Generation 30:\n",
            "\n",
            "Epoch 2 loss: 6.910307274665684e-05\n",
            "Epoch 4 loss: 6.626275717280805e-05\n",
            "Training Complete.\n",
            "\n",
            "\n",
            "Training MLP GAN, Generation 33:\n",
            "\n",
            "Epoch 2 loss: 6.912768731126562e-05\n",
            "Epoch 4 loss: 7.606688450323418e-05\n",
            "Training Complete.\n",
            "\n",
            "\n",
            "Training MLP GAN, Generation 36:\n",
            "\n",
            "Epoch 2 loss: 7.109071884769946e-05\n",
            "Epoch 4 loss: 7.158699008869007e-05\n",
            "Training Complete.\n",
            "\n",
            "\n",
            "Training MLP GAN, Generation 39:\n",
            "\n",
            "Epoch 2 loss: 7.404761709040031e-05\n",
            "Epoch 4 loss: 6.630759162362665e-05\n",
            "Training Complete.\n",
            "\n",
            "Current Generation: 40\n",
            "\n",
            "Best Candidate:\n",
            "Sequence: [19 15 14  1 24  2 16  8  0 27 26  4  3 23 12  9 13 20  6 11 21 25 17 18\n",
            "  5 10 28  7 22 29]\n",
            "Fitness(Loss): -22.3274\n",
            "Crossover Probs: [0.00000000e+00 5.77397368e-05 0.00000000e+00 0.00000000e+00\n",
            " 3.43012434e-05 9.73711212e-06 0.00000000e+00 2.01604824e-04\n",
            " 1.39105425e-04 1.16288320e-04 4.74076160e-06 0.00000000e+00\n",
            " 0.00000000e+00 0.00000000e+00 1.24036276e-04 3.05200119e-05\n",
            " 0.00000000e+00 5.36633888e-05 0.00000000e+00 1.53246830e-04\n",
            " 0.00000000e+00 0.00000000e+00 0.00000000e+00 0.00000000e+00\n",
            " 0.00000000e+00 0.00000000e+00 7.50160980e-05 0.00000000e+00\n",
            " 0.00000000e+00 0.00000000e+00 0.00000000e+00 1.01191945e-04\n",
            " 1.30349465e-04 0.00000000e+00 1.27255655e-04 0.00000000e+00\n",
            " 3.05468093e-05 0.00000000e+00 1.14117967e-04 1.06039442e-04\n",
            " 1.23026824e-04 0.00000000e+00 0.00000000e+00 0.00000000e+00\n",
            " 3.80604952e-08 6.84594079e-06 0.00000000e+00 0.00000000e+00\n",
            " 0.00000000e+00 0.00000000e+00 8.06569517e-07 0.00000000e+00\n",
            " 1.04571654e-05 0.00000000e+00 0.00000000e+00 1.45208440e-04\n",
            " 1.04115781e-04 0.00000000e+00 0.00000000e+00 0.00000000e+00]\n",
            "Mutation Rate: 0.0005025104037486017\n",
            "\n",
            "Loss: 22.32737053905408\n",
            "\n",
            "\n",
            "Convergence reached:\n",
            "\n",
            "Results written to /content/[13-04-2023-07:43:46]-history.json.\n",
            "\n",
            "Current Generation: 41\n",
            "\n",
            "Best Candidate:\n",
            "Sequence: [19 15 14  1 24  2 16  8  0 27 26  4  3 23 12  9 13 20  6 11 21 25 17 18\n",
            "  5 10 28  7 22 29]\n",
            "Fitness(Loss): -22.3274\n",
            "Crossover Probs: [1.08216009e-04 0.00000000e+00 0.00000000e+00 0.00000000e+00\n",
            " 0.00000000e+00 0.00000000e+00 1.46263177e-04 9.63091079e-05\n",
            " 8.33061931e-05 0.00000000e+00 0.00000000e+00 0.00000000e+00\n",
            " 0.00000000e+00 1.32571040e-05 0.00000000e+00 0.00000000e+00\n",
            " 1.10441411e-04 0.00000000e+00 0.00000000e+00 8.52152152e-06\n",
            " 0.00000000e+00 0.00000000e+00 0.00000000e+00 0.00000000e+00\n",
            " 1.03330865e-04 1.16216419e-04 4.45061305e-05 0.00000000e+00\n",
            " 1.16618256e-04 5.30138786e-05 0.00000000e+00 0.00000000e+00\n",
            " 0.00000000e+00 0.00000000e+00 2.11213977e-04 8.93553733e-05\n",
            " 3.61687053e-05 0.00000000e+00 0.00000000e+00 0.00000000e+00\n",
            " 0.00000000e+00 0.00000000e+00 0.00000000e+00 1.65922800e-04\n",
            " 1.30646413e-05 0.00000000e+00 1.52533743e-04 0.00000000e+00\n",
            " 0.00000000e+00 8.85048576e-06 7.08906356e-08 1.84087505e-04\n",
            " 1.38731892e-04 0.00000000e+00 0.00000000e+00 0.00000000e+00\n",
            " 0.00000000e+00 0.00000000e+00 0.00000000e+00 0.00000000e+00]\n",
            "Mutation Rate: 0.0004761658201459795\n",
            "\n",
            "Loss: 22.32737053905408\n",
            "\n"
          ]
        }
      ],
      "source": [
        "deep_history = deep_optimizer.fit()"
      ]
    },
    {
      "cell_type": "markdown",
      "id": "2aa7c62d-9ecc-4264-a684-d264fc778b14",
      "metadata": {
        "id": "2aa7c62d-9ecc-4264-a684-d264fc778b14"
      },
      "source": [
        "Plotting"
      ]
    },
    {
      "cell_type": "code",
      "execution_count": 7,
      "id": "f8f41c52-2cdb-472a-9afc-c8892ca31e2e",
      "metadata": {
        "id": "f8f41c52-2cdb-472a-9afc-c8892ca31e2e"
      },
      "outputs": [],
      "source": [
        "with open(vanilla_history, 'r') as f:\n",
        "    vanilla_history = json.load(f)\n",
        "with open(deep_history, 'r') as f:\n",
        "    deep_history = json.load(f)"
      ]
    },
    {
      "cell_type": "code",
      "execution_count": 8,
      "id": "084715a3-7af2-4ccb-874e-579131f48691",
      "metadata": {
        "colab": {
          "base_uri": "https://localhost:8080/",
          "height": 545
        },
        "id": "084715a3-7af2-4ccb-874e-579131f48691",
        "outputId": "741ae2c4-615f-4bb9-d527-8161f1e233fe"
      },
      "outputs": [
        {
          "output_type": "display_data",
          "data": {
            "text/plain": [
              "<Figure size 1000x600 with 1 Axes>"
            ],
            "image/png": "[encoded data removed]"
          },
          "metadata": {}
        }
      ],
      "source": [
        "plot_histories(vanilla_history, deep_history, '30-cities.png')"
      ]
    },
    {
      "cell_type": "markdown",
      "id": "e8c86738-bf65-45ed-8d6e-426ef1510306",
      "metadata": {
        "id": "e8c86738-bf65-45ed-8d6e-426ef1510306"
      },
      "source": [
        "## Trial 2 : 60-Nodes TSP, 10 depth"
      ]
    },
    {
      "cell_type": "markdown",
      "id": "aaba0a7d-5ea7-49d8-8ccf-8ce7999e7963",
      "metadata": {
        "id": "aaba0a7d-5ea7-49d8-8ccf-8ce7999e7963"
      },
      "source": [
        "Setup:"
      ]
    },
    {
      "cell_type": "code",
      "execution_count": 9,
      "id": "d96973fc-d717-483b-af1d-ebedbe39011e",
      "metadata": {
        "id": "d96973fc-d717-483b-af1d-ebedbe39011e"
      },
      "outputs": [],
      "source": [
        "tsp_p = TSP(cities=60)  # TSP problem\n",
        "# optimizers\n",
        "vanilla_optimizer = Optimizer(tsp_p, mode=OptimizerMode.VANILLA, device=DEVICE, verbose=False)\n",
        "deep_optimizer = Optimizer(tsp_p, mode=OptimizerMode.MLP, depth=DEPTH, device=DEVICE, verbose=False)"
      ]
    },
    {
      "cell_type": "markdown",
      "id": "b4f366e9-62bf-408b-ae1b-f9fb6fd9a4c8",
      "metadata": {
        "id": "b4f366e9-62bf-408b-ae1b-f9fb6fd9a4c8"
      },
      "source": [
        "Vanilla Optimization"
      ]
    },
    {
      "cell_type": "code",
      "execution_count": 10,
      "id": "b7a4cf85-cef5-4d43-97ed-dabf45d3335e",
      "metadata": {
        "colab": {
          "base_uri": "https://localhost:8080/"
        },
        "id": "b7a4cf85-cef5-4d43-97ed-dabf45d3335e",
        "outputId": "f118100e-557d-4c66-e831-6015284b4e59"
      },
      "outputs": [
        {
          "output_type": "stream",
          "name": "stdout",
          "text": [
            "Initialized EA: 10000 population, 50 elites, VANILLA mode.\n",
            "Stopping Condition: loss delta less than 1e-06 for 20 generations.\n",
            "\n",
            "Problem Type: Travelling Salesman\n",
            "Parameters: 60 cities, NORMAL distribution\n",
            "\n",
            "Evolving\n",
            ".......................................................................................................................................\n",
            "Convergence reached:\n",
            "\n",
            "Results written to /content/[13-04-2023-07:48:36]-history.json.\n",
            "\n",
            "Current Generation: 135\n",
            "\n",
            "Best Candidate:\n",
            "Sequence: [27  4  6 10  1 50 34 44 37 42 26 54 59 15 58 39 38  7  3 53 16 31 55 17\n",
            "  9 57 32 48 46  0  8 13 51 19 45  2 21 29 30 36 14 28 56 18 11 22 20 49\n",
            " 24 43 41  5 52 23 25 12 40 35 33 47]\n",
            "Fitness(Loss): -26.5062\n",
            "Crossover Probs: None\n",
            "Mutation Rate: None\n",
            "\n",
            "Loss: 26.50623512901484\n",
            "\n"
          ]
        }
      ],
      "source": [
        "vanilla_history = vanilla_optimizer.fit()"
      ]
    },
    {
      "cell_type": "markdown",
      "id": "e6e1ad6d-551c-40aa-b19a-d7c13382aef8",
      "metadata": {
        "id": "e6e1ad6d-551c-40aa-b19a-d7c13382aef8"
      },
      "source": [
        "Deep Optimization"
      ]
    },
    {
      "cell_type": "code",
      "execution_count": 11,
      "id": "c5053775-db2a-4a56-972b-2472ea218c65",
      "metadata": {
        "colab": {
          "base_uri": "https://localhost:8080/"
        },
        "id": "c5053775-db2a-4a56-972b-2472ea218c65",
        "outputId": "d63bb0f4-ded6-45b0-9479-1a51879f80d4"
      },
      "outputs": [
        {
          "output_type": "stream",
          "name": "stdout",
          "text": [
            "Initialized EA: 10000 population, 50 elites, MLP mode.\n",
            "Stopping Condition: loss delta less than 1e-06 for 20 generations.\n",
            "\n",
            "Problem Type: Travelling Salesman\n",
            "Parameters: 60 cities, NORMAL distribution\n",
            "\n",
            "Evolving\n",
            "........................................................................\n",
            "Convergence reached:\n",
            "\n",
            "Results written to /content/[13-04-2023-07:53:36]-history.json.\n",
            "\n",
            "Current Generation: 72\n",
            "\n",
            "Best Candidate:\n",
            "Sequence: [30 36 14 33 35 56 28 18 11 22 52  5 20 12 25 47  4  6 10  1 27 40 49 43\n",
            " 41 24 23  7  3 39 15 58 38 53 16 31 37 59 54 26 42 44 34 50 55 17  0 46\n",
            " 51 48 13  8  9 57 32 19 45  2 21 29]\n",
            "Fitness(Loss): -25.9862\n",
            "Crossover Probs: [0.0000000e+00 4.4853598e-05 0.0000000e+00 1.8084975e-05 2.7929267e-05\n",
            " 0.0000000e+00 0.0000000e+00 0.0000000e+00 0.0000000e+00 2.5681094e-05\n",
            " 2.9850489e-05 0.0000000e+00 0.0000000e+00 2.0238034e-05 0.0000000e+00\n",
            " 1.5154727e-06 0.0000000e+00 0.0000000e+00 4.6320230e-05 2.0858170e-05\n",
            " 4.8049635e-05 6.2171152e-05 1.9390359e-06 0.0000000e+00 7.4303447e-05\n",
            " 0.0000000e+00 1.6174004e-05 0.0000000e+00 7.9882966e-06 0.0000000e+00\n",
            " 2.4620098e-05 7.5278971e-05 0.0000000e+00 0.0000000e+00 4.7745849e-05\n",
            " 8.1113896e-05 0.0000000e+00 3.9743834e-05 2.5366380e-05 0.0000000e+00\n",
            " 0.0000000e+00 0.0000000e+00 0.0000000e+00 0.0000000e+00 5.3946125e-05\n",
            " 4.7428402e-05 0.0000000e+00 0.0000000e+00 5.0289609e-06 0.0000000e+00\n",
            " 0.0000000e+00 3.5470101e-05 2.3048831e-05 3.8203772e-05 1.0872815e-06\n",
            " 0.0000000e+00 0.0000000e+00 0.0000000e+00 5.5960620e-05 0.0000000e+00\n",
            " 1.0876079e-05 0.0000000e+00 1.6475113e-05 2.8443197e-05 6.1710448e-06\n",
            " 0.0000000e+00 0.0000000e+00 0.0000000e+00 0.0000000e+00 0.0000000e+00\n",
            " 0.0000000e+00 0.0000000e+00 0.0000000e+00 0.0000000e+00 3.3275672e-05\n",
            " 0.0000000e+00 0.0000000e+00 1.3476810e-07 0.0000000e+00 9.9273930e-05\n",
            " 0.0000000e+00 0.0000000e+00 5.5737160e-06 5.2442261e-05 5.9045880e-05\n",
            " 0.0000000e+00 3.0499898e-05 7.6608676e-06 3.0523559e-05 7.5002201e-05\n",
            " 0.0000000e+00 4.5138026e-05 3.7508646e-05 0.0000000e+00 0.0000000e+00\n",
            " 0.0000000e+00 0.0000000e+00 0.0000000e+00 6.1115011e-06 6.5503686e-05\n",
            " 0.0000000e+00 7.6403587e-05 3.1824602e-05 0.0000000e+00 4.2016956e-05\n",
            " 0.0000000e+00 5.9696198e-05 0.0000000e+00 0.0000000e+00 0.0000000e+00\n",
            " 0.0000000e+00 0.0000000e+00 1.7128901e-05 8.5264299e-05 0.0000000e+00\n",
            " 0.0000000e+00 1.3313190e-05 0.0000000e+00 6.4692234e-05 0.0000000e+00]\n",
            "Mutation Rate: 0.0004819513123948127\n",
            "\n",
            "Loss: 25.986190310168094\n",
            "\n"
          ]
        }
      ],
      "source": [
        "deep_history = deep_optimizer.fit()"
      ]
    },
    {
      "cell_type": "markdown",
      "id": "6ca5d0d3-3a19-4a50-a27a-010a40f0ddf7",
      "metadata": {
        "id": "6ca5d0d3-3a19-4a50-a27a-010a40f0ddf7"
      },
      "source": [
        "Plotting"
      ]
    },
    {
      "cell_type": "code",
      "execution_count": 12,
      "id": "c9177ba2-ab24-4b35-a8b5-78d561281d0e",
      "metadata": {
        "id": "c9177ba2-ab24-4b35-a8b5-78d561281d0e"
      },
      "outputs": [],
      "source": [
        "with open(vanilla_history, 'r') as f:\n",
        "    vanilla_history = json.load(f)\n",
        "with open(deep_history, 'r') as f:\n",
        "    deep_history = json.load(f)"
      ]
    },
    {
      "cell_type": "code",
      "execution_count": 13,
      "id": "bc02add5-d8bd-4c73-8b2d-fdbcdb3bc13a",
      "metadata": {
        "colab": {
          "base_uri": "https://localhost:8080/",
          "height": 545
        },
        "id": "bc02add5-d8bd-4c73-8b2d-fdbcdb3bc13a",
        "outputId": "e355e2e5-b9d6-484e-ad31-938c670674b1"
      },
      "outputs": [
        {
          "output_type": "display_data",
          "data": {
            "text/plain": [
              "<Figure size 1000x600 with 1 Axes>"
            ],
            "image/png": "[encoded data removed]"
          },
          "metadata": {}
        }
      ],
      "source": [
        "plot_histories(vanilla_history, deep_history, '60-cities.png')"
      ]
    },
    {
      "cell_type": "markdown",
      "id": "2932083e-f646-459e-bdd4-32e45b9977c8",
      "metadata": {
        "id": "2932083e-f646-459e-bdd4-32e45b9977c8"
      },
      "source": [
        "## Trial 3 : 120-Nodes TSP, 10 depth"
      ]
    },
    {
      "cell_type": "markdown",
      "id": "b1f3b313-5ba8-4a93-837b-65e5f1c67ed8",
      "metadata": {
        "id": "b1f3b313-5ba8-4a93-837b-65e5f1c67ed8"
      },
      "source": [
        "Setup:"
      ]
    },
    {
      "cell_type": "code",
      "execution_count": 14,
      "id": "d2adfda5-c38c-42fe-b57b-f0402f8fb867",
      "metadata": {
        "id": "d2adfda5-c38c-42fe-b57b-f0402f8fb867"
      },
      "outputs": [],
      "source": [
        "tsp_p = TSP(cities=120)  # TSP problem\n",
        "# optimizers\n",
        "vanilla_optimizer = Optimizer(tsp_p, mode=OptimizerMode.VANILLA, device=DEVICE, verbose=False)\n",
        "deep_optimizer = Optimizer(tsp_p, mode=OptimizerMode.MLP, depth=DEPTH, device=DEVICE, verbose=False)"
      ]
    },
    {
      "cell_type": "markdown",
      "id": "699ff6e5-a68f-473f-8beb-bf50a758ca43",
      "metadata": {
        "id": "699ff6e5-a68f-473f-8beb-bf50a758ca43"
      },
      "source": [
        "Vanilla Optimization"
      ]
    },
    {
      "cell_type": "code",
      "execution_count": 15,
      "id": "a1030644-a8f7-406a-a427-76a84b035bf2",
      "metadata": {
        "colab": {
          "base_uri": "https://localhost:8080/"
        },
        "id": "a1030644-a8f7-406a-a427-76a84b035bf2",
        "outputId": "5fb8b22b-4060-4874-af9e-ba4eba3cbf34"
      },
      "outputs": [
        {
          "output_type": "stream",
          "name": "stdout",
          "text": [
            "Initialized EA: 10000 population, 50 elites, VANILLA mode.\n",
            "Stopping Condition: loss delta less than 1e-06 for 20 generations.\n",
            "\n",
            "Problem Type: Travelling Salesman\n",
            "Parameters: 120 cities, NORMAL distribution\n",
            "\n",
            "Evolving\n",
            "..........................................................................................................................................................\n",
            "Convergence reached:\n",
            "\n",
            "Results written to /content/[13-04-2023-08:04:44]-history.json.\n",
            "\n",
            "Current Generation: 154\n",
            "\n",
            "Best Candidate:\n",
            "Sequence: [ 78   8  83  94  66  28  60  49  61  80  48   9  20  75  35  42  11  25\n",
            "   6  45  47 116  22  21  27  81  64  15  31 117  74  18  14 119  16   5\n",
            "  44   2   7   4 114  91  76  65  99  90  87 112   0   3  62 118  56  43\n",
            " 108 103  13  46  30  71  88  55  86 102  95  39  12  82  10  77 110  96\n",
            "  92  38  79  29 105  63  70  50   1  58  54 104  40  23  68 101 106  73\n",
            "  59  72  32  36 111  98  53  33  34  84  69  24  19  89 109 107  37 100\n",
            "  93 113  97  41  51  52  57  85 115  17  67  26]\n",
            "Fitness(Loss): -45.8983\n",
            "Crossover Probs: None\n",
            "Mutation Rate: None\n",
            "\n",
            "Loss: 45.89832503222067\n",
            "\n"
          ]
        }
      ],
      "source": [
        "vanilla_history = vanilla_optimizer.fit()"
      ]
    },
    {
      "cell_type": "markdown",
      "id": "8a2edcf0-e574-4008-92c5-7e21c338647f",
      "metadata": {
        "id": "8a2edcf0-e574-4008-92c5-7e21c338647f"
      },
      "source": [
        "Deep Optimization"
      ]
    },
    {
      "cell_type": "code",
      "execution_count": 16,
      "id": "7dfdf096-3d6d-4984-96ca-bd21e901a730",
      "metadata": {
        "colab": {
          "base_uri": "https://localhost:8080/"
        },
        "id": "7dfdf096-3d6d-4984-96ca-bd21e901a730",
        "outputId": "e348bd1a-e501-4efa-a04b-cf46739bf798"
      },
      "outputs": [
        {
          "output_type": "stream",
          "name": "stdout",
          "text": [
            "Initialized EA: 10000 population, 50 elites, MLP mode.\n",
            "Stopping Condition: loss delta less than 1e-06 for 20 generations.\n",
            "\n",
            "Problem Type: Travelling Salesman\n",
            "Parameters: 120 cities, NORMAL distribution\n",
            "\n",
            "Evolving\n",
            ".................................................................................................................................................................................................................................................................................\n",
            "Convergence reached:\n",
            "\n",
            "Results written to /content/[13-04-2023-08:39:52]-history.json.\n",
            "\n",
            "Current Generation: 272\n",
            "\n",
            "Best Candidate:\n",
            "Sequence: [ 78  26  52  57   6  93 113  51  41  97 108 103  13  71  46  88  15  64\n",
            "  31  95 102  86  55  30 100  37 109  89  19  42  11  45  69  34  53  14\n",
            "  92  38  68 106  73  96  29  79  82  12  39 117  32  16  44  98  84 116\n",
            "  21  47  24   7   2   4 101  23  40  58   1 104  54  91 114  80  61  76\n",
            "  49  60  28   9  20 115  17  67  85  35  75  48  33  36  22  81 107  25\n",
            "  27   5 119 111  18  72  74  59  10  77 110 105  70  63  50  65  99  90\n",
            "  87 112   0   3  62 118  43  56   8  83  94  66]\n",
            "Fitness(Loss): -54.8019\n",
            "Crossover Probs: [0.00000000e+00 0.00000000e+00 1.64652647e-05 0.00000000e+00\n",
            " 0.00000000e+00 7.44900035e-06 1.33858102e-05 2.96072558e-05\n",
            " 0.00000000e+00 2.60968718e-05 1.34216370e-05 0.00000000e+00\n",
            " 0.00000000e+00 1.97904883e-05 0.00000000e+00 2.56246585e-05\n",
            " 8.72363216e-06 5.59376758e-07 1.55078362e-06 0.00000000e+00\n",
            " 2.53021226e-05 1.20443315e-06 0.00000000e+00 0.00000000e+00\n",
            " 0.00000000e+00 2.36156102e-05 0.00000000e+00 0.00000000e+00\n",
            " 1.35913015e-05 0.00000000e+00 0.00000000e+00 5.87167415e-06\n",
            " 3.82097005e-06 3.51517774e-05 1.03610355e-05 0.00000000e+00\n",
            " 2.70061696e-06 1.16055844e-05 6.85267241e-06 0.00000000e+00\n",
            " 0.00000000e+00 2.33285191e-05 3.16501319e-05 1.17149841e-06\n",
            " 0.00000000e+00 0.00000000e+00 0.00000000e+00 0.00000000e+00\n",
            " 0.00000000e+00 1.49175003e-05 1.12508296e-05 0.00000000e+00\n",
            " 1.52603275e-06 0.00000000e+00 2.22549770e-05 0.00000000e+00\n",
            " 1.86058478e-05 2.46504187e-05 2.39942128e-05 0.00000000e+00\n",
            " 0.00000000e+00 2.77152649e-05 0.00000000e+00 0.00000000e+00\n",
            " 2.75195271e-05 9.41400867e-06 0.00000000e+00 2.99312178e-05\n",
            " 0.00000000e+00 0.00000000e+00 2.82298734e-05 3.63530489e-05\n",
            " 0.00000000e+00 0.00000000e+00 1.74526140e-05 0.00000000e+00\n",
            " 0.00000000e+00 0.00000000e+00 0.00000000e+00 3.71719179e-05\n",
            " 0.00000000e+00 0.00000000e+00 0.00000000e+00 0.00000000e+00\n",
            " 1.36163962e-05 0.00000000e+00 2.28513800e-05 2.91164247e-06\n",
            " 0.00000000e+00 0.00000000e+00 2.16527333e-05 1.24350609e-05\n",
            " 6.29835768e-06 1.64520479e-05 0.00000000e+00 0.00000000e+00\n",
            " 0.00000000e+00 7.39128836e-07 2.94605506e-05 0.00000000e+00\n",
            " 2.25678268e-05 0.00000000e+00 0.00000000e+00 0.00000000e+00\n",
            " 0.00000000e+00 0.00000000e+00 0.00000000e+00 0.00000000e+00\n",
            " 1.76478279e-05 2.99201001e-05 6.43761439e-07 4.23174379e-06\n",
            " 1.89296170e-05 5.59429736e-06 0.00000000e+00 4.59732582e-05\n",
            " 1.75754212e-05 8.50541369e-07 0.00000000e+00 1.97582922e-05\n",
            " 0.00000000e+00 0.00000000e+00 6.11080213e-06 9.32726664e-07\n",
            " 0.00000000e+00 2.30439637e-05 0.00000000e+00 0.00000000e+00\n",
            " 0.00000000e+00 0.00000000e+00 1.87693076e-05 0.00000000e+00\n",
            " 0.00000000e+00 2.95620407e-06 0.00000000e+00 0.00000000e+00\n",
            " 4.50522248e-06 0.00000000e+00 3.65775264e-07 2.45089595e-05\n",
            " 1.55673351e-05 2.01350613e-05 0.00000000e+00 0.00000000e+00\n",
            " 0.00000000e+00 6.62455568e-06 0.00000000e+00 0.00000000e+00\n",
            " 7.98922065e-06 0.00000000e+00 0.00000000e+00 3.57103745e-05\n",
            " 1.97949848e-05 0.00000000e+00 1.34665634e-05 3.51515810e-05\n",
            " 0.00000000e+00 0.00000000e+00 0.00000000e+00 4.99348471e-06\n",
            " 3.07324553e-05 1.36223189e-05 0.00000000e+00 0.00000000e+00\n",
            " 5.65698201e-06 2.32091861e-05 2.64204300e-05 4.63315558e-07\n",
            " 2.70187556e-05 0.00000000e+00 0.00000000e+00 2.37367694e-05\n",
            " 1.71737356e-05 0.00000000e+00 0.00000000e+00 0.00000000e+00\n",
            " 0.00000000e+00 0.00000000e+00 2.39005767e-05 0.00000000e+00\n",
            " 2.01366111e-05 4.51626147e-06 2.24496271e-05 1.19304686e-05\n",
            " 1.04013234e-05 0.00000000e+00 0.00000000e+00 8.71897555e-07\n",
            " 0.00000000e+00 0.00000000e+00 0.00000000e+00 0.00000000e+00\n",
            " 0.00000000e+00 0.00000000e+00 0.00000000e+00 2.79997384e-05\n",
            " 2.50235789e-05 0.00000000e+00 0.00000000e+00 1.26881741e-05\n",
            " 1.84644505e-05 0.00000000e+00 0.00000000e+00 0.00000000e+00\n",
            " 0.00000000e+00 1.48767995e-05 0.00000000e+00 0.00000000e+00\n",
            " 2.82134024e-05 1.00578627e-05 2.18367768e-05 1.65253005e-05\n",
            " 1.81330397e-05 2.43423838e-05 0.00000000e+00 1.19887836e-05\n",
            " 9.26391203e-06 8.00406997e-06 8.03727198e-06 3.68848559e-05\n",
            " 9.63016009e-06 0.00000000e+00 0.00000000e+00 1.61546518e-06\n",
            " 2.75868479e-05 0.00000000e+00 0.00000000e+00 0.00000000e+00\n",
            " 2.89605014e-05 2.66513307e-05 2.26821194e-05 0.00000000e+00\n",
            " 3.32832315e-05 2.54706829e-05 1.03243801e-05 1.48028330e-05\n",
            " 0.00000000e+00 0.00000000e+00 3.78521349e-06 0.00000000e+00]\n",
            "Mutation Rate: 0.0004891486605629325\n",
            "\n",
            "Loss: 54.80194959681934\n",
            "\n"
          ]
        }
      ],
      "source": [
        "deep_history = deep_optimizer.fit()"
      ]
    },
    {
      "cell_type": "markdown",
      "id": "61630aed-b8ec-464f-972b-7a9266700248",
      "metadata": {
        "id": "61630aed-b8ec-464f-972b-7a9266700248"
      },
      "source": [
        "Plotting"
      ]
    },
    {
      "cell_type": "code",
      "execution_count": 17,
      "id": "7f8c17cb-5eea-49f4-8e2a-8920733da0a5",
      "metadata": {
        "id": "7f8c17cb-5eea-49f4-8e2a-8920733da0a5"
      },
      "outputs": [],
      "source": [
        "with open(vanilla_history, 'r') as f:\n",
        "    vanilla_history = json.load(f)\n",
        "with open(deep_history, 'r') as f:\n",
        "    deep_history = json.load(f)"
      ]
    },
    {
      "cell_type": "code",
      "execution_count": 18,
      "id": "48b29208-ee30-4a8a-94c6-3413c8b50881",
      "metadata": {
        "colab": {
          "base_uri": "https://localhost:8080/",
          "height": 545
        },
        "id": "48b29208-ee30-4a8a-94c6-3413c8b50881",
        "outputId": "b12c5c3e-329b-4bde-eb87-05f65464670a"
      },
      "outputs": [
        {
          "output_type": "display_data",
          "data": {
            "text/plain": [
              "<Figure size 1000x600 with 1 Axes>"
            ],
            "image/png": "[encoded data removed]"
          },
          "metadata": {}
        }
      ],
      "source": [
        "plot_histories(vanilla_history, deep_history, '120-cities.png')"
      ]
    },
    {
      "cell_type": "markdown",
      "metadata": {
        "id": "0QEz2NxfjHZp"
      },
      "source": [
        "## Trial 4 : 40-Nodes TSP, 16 depth"
      ],
      "id": "0QEz2NxfjHZp"
    },
    {
      "cell_type": "code",
      "source": [
        "DEPTH = 16"
      ],
      "metadata": {
        "id": "e9baKOU821Gk"
      },
      "id": "e9baKOU821Gk",
      "execution_count": 52,
      "outputs": []
    },
    {
      "cell_type": "markdown",
      "metadata": {
        "id": "oJYLbZK6jHZq"
      },
      "source": [
        "Setup:"
      ],
      "id": "oJYLbZK6jHZq"
    },
    {
      "cell_type": "code",
      "execution_count": 53,
      "metadata": {
        "id": "FTI4RpeDjHZq"
      },
      "outputs": [],
      "source": [
        "tsp_p = TSP(cities=40)  # TSP problem\n",
        "# optimizers\n",
        "vanilla_optimizer = Optimizer(tsp_p, mode=OptimizerMode.VANILLA, device=DEVICE, verbose=False)\n",
        "deep_optimizer = Optimizer(tsp_p, mode=OptimizerMode.MLP, depth=DEPTH, device=DEVICE, verbose=False)"
      ],
      "id": "FTI4RpeDjHZq"
    },
    {
      "cell_type": "markdown",
      "metadata": {
        "id": "KQbiGVdjjHZr"
      },
      "source": [
        "Vanilla Optimization"
      ],
      "id": "KQbiGVdjjHZr"
    },
    {
      "cell_type": "code",
      "execution_count": 54,
      "metadata": {
        "colab": {
          "base_uri": "https://localhost:8080/"
        },
        "id": "S8nMYYy_jHZs",
        "outputId": "90cd2a61-630a-463e-e196-e9b1967bae9d"
      },
      "outputs": [
        {
          "output_type": "stream",
          "name": "stdout",
          "text": [
            "Initialized EA: 10000 population, 50 elites, VANILLA mode.\n",
            "Stopping Condition: loss delta less than 1e-06 for 20 generations.\n",
            "\n",
            "Problem Type: Travelling Salesman\n",
            "Parameters: 40 cities, NORMAL distribution\n",
            "\n",
            "Evolving\n",
            "............................................\n",
            "Convergence reached:\n",
            "\n",
            "Results written to /content/[13-04-2023-09:37:37]-history.json.\n",
            "\n",
            "Current Generation: 44\n",
            "\n",
            "Best Candidate:\n",
            "Sequence: [38  4  8 36 22 10 17 39 29 25 37 28  7 23 35 14 32 19 30 33  6  5 13  1\n",
            "  3 16 21 11 31  9 34 26  0 20 18 27  2 12 24 15]\n",
            "Fitness(Loss): -23.1254\n",
            "Crossover Probs: None\n",
            "Mutation Rate: None\n",
            "\n",
            "Loss: 23.125372988389188\n",
            "\n"
          ]
        }
      ],
      "source": [
        "vanilla_history = vanilla_optimizer.fit()"
      ],
      "id": "S8nMYYy_jHZs"
    },
    {
      "cell_type": "markdown",
      "metadata": {
        "id": "obiFmouNjHZs"
      },
      "source": [
        "Deep Optimization"
      ],
      "id": "obiFmouNjHZs"
    },
    {
      "cell_type": "code",
      "execution_count": 55,
      "metadata": {
        "colab": {
          "base_uri": "https://localhost:8080/"
        },
        "id": "TYu2Az8bjHZs",
        "outputId": "86a94fe2-0e09-46b6-96c4-b125bc969feb"
      },
      "outputs": [
        {
          "output_type": "stream",
          "name": "stdout",
          "text": [
            "Initialized EA: 10000 population, 50 elites, MLP mode.\n",
            "Stopping Condition: loss delta less than 1e-06 for 20 generations.\n",
            "\n",
            "Problem Type: Travelling Salesman\n",
            "Parameters: 40 cities, NORMAL distribution\n",
            "\n",
            "Evolving\n",
            "...............................................\n",
            "Convergence reached:\n",
            "\n",
            "Results written to /content/[13-04-2023-09:40:02]-history.json.\n",
            "\n",
            "Current Generation: 47\n",
            "\n",
            "Best Candidate:\n",
            "Sequence: [23  7  0 34  9 26 28 37 25 29 39 17 10  4  8 36 38 22 32 14 19 35 15 24\n",
            " 12 33 30  6  5 13  1 21  3 16 11 31 18 27  2 20]\n",
            "Fitness(Loss): -22.6664\n",
            "Crossover Probs: [1.15447128e-05 0.00000000e+00 0.00000000e+00 0.00000000e+00\n",
            " 3.40406477e-05 0.00000000e+00 1.24919869e-04 0.00000000e+00\n",
            " 0.00000000e+00 9.13781259e-05 0.00000000e+00 0.00000000e+00\n",
            " 0.00000000e+00 2.44512885e-05 1.55335481e-04 1.93605287e-04\n",
            " 4.49191721e-05 0.00000000e+00 0.00000000e+00 7.98987094e-05\n",
            " 0.00000000e+00 1.39936938e-05 5.62005916e-05 0.00000000e+00\n",
            " 0.00000000e+00 0.00000000e+00 0.00000000e+00 4.44327161e-05\n",
            " 0.00000000e+00 0.00000000e+00 0.00000000e+00 1.08251661e-04\n",
            " 0.00000000e+00 0.00000000e+00 0.00000000e+00 4.26143345e-07\n",
            " 0.00000000e+00 1.66019745e-05 0.00000000e+00 0.00000000e+00\n",
            " 0.00000000e+00 0.00000000e+00 5.67862662e-05 0.00000000e+00\n",
            " 0.00000000e+00 8.04743177e-05 8.89877811e-06 0.00000000e+00\n",
            " 0.00000000e+00 0.00000000e+00 7.93295912e-05 9.00022769e-06\n",
            " 8.53294987e-05 1.12346395e-04 9.21089013e-05 0.00000000e+00\n",
            " 0.00000000e+00 0.00000000e+00 0.00000000e+00 6.13732045e-05\n",
            " 8.38777050e-05 1.06179614e-04 0.00000000e+00 0.00000000e+00\n",
            " 4.73951986e-05 0.00000000e+00 2.22860908e-05 0.00000000e+00\n",
            " 0.00000000e+00 9.32350133e-07 0.00000000e+00 9.13178374e-05\n",
            " 0.00000000e+00 5.38468048e-05 0.00000000e+00 0.00000000e+00\n",
            " 0.00000000e+00 8.51724781e-06 0.00000000e+00 0.00000000e+00]\n",
            "Mutation Rate: 0.0004760920419357717\n",
            "\n",
            "Loss: 22.666362989995108\n",
            "\n"
          ]
        }
      ],
      "source": [
        "deep_history = deep_optimizer.fit()"
      ],
      "id": "TYu2Az8bjHZs"
    },
    {
      "cell_type": "markdown",
      "metadata": {
        "id": "nIlYGL1yjHZt"
      },
      "source": [
        "Plotting"
      ],
      "id": "nIlYGL1yjHZt"
    },
    {
      "cell_type": "code",
      "execution_count": 56,
      "metadata": {
        "id": "HIaNCLGJjHZt"
      },
      "outputs": [],
      "source": [
        "with open(vanilla_history, 'r') as f:\n",
        "    vanilla_history = json.load(f)\n",
        "with open(deep_history, 'r') as f:\n",
        "    deep_history = json.load(f)"
      ],
      "id": "HIaNCLGJjHZt"
    },
    {
      "cell_type": "code",
      "execution_count": 57,
      "metadata": {
        "colab": {
          "base_uri": "https://localhost:8080/",
          "height": 545
        },
        "id": "ZTIZsYE_jHZu",
        "outputId": "f785d52b-3c10-4484-f4a2-c3df9a71895d"
      },
      "outputs": [
        {
          "output_type": "display_data",
          "data": {
            "text/plain": [
              "<Figure size 1000x600 with 1 Axes>"
            ],
            "image/png": "[encoded data removed]"
          },
          "metadata": {}
        }
      ],
      "source": [
        "plot_histories(vanilla_history, deep_history, '40-cities.png')"
      ],
      "id": "ZTIZsYE_jHZu"
    },
    {
      "cell_type": "markdown",
      "metadata": {
        "id": "wThW7j-p3KX-"
      },
      "source": [
        "## Trial 5 : 70-Nodes TSP, 16 depth"
      ],
      "id": "wThW7j-p3KX-"
    },
    {
      "cell_type": "code",
      "source": [
        "DEPTH = 16"
      ],
      "metadata": {
        "id": "GspaiydA3KX_"
      },
      "execution_count": 58,
      "outputs": [],
      "id": "GspaiydA3KX_"
    },
    {
      "cell_type": "markdown",
      "metadata": {
        "id": "ARfWRIzx3KX_"
      },
      "source": [
        "Setup:"
      ],
      "id": "ARfWRIzx3KX_"
    },
    {
      "cell_type": "code",
      "execution_count": 59,
      "metadata": {
        "id": "OSVBPiTh3KX_"
      },
      "outputs": [],
      "source": [
        "tsp_p = TSP(cities=70)  # TSP problem\n",
        "# optimizers\n",
        "vanilla_optimizer = Optimizer(tsp_p, mode=OptimizerMode.VANILLA, device=DEVICE, verbose=False)\n",
        "deep_optimizer = Optimizer(tsp_p, mode=OptimizerMode.MLP, depth=DEPTH, device=DEVICE, verbose=False)"
      ],
      "id": "OSVBPiTh3KX_"
    },
    {
      "cell_type": "markdown",
      "metadata": {
        "id": "twC8aqdP3KYA"
      },
      "source": [
        "Vanilla Optimization"
      ],
      "id": "twC8aqdP3KYA"
    },
    {
      "cell_type": "code",
      "execution_count": 60,
      "metadata": {
        "colab": {
          "base_uri": "https://localhost:8080/"
        },
        "id": "eWnBcTVE3KYB",
        "outputId": "eae0308f-7d7d-405d-d7a9-4eb180da9d1f"
      },
      "outputs": [
        {
          "output_type": "stream",
          "name": "stdout",
          "text": [
            "Initialized EA: 10000 population, 50 elites, VANILLA mode.\n",
            "Stopping Condition: loss delta less than 1e-06 for 20 generations.\n",
            "\n",
            "Problem Type: Travelling Salesman\n",
            "Parameters: 70 cities, NORMAL distribution\n",
            "\n",
            "Evolving\n",
            "....................................................................................................................................................................\n",
            "Convergence reached:\n",
            "\n",
            "Results written to /content/[13-04-2023-09:46:38]-history.json.\n",
            "\n",
            "Current Generation: 164\n",
            "\n",
            "Best Candidate:\n",
            "Sequence: [58 49 61 22 45 48 55 57 31 15 51 63 27 16 50 65 38 69 43 62 54 33 59  2\n",
            "  8 41 29 18 13 30 26 28 39 23 66 64 10 12 17 67 47 36  0  1 32  7 60 44\n",
            " 34 35 21 24  4 42 46 40  5 37 25  6  9 68 19 52 11  3 53 14 56 20]\n",
            "Fitness(Loss): -35.3498\n",
            "Crossover Probs: None\n",
            "Mutation Rate: None\n",
            "\n",
            "Loss: 35.349799806877\n",
            "\n"
          ]
        }
      ],
      "source": [
        "vanilla_history = vanilla_optimizer.fit()"
      ],
      "id": "eWnBcTVE3KYB"
    },
    {
      "cell_type": "markdown",
      "metadata": {
        "id": "cMBLKUMZ3KYB"
      },
      "source": [
        "Deep Optimization"
      ],
      "id": "cMBLKUMZ3KYB"
    },
    {
      "cell_type": "code",
      "execution_count": 61,
      "metadata": {
        "colab": {
          "base_uri": "https://localhost:8080/"
        },
        "id": "HR7E95vw3KYC",
        "outputId": "92a8efeb-f843-482c-af3d-ea3823acef2e"
      },
      "outputs": [
        {
          "output_type": "stream",
          "name": "stdout",
          "text": [
            "Initialized EA: 10000 population, 50 elites, MLP mode.\n",
            "Stopping Condition: loss delta less than 1e-06 for 20 generations.\n",
            "\n",
            "Problem Type: Travelling Salesman\n",
            "Parameters: 70 cities, NORMAL distribution\n",
            "\n",
            "Evolving\n",
            "......................................................................................................................\n",
            "Convergence reached:\n",
            "\n",
            "Results written to /content/[13-04-2023-09:55:36]-history.json.\n",
            "\n",
            "Current Generation: 118\n",
            "\n",
            "Best Candidate:\n",
            "Sequence: [ 8 41  7 60 44 34 35 21 24  4 32  1  0 36 47 49 42 53 11  3 14 46  5 37\n",
            " 22 55 57 31 68  9 25 45 48  6 19 52 40 56 20 58 61 17 67 10  2 39 64 23\n",
            " 12 15 51 66 63 54 38 65 50 27 16 62 43 69 26 13 30 33 59 28 18 29]\n",
            "Fitness(Loss): -38.2938\n",
            "Crossover Probs: [2.81798366e-05 0.00000000e+00 1.92394655e-05 2.06933123e-06\n",
            " 0.00000000e+00 1.20818131e-05 0.00000000e+00 0.00000000e+00\n",
            " 0.00000000e+00 0.00000000e+00 0.00000000e+00 2.03101445e-05\n",
            " 3.03258003e-05 9.08312177e-06 0.00000000e+00 1.05382960e-05\n",
            " 0.00000000e+00 4.29543907e-05 0.00000000e+00 6.45950422e-05\n",
            " 9.55111591e-06 0.00000000e+00 0.00000000e+00 1.16644269e-05\n",
            " 0.00000000e+00 0.00000000e+00 1.59084921e-05 0.00000000e+00\n",
            " 0.00000000e+00 0.00000000e+00 7.72069325e-05 1.35659384e-05\n",
            " 0.00000000e+00 5.11883372e-05 1.16690935e-05 2.77937011e-06\n",
            " 0.00000000e+00 4.97668407e-05 0.00000000e+00 4.49189756e-05\n",
            " 4.74119515e-05 0.00000000e+00 5.32530612e-05 0.00000000e+00\n",
            " 0.00000000e+00 4.28898529e-05 3.23115746e-05 0.00000000e+00\n",
            " 0.00000000e+00 2.08357742e-05 3.10600517e-05 0.00000000e+00\n",
            " 0.00000000e+00 0.00000000e+00 0.00000000e+00 5.78019979e-07\n",
            " 0.00000000e+00 2.91109864e-05 3.64946973e-05 0.00000000e+00\n",
            " 0.00000000e+00 0.00000000e+00 0.00000000e+00 2.77313175e-05\n",
            " 0.00000000e+00 0.00000000e+00 4.75658635e-05 8.42287409e-05\n",
            " 0.00000000e+00 1.89313305e-05 0.00000000e+00 6.20781720e-05\n",
            " 0.00000000e+00 1.79980325e-05 0.00000000e+00 0.00000000e+00\n",
            " 2.68513613e-05 0.00000000e+00 5.17314329e-05 0.00000000e+00\n",
            " 6.35616816e-05 1.56071985e-06 0.00000000e+00 0.00000000e+00\n",
            " 0.00000000e+00 4.88002479e-05 0.00000000e+00 0.00000000e+00\n",
            " 1.24914222e-05 1.10870133e-05 0.00000000e+00 0.00000000e+00\n",
            " 6.21415747e-05 0.00000000e+00 0.00000000e+00 2.29492252e-05\n",
            " 0.00000000e+00 0.00000000e+00 0.00000000e+00 0.00000000e+00\n",
            " 2.77976706e-05 3.15629259e-05 1.64910762e-05 0.00000000e+00\n",
            " 3.26381212e-07 0.00000000e+00 0.00000000e+00 1.48504114e-05\n",
            " 1.06832322e-05 2.17460129e-05 0.00000000e+00 2.46814452e-05\n",
            " 0.00000000e+00 8.38238993e-05 0.00000000e+00 0.00000000e+00\n",
            " 5.99595151e-05 0.00000000e+00 0.00000000e+00 1.25792203e-05\n",
            " 0.00000000e+00 5.98417682e-05 0.00000000e+00 7.03716069e-05\n",
            " 0.00000000e+00 0.00000000e+00 0.00000000e+00 6.42969535e-05\n",
            " 5.71112923e-06 0.00000000e+00 4.96153225e-05 4.44021789e-05\n",
            " 0.00000000e+00 7.64334709e-06 0.00000000e+00 0.00000000e+00\n",
            " 0.00000000e+00 0.00000000e+00 1.23650116e-05 0.00000000e+00]\n",
            "Mutation Rate: 0.0005004204576835036\n",
            "\n",
            "Loss: 38.29377610718895\n",
            "\n"
          ]
        }
      ],
      "source": [
        "deep_history = deep_optimizer.fit()"
      ],
      "id": "HR7E95vw3KYC"
    },
    {
      "cell_type": "markdown",
      "metadata": {
        "id": "uFJoIRSE3KYC"
      },
      "source": [
        "Plotting"
      ],
      "id": "uFJoIRSE3KYC"
    },
    {
      "cell_type": "code",
      "execution_count": 62,
      "metadata": {
        "id": "O06hF4-R3KYD"
      },
      "outputs": [],
      "source": [
        "with open(vanilla_history, 'r') as f:\n",
        "    vanilla_history = json.load(f)\n",
        "with open(deep_history, 'r') as f:\n",
        "    deep_history = json.load(f)"
      ],
      "id": "O06hF4-R3KYD"
    },
    {
      "cell_type": "code",
      "execution_count": 63,
      "metadata": {
        "colab": {
          "base_uri": "https://localhost:8080/",
          "height": 545
        },
        "id": "SX2LTiqS3KYE",
        "outputId": "5d72f8c3-23a7-4d47-fb48-fd3b3d5ce01b"
      },
      "outputs": [
        {
          "output_type": "display_data",
          "data": {
            "text/plain": [
              "<Figure size 1000x600 with 1 Axes>"
            ],
            "image/png": "[encoded data removed]"
          },
          "metadata": {}
        }
      ],
      "source": [
        "plot_histories(vanilla_history, deep_history, '70-cities.png')"
      ],
      "id": "SX2LTiqS3KYE"
    },
    {
      "cell_type": "markdown",
      "metadata": {
        "id": "caJOYKPD3cBa"
      },
      "source": [
        "## Trial 6 : 120-Nodes TSP, 16 depth"
      ],
      "id": "caJOYKPD3cBa"
    },
    {
      "cell_type": "code",
      "source": [
        "DEPTH = 16"
      ],
      "metadata": {
        "id": "pjilMI923cBb"
      },
      "execution_count": 64,
      "outputs": [],
      "id": "pjilMI923cBb"
    },
    {
      "cell_type": "markdown",
      "metadata": {
        "id": "PBLMplnt3cBc"
      },
      "source": [
        "Setup:"
      ],
      "id": "PBLMplnt3cBc"
    },
    {
      "cell_type": "code",
      "execution_count": 65,
      "metadata": {
        "id": "MAte15E_3cBd"
      },
      "outputs": [],
      "source": [
        "tsp_p = TSP(cities=120)  # TSP problem\n",
        "# optimizers\n",
        "vanilla_optimizer = Optimizer(tsp_p, mode=OptimizerMode.VANILLA, device=DEVICE, verbose=False)\n",
        "deep_optimizer = Optimizer(tsp_p, mode=OptimizerMode.MLP, depth=DEPTH, device=DEVICE, verbose=False)"
      ],
      "id": "MAte15E_3cBd"
    },
    {
      "cell_type": "markdown",
      "metadata": {
        "id": "7VvWzikQ3cBf"
      },
      "source": [
        "Vanilla Optimization"
      ],
      "id": "7VvWzikQ3cBf"
    },
    {
      "cell_type": "code",
      "execution_count": 66,
      "metadata": {
        "colab": {
          "base_uri": "https://localhost:8080/"
        },
        "id": "Ifef2qCg3cBg",
        "outputId": "d5945d7a-9a4f-49f1-9c11-aac2d4d502f9"
      },
      "outputs": [
        {
          "output_type": "stream",
          "name": "stdout",
          "text": [
            "Initialized EA: 10000 population, 50 elites, VANILLA mode.\n",
            "Stopping Condition: loss delta less than 1e-06 for 20 generations.\n",
            "\n",
            "Problem Type: Travelling Salesman\n",
            "Parameters: 120 cities, NORMAL distribution\n",
            "\n",
            "Evolving\n",
            ".........................................................................................................................................................................................\n",
            "Convergence reached:\n",
            "\n",
            "Results written to /content/[13-04-2023-10:08:43]-history.json.\n",
            "\n",
            "Current Generation: 185\n",
            "\n",
            "Best Candidate:\n",
            "Sequence: [119  49  50  72  60  10 113  77  26  32  45  59  25 106  80  79 103  68\n",
            " 111  64   1   6   0  90  15 101  37  19  81  39  12   5  58  14  99  69\n",
            "  97  47  93  43  70  22 100  78  62  96  44  66 104  31  24  28   9  30\n",
            "  82  54  51  87  29 118  40  13  98  46  23  67  42  34  84  38 112  91\n",
            "  85 105  75  74  17  89  41  53  57   3  92   4  18  94 115  63  33  76\n",
            " 110  73  16  20  21  71  52 107  11  83  95  36  86  35 109  65   8  55\n",
            "   2  48 117 114  88 108   7 102  61  56  27 116]\n",
            "Fitness(Loss): -38.2063\n",
            "Crossover Probs: None\n",
            "Mutation Rate: None\n",
            "\n",
            "Loss: 38.20628898406293\n",
            "\n"
          ]
        }
      ],
      "source": [
        "vanilla_history = vanilla_optimizer.fit()"
      ],
      "id": "Ifef2qCg3cBg"
    },
    {
      "cell_type": "markdown",
      "metadata": {
        "id": "PNVvcYRM3cBg"
      },
      "source": [
        "Deep Optimization"
      ],
      "id": "PNVvcYRM3cBg"
    },
    {
      "cell_type": "code",
      "execution_count": 67,
      "metadata": {
        "colab": {
          "base_uri": "https://localhost:8080/"
        },
        "id": "5qnwWFHV3cBh",
        "outputId": "59f6f545-35e2-4cdc-da68-1b66af100c57"
      },
      "outputs": [
        {
          "output_type": "stream",
          "name": "stdout",
          "text": [
            "Initialized EA: 10000 population, 50 elites, MLP mode.\n",
            "Stopping Condition: loss delta less than 1e-06 for 20 generations.\n",
            "\n",
            "Problem Type: Travelling Salesman\n",
            "Parameters: 120 cities, NORMAL distribution\n",
            "\n",
            "Evolving\n",
            "......................................................................................................................\n",
            "Convergence reached:\n",
            "\n",
            "Results written to /content/[13-04-2023-10:23:55]-history.json.\n",
            "\n",
            "Current Generation: 114\n",
            "\n",
            "Best Candidate:\n",
            "Sequence: [ 75  89  41  51  87  54  53  57  92  94  18   4 115  16  73 110  76  33\n",
            "  63  20  21  71  52  90   0   6 103  79  80  68   1  64 111  19  22  81\n",
            "  43  93  70  99  14  12  58   5  39 117  96  78 101  37  15  36  86  35\n",
            " 109  95  65  83   8   2  55 107  11  48 104  44  66   9  28  30  24  31\n",
            "  62 100  47  97  69 114   3  82  29 112  91  38  84  46  98  13 118  88\n",
            "  40   7 108  56 102  61  77  45  25 106  59  26  32  10 113  60  72  50\n",
            "  49 116  27 119  23  67  42  34  85  17  74 105]\n",
            "Fitness(Loss): -39.4463\n",
            "Crossover Probs: [1.59468655e-05 0.00000000e+00 0.00000000e+00 0.00000000e+00\n",
            " 2.48399701e-05 2.95631726e-05 0.00000000e+00 0.00000000e+00\n",
            " 8.31324451e-06 3.91920112e-05 0.00000000e+00 2.01590155e-05\n",
            " 1.06894231e-06 0.00000000e+00 0.00000000e+00 3.01833188e-05\n",
            " 0.00000000e+00 1.89340917e-05 0.00000000e+00 1.01354744e-05\n",
            " 0.00000000e+00 0.00000000e+00 0.00000000e+00 0.00000000e+00\n",
            " 3.14749159e-05 2.64625833e-05 0.00000000e+00 0.00000000e+00\n",
            " 0.00000000e+00 1.33162011e-05 0.00000000e+00 0.00000000e+00\n",
            " 2.41289363e-05 0.00000000e+00 0.00000000e+00 0.00000000e+00\n",
            " 2.22536746e-05 0.00000000e+00 3.87028513e-06 0.00000000e+00\n",
            " 1.39285557e-05 2.79047199e-05 4.26390616e-05 0.00000000e+00\n",
            " 0.00000000e+00 4.10395696e-05 0.00000000e+00 4.68323515e-06\n",
            " 0.00000000e+00 0.00000000e+00 4.99439511e-06 2.98897994e-05\n",
            " 3.41426094e-05 0.00000000e+00 3.06161492e-05 4.06936524e-05\n",
            " 0.00000000e+00 0.00000000e+00 0.00000000e+00 0.00000000e+00\n",
            " 0.00000000e+00 3.83443657e-05 0.00000000e+00 5.59488808e-06\n",
            " 0.00000000e+00 0.00000000e+00 2.97202114e-05 9.95116261e-06\n",
            " 2.00379600e-05 4.24715063e-06 0.00000000e+00 0.00000000e+00\n",
            " 2.03821878e-06 2.69893335e-05 0.00000000e+00 0.00000000e+00\n",
            " 0.00000000e+00 0.00000000e+00 1.69180457e-05 2.13837720e-05\n",
            " 1.06453001e-06 6.85529676e-06 0.00000000e+00 9.13986969e-06\n",
            " 1.97324225e-05 0.00000000e+00 0.00000000e+00 0.00000000e+00\n",
            " 1.10878005e-07 0.00000000e+00 0.00000000e+00 0.00000000e+00\n",
            " 2.10299204e-05 3.09846064e-06 0.00000000e+00 0.00000000e+00\n",
            " 3.44862965e-05 0.00000000e+00 4.73549735e-05 0.00000000e+00\n",
            " 0.00000000e+00 8.93311335e-06 0.00000000e+00 0.00000000e+00\n",
            " 0.00000000e+00 7.15539500e-06 1.35721357e-05 1.23114728e-06\n",
            " 0.00000000e+00 0.00000000e+00 0.00000000e+00 1.26455143e-05\n",
            " 0.00000000e+00 3.14462704e-06 0.00000000e+00 2.26518819e-06\n",
            " 4.22179146e-05 3.62766571e-07 0.00000000e+00 0.00000000e+00\n",
            " 2.91304495e-05 3.74843185e-05 0.00000000e+00 0.00000000e+00\n",
            " 7.45360103e-06 1.36505787e-06 1.30552353e-05 1.85271019e-05\n",
            " 2.58565274e-06 5.15593683e-06 2.55914547e-05 6.22708785e-06\n",
            " 2.72836915e-05 2.27636483e-05 1.89051043e-05 2.81234879e-05\n",
            " 6.54245969e-06 8.31326986e-07 1.24723801e-05 2.67052928e-05\n",
            " 0.00000000e+00 4.61411992e-06 0.00000000e+00 2.47486441e-05\n",
            " 0.00000000e+00 1.02389768e-05 4.28635485e-06 0.00000000e+00\n",
            " 0.00000000e+00 0.00000000e+00 1.65586716e-05 0.00000000e+00\n",
            " 5.80998721e-06 6.35515471e-06 0.00000000e+00 0.00000000e+00\n",
            " 2.26868087e-05 1.81388514e-05 5.84285863e-06 5.57867679e-06\n",
            " 2.15273576e-05 2.72409306e-05 4.04983302e-06 3.15597354e-05\n",
            " 4.39158339e-06 0.00000000e+00 0.00000000e+00 0.00000000e+00\n",
            " 0.00000000e+00 0.00000000e+00 1.96001947e-05 0.00000000e+00\n",
            " 0.00000000e+00 0.00000000e+00 1.41168948e-05 0.00000000e+00\n",
            " 3.53592623e-05 0.00000000e+00 0.00000000e+00 0.00000000e+00\n",
            " 0.00000000e+00 0.00000000e+00 0.00000000e+00 1.35088221e-05\n",
            " 2.37338518e-05 8.86221733e-06 0.00000000e+00 0.00000000e+00\n",
            " 0.00000000e+00 3.51472918e-05 1.06529797e-05 0.00000000e+00\n",
            " 0.00000000e+00 6.24134009e-06 3.52063580e-05 0.00000000e+00\n",
            " 0.00000000e+00 3.81457517e-06 3.20694453e-05 1.51533823e-05\n",
            " 3.99721188e-07 0.00000000e+00 4.43618883e-05 0.00000000e+00\n",
            " 0.00000000e+00 1.83350858e-05 0.00000000e+00 0.00000000e+00\n",
            " 0.00000000e+00 6.08820892e-06 0.00000000e+00 2.79998790e-06\n",
            " 0.00000000e+00 2.03189447e-05 0.00000000e+00 0.00000000e+00\n",
            " 0.00000000e+00 0.00000000e+00 2.89335708e-06 8.94099230e-06\n",
            " 0.00000000e+00 2.59971057e-05 2.29348570e-05 4.66410802e-06\n",
            " 0.00000000e+00 1.79881081e-05 0.00000000e+00 0.00000000e+00\n",
            " 0.00000000e+00 0.00000000e+00 6.71639373e-06 0.00000000e+00\n",
            " 0.00000000e+00 0.00000000e+00 1.25100826e-06 2.51068195e-05\n",
            " 1.54018217e-05 0.00000000e+00 0.00000000e+00 1.85031986e-05]\n",
            "Mutation Rate: 0.0004893408040516078\n",
            "\n",
            "Loss: 39.446275299572164\n",
            "\n"
          ]
        }
      ],
      "source": [
        "deep_history = deep_optimizer.fit()"
      ],
      "id": "5qnwWFHV3cBh"
    },
    {
      "cell_type": "markdown",
      "metadata": {
        "id": "us31MVMe3cBh"
      },
      "source": [
        "Plotting"
      ],
      "id": "us31MVMe3cBh"
    },
    {
      "cell_type": "code",
      "execution_count": 68,
      "metadata": {
        "id": "3qipdgU53cBi"
      },
      "outputs": [],
      "source": [
        "with open(vanilla_history, 'r') as f:\n",
        "    vanilla_history = json.load(f)\n",
        "with open(deep_history, 'r') as f:\n",
        "    deep_history = json.load(f)"
      ],
      "id": "3qipdgU53cBi"
    },
    {
      "cell_type": "code",
      "execution_count": 69,
      "metadata": {
        "colab": {
          "base_uri": "https://localhost:8080/",
          "height": 545
        },
        "id": "71jZcty63cBj",
        "outputId": "b5bb7cf4-4384-4aa1-8343-0ef1f816bc63"
      },
      "outputs": [
        {
          "output_type": "display_data",
          "data": {
            "text/plain": [
              "<Figure size 1000x600 with 1 Axes>"
            ],
            "image/png": "[encoded data removed]"
          },
          "metadata": {}
        }
      ],
      "source": [
        "plot_histories(vanilla_history, deep_history, '120-cities-d16.png')"
      ],
      "id": "71jZcty63cBj"
    },
    {
      "cell_type": "markdown",
      "metadata": {
        "id": "xxve4chf3KsO"
      },
      "source": [
        "## Trial 7 : 120-Nodes TSP, 32 depth"
      ],
      "id": "xxve4chf3KsO"
    },
    {
      "cell_type": "code",
      "source": [
        "DEPTH = 32"
      ],
      "metadata": {
        "id": "ofsd-Gab3KsP"
      },
      "execution_count": 70,
      "outputs": [],
      "id": "ofsd-Gab3KsP"
    },
    {
      "cell_type": "markdown",
      "metadata": {
        "id": "5kJGHCzs3KsP"
      },
      "source": [
        "Setup:"
      ],
      "id": "5kJGHCzs3KsP"
    },
    {
      "cell_type": "code",
      "execution_count": 71,
      "metadata": {
        "id": "5yteAO8F3KsP"
      },
      "outputs": [],
      "source": [
        "tsp_p = TSP(cities=120)  # TSP problem\n",
        "# optimizers\n",
        "vanilla_optimizer = Optimizer(tsp_p, mode=OptimizerMode.VANILLA, device=DEVICE, verbose=False)\n",
        "deep_optimizer = Optimizer(tsp_p, mode=OptimizerMode.MLP, depth=DEPTH, device=DEVICE, verbose=False)"
      ],
      "id": "5yteAO8F3KsP"
    },
    {
      "cell_type": "markdown",
      "metadata": {
        "id": "TnfHp3tn3KsP"
      },
      "source": [
        "Vanilla Optimization"
      ],
      "id": "TnfHp3tn3KsP"
    },
    {
      "cell_type": "code",
      "execution_count": 72,
      "metadata": {
        "colab": {
          "base_uri": "https://localhost:8080/"
        },
        "id": "WzKCjXd73KsP",
        "outputId": "a38bef45-9f8c-44d4-9ad8-8e93be888823"
      },
      "outputs": [
        {
          "output_type": "stream",
          "name": "stdout",
          "text": [
            "Initialized EA: 10000 population, 50 elites, VANILLA mode.\n",
            "Stopping Condition: loss delta less than 1e-06 for 20 generations.\n",
            "\n",
            "Problem Type: Travelling Salesman\n",
            "Parameters: 120 cities, NORMAL distribution\n",
            "\n",
            "Evolving\n",
            ".............................................................................................................................................................................................................................................................................................\n",
            "Convergence reached:\n",
            "\n",
            "Results written to /content/[13-04-2023-10:44:22]-history.json.\n",
            "\n",
            "Current Generation: 285\n",
            "\n",
            "Best Candidate:\n",
            "Sequence: [111  58  42  35  66  31   7  38  53  65 101  10  83 117  40  34  59  70\n",
            "  63 109  78  72  96 102   8 107 100  14  45  15 119  74  87  55  22 108\n",
            "  99  41  90  73  16  98  27  57  94  77  79  68  91  93  13  61  28   2\n",
            "  54  84 106  89   5  60 110 114 115  92 116 105 103  21  20  39  30  26\n",
            "  25   3  82  64  23  88   0   4  29  18  32  19  17  48  62  97  95  44\n",
            " 104  37  52  67  12  71  24  85  49 112  69   9   6  36 118  47  76  51\n",
            "  81  11  56  80  50  33  75  43  86   1 113  46]\n",
            "Fitness(Loss): -43.1003\n",
            "Crossover Probs: None\n",
            "Mutation Rate: None\n",
            "\n",
            "Loss: 43.100299262647994\n",
            "\n"
          ]
        }
      ],
      "source": [
        "vanilla_history = vanilla_optimizer.fit()"
      ],
      "id": "WzKCjXd73KsP"
    },
    {
      "cell_type": "markdown",
      "metadata": {
        "id": "JmEp7ipC3KsP"
      },
      "source": [
        "Deep Optimization"
      ],
      "id": "JmEp7ipC3KsP"
    },
    {
      "cell_type": "code",
      "execution_count": 73,
      "metadata": {
        "colab": {
          "base_uri": "https://localhost:8080/"
        },
        "id": "X4yu9-ml3KsQ",
        "outputId": "05610124-6187-4cd5-a48f-68f0a4298c26"
      },
      "outputs": [
        {
          "output_type": "stream",
          "name": "stdout",
          "text": [
            "Initialized EA: 10000 population, 50 elites, MLP mode.\n",
            "Stopping Condition: loss delta less than 1e-06 for 20 generations.\n",
            "\n",
            "Problem Type: Travelling Salesman\n",
            "Parameters: 120 cities, NORMAL distribution\n",
            "\n",
            "Evolving\n",
            "............................................................................................................................................\n",
            "Convergence reached:\n",
            "\n",
            "Results written to /content/[13-04-2023-11:03:16]-history.json.\n",
            "\n",
            "Current Generation: 139\n",
            "\n",
            "Best Candidate:\n",
            "Sequence: [ 50  75  85  12  71  24  30  39   3   5  92 115   4 114  60 110  18  29\n",
            "  62  19  35  53  46 113  86  43  37  95 104  44  42  58  52  32   0  97\n",
            "  31   7  38  66  17  48  70  59  72  78  63 109  96   8  41  99  22  87\n",
            " 108  47  76  55  74  15 119   6  81  27  98  79  68  93  28  61  13  91\n",
            "  57  11  36  51 118  73  16  90 102 107 100  14  45  83 117  40   1  10\n",
            "  34 101  65 111  67  88  82  25  26  23  64  89   2  54  84 116 106 105\n",
            "  20 103 112  21  49  94  69  77   9  56  80  33]\n",
            "Fitness(Loss): -51.5148\n",
            "Crossover Probs: [1.82911990e-05 4.92073195e-06 1.57507147e-05 1.24717553e-05\n",
            " 0.00000000e+00 9.79747074e-06 0.00000000e+00 9.17406305e-06\n",
            " 0.00000000e+00 7.12364181e-06 0.00000000e+00 0.00000000e+00\n",
            " 0.00000000e+00 0.00000000e+00 5.26916574e-06 0.00000000e+00\n",
            " 4.20586957e-06 8.90351748e-06 3.47982723e-06 1.99991888e-07\n",
            " 2.87506100e-05 2.91581746e-05 1.11373192e-05 2.48452816e-05\n",
            " 0.00000000e+00 3.88932358e-06 3.36349922e-06 0.00000000e+00\n",
            " 0.00000000e+00 8.90234060e-06 0.00000000e+00 2.16386816e-05\n",
            " 3.04095065e-05 0.00000000e+00 5.60022363e-06 8.65490892e-06\n",
            " 3.98650354e-06 4.56781572e-06 3.59301739e-05 4.98547979e-06\n",
            " 0.00000000e+00 1.84709988e-05 2.21500741e-05 0.00000000e+00\n",
            " 2.20470356e-05 1.24504795e-05 1.54062000e-05 0.00000000e+00\n",
            " 0.00000000e+00 2.39616620e-05 0.00000000e+00 0.00000000e+00\n",
            " 2.80370587e-05 0.00000000e+00 0.00000000e+00 0.00000000e+00\n",
            " 3.20695435e-05 0.00000000e+00 1.51708500e-05 0.00000000e+00\n",
            " 2.09155078e-05 8.07471497e-06 1.20410887e-05 0.00000000e+00\n",
            " 0.00000000e+00 3.18355815e-05 0.00000000e+00 0.00000000e+00\n",
            " 0.00000000e+00 1.89313560e-05 0.00000000e+00 3.02523790e-06\n",
            " 1.13508186e-05 0.00000000e+00 2.12255763e-05 0.00000000e+00\n",
            " 5.93998629e-06 0.00000000e+00 0.00000000e+00 2.52821837e-06\n",
            " 0.00000000e+00 1.99960432e-05 0.00000000e+00 0.00000000e+00\n",
            " 0.00000000e+00 0.00000000e+00 5.79570440e-07 0.00000000e+00\n",
            " 2.68824010e-06 8.80675907e-06 0.00000000e+00 0.00000000e+00\n",
            " 2.87274252e-05 0.00000000e+00 2.98680357e-06 0.00000000e+00\n",
            " 2.49930636e-05 0.00000000e+00 2.25926433e-05 1.02293188e-05\n",
            " 2.95771442e-05 1.04302035e-05 0.00000000e+00 4.27977920e-06\n",
            " 0.00000000e+00 5.04968784e-06 3.02381031e-05 0.00000000e+00\n",
            " 0.00000000e+00 1.81600772e-05 1.74831057e-05 2.94044767e-05\n",
            " 0.00000000e+00 1.23214750e-05 1.34339052e-05 1.77992551e-05\n",
            " 5.26181248e-06 0.00000000e+00 1.43686511e-05 1.95526991e-05\n",
            " 0.00000000e+00 3.56796045e-06 0.00000000e+00 4.33519654e-06\n",
            " 2.48712749e-05 1.81367377e-05 0.00000000e+00 8.75606020e-06\n",
            " 3.52432544e-05 0.00000000e+00 4.53878602e-06 1.46433968e-05\n",
            " 0.00000000e+00 1.30970930e-05 0.00000000e+00 0.00000000e+00\n",
            " 1.69716968e-05 0.00000000e+00 2.28757635e-05 0.00000000e+00\n",
            " 0.00000000e+00 0.00000000e+00 2.46026048e-05 0.00000000e+00\n",
            " 1.95977827e-05 7.55949122e-06 0.00000000e+00 8.30354929e-06\n",
            " 0.00000000e+00 0.00000000e+00 1.83997254e-05 0.00000000e+00\n",
            " 0.00000000e+00 0.00000000e+00 2.55012164e-05 0.00000000e+00\n",
            " 3.04085279e-05 1.55363978e-05 2.72658726e-05 0.00000000e+00\n",
            " 8.49588650e-06 2.48107808e-05 6.48548030e-06 0.00000000e+00\n",
            " 1.79638864e-05 0.00000000e+00 0.00000000e+00 0.00000000e+00\n",
            " 1.43511370e-05 0.00000000e+00 0.00000000e+00 0.00000000e+00\n",
            " 0.00000000e+00 0.00000000e+00 0.00000000e+00 0.00000000e+00\n",
            " 2.34211820e-05 0.00000000e+00 0.00000000e+00 1.20049197e-06\n",
            " 7.80916253e-06 0.00000000e+00 0.00000000e+00 0.00000000e+00\n",
            " 2.16749486e-05 0.00000000e+00 2.43270024e-05 1.50891528e-05\n",
            " 0.00000000e+00 2.86468785e-05 0.00000000e+00 0.00000000e+00\n",
            " 0.00000000e+00 0.00000000e+00 1.68253609e-05 1.53576020e-05\n",
            " 0.00000000e+00 3.68263645e-05 0.00000000e+00 2.43060877e-05\n",
            " 0.00000000e+00 0.00000000e+00 0.00000000e+00 0.00000000e+00\n",
            " 0.00000000e+00 0.00000000e+00 8.29589953e-06 0.00000000e+00\n",
            " 8.43182715e-06 2.04750140e-05 1.37250636e-05 0.00000000e+00\n",
            " 3.70446251e-05 0.00000000e+00 6.01776946e-06 3.20109648e-05\n",
            " 2.00944451e-05 0.00000000e+00 1.89499533e-05 1.30228400e-05\n",
            " 8.44081228e-07 0.00000000e+00 0.00000000e+00 1.70541007e-05\n",
            " 2.25727981e-05 4.01649413e-06 1.79903054e-05 1.73957706e-05\n",
            " 2.96570124e-05 0.00000000e+00 2.27194723e-05 0.00000000e+00\n",
            " 6.34071876e-06 1.24523694e-05 2.06414970e-05 0.00000000e+00\n",
            " 0.00000000e+00 8.60451746e-06 7.07399113e-06 2.76472088e-06]\n",
            "Mutation Rate: 0.0004969480796717107\n",
            "\n",
            "Loss: 51.51480330852272\n",
            "\n"
          ]
        }
      ],
      "source": [
        "deep_history = deep_optimizer.fit()"
      ],
      "id": "X4yu9-ml3KsQ"
    },
    {
      "cell_type": "markdown",
      "metadata": {
        "id": "td-n6ZVc3KsQ"
      },
      "source": [
        "Plotting"
      ],
      "id": "td-n6ZVc3KsQ"
    },
    {
      "cell_type": "code",
      "execution_count": 74,
      "metadata": {
        "id": "T3VOHHF13KsQ"
      },
      "outputs": [],
      "source": [
        "with open(vanilla_history, 'r') as f:\n",
        "    vanilla_history = json.load(f)\n",
        "with open(deep_history, 'r') as f:\n",
        "    deep_history = json.load(f)"
      ],
      "id": "T3VOHHF13KsQ"
    },
    {
      "cell_type": "code",
      "execution_count": 75,
      "metadata": {
        "colab": {
          "base_uri": "https://localhost:8080/",
          "height": 545
        },
        "id": "T7royfLB3KsQ",
        "outputId": "af5639ff-95a0-453d-e520-0d7716c01b94"
      },
      "outputs": [
        {
          "output_type": "display_data",
          "data": {
            "text/plain": [
              "<Figure size 1000x600 with 1 Axes>"
            ],
            "image/png": "[encoded data removed]"
          },
          "metadata": {}
        }
      ],
      "source": [
        "plot_histories(vanilla_history, deep_history, '120-cities-d32.png')"
      ],
      "id": "T7royfLB3KsQ"
    },
    {
      "cell_type": "code",
      "source": [],
      "metadata": {
        "id": "HjAsT3rfjjeo"
      },
      "id": "HjAsT3rfjjeo",
      "execution_count": 75,
      "outputs": []
    },
    {
      "cell_type": "code",
      "source": [],
      "metadata": {
        "id": "IOPOUXUYjj4l"
      },
      "id": "IOPOUXUYjj4l",
      "execution_count": 75,
      "outputs": []
    }
  ],
  "metadata": {
    "kernelspec": {
      "display_name": "Python 3 (ipykernel)",
      "language": "python",
      "name": "python3"
    },
    "language_info": {
      "codemirror_mode": {
        "name": "ipython",
        "version": 3
      },
      "file_extension": ".py",
      "mimetype": "text/x-python",
      "name": "python",
      "nbconvert_exporter": "python",
      "pygments_lexer": "ipython3",
      "version": "3.8.2"
    },
    "colab": {
      "provenance": [],
      "toc_visible": true
    },
    "accelerator": "GPU",
    "gpuClass": "standard"
  },
  "nbformat": 4,
  "nbformat_minor": 5
}